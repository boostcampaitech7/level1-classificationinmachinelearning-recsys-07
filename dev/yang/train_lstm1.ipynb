{
 "cells": [
  {
   "cell_type": "markdown",
   "metadata": {},
   "source": [
    "# Train - LSTM\n",
    "\n",
    "\n",
    "리더보드 ACC: 0.3821\n",
    "\n",
    "reference: https://arxiv.org/pdf/2311.06280"
   ]
  },
  {
   "cell_type": "code",
   "execution_count": 1,
   "metadata": {},
   "outputs": [
    {
     "name": "stdout",
     "output_type": "stream",
     "text": [
      "device:  cuda\n"
     ]
    }
   ],
   "source": [
    "import os\n",
    "import numpy as np \n",
    "import pandas as pd\n",
    "import matplotlib.pyplot as plt\n",
    "import seaborn as sns\n",
    "\n",
    "import torch\n",
    "import torch.nn as nn\n",
    "from torch.utils.data import Dataset, DataLoader\n",
    "import torch.nn.functional as F\n",
    "\n",
    "# import lightgbm as lgb\n",
    "# from xgboost import XGBClassifier\n",
    "\n",
    "from glob import glob\n",
    "from tqdm import tqdm\n",
    "from boruta import BorutaPy\n",
    "\n",
    "from sklearn.model_selection import train_test_split\n",
    "from sklearn.metrics import accuracy_score\n",
    "from sklearn.metrics import confusion_matrix\n",
    "from sklearn.preprocessing import RobustScaler\n",
    "from sklearn.ensemble import RandomForestRegressor\n",
    "from sklearn.ensemble import RandomForestClassifier\n",
    "\n",
    "\n",
    "import warnings\n",
    "warnings.filterwarnings(action='ignore')\n",
    "\n",
    "\n",
    "\n",
    "def random_seed(seed=42):\n",
    "    torch.manual_seed(seed)\n",
    "    torch.cuda.manual_seed(seed)\n",
    "    torch.backends.cudnn.deterministic = True\n",
    "    torch.backends.cudnn.benchmark = False\n",
    "    np.random.seed(seed)\n",
    "    \n",
    "    return True\n",
    "random_seed(seed=42)\n",
    "\n",
    "\n",
    "device = torch.device(\"cuda\" if torch.cuda.is_available() else \"cpu\")\n",
    "print(\"device: \", device)"
   ]
  },
  {
   "cell_type": "markdown",
   "metadata": {},
   "source": [
    "## Data"
   ]
  },
  {
   "cell_type": "code",
   "execution_count": 2,
   "metadata": {},
   "outputs": [
    {
     "name": "stdout",
     "output_type": "stream",
     "text": [
      "data shape:  (11552, 509)\n",
      "train shape:  (8760, 508)\n",
      "test shape:  (2792, 508)\n"
     ]
    }
   ],
   "source": [
    "''' \n",
    "train_df = train_label + train_data\n",
    "test_df = test_label + test_data\n",
    "\n",
    "all_df = all_label + all_data\n",
    "'''\n",
    "\n",
    "dir_path = \"/data/ephemeral/home/data\"\n",
    "\n",
    "data_path = \"./data.csv\"\n",
    "all_df = pd.read_csv(data_path)\n",
    "\n",
    "train_df = all_df.loc[all_df[\"_type\"]==\"train\"].drop(columns=[\"_type\"])\n",
    "test_df = all_df.loc[all_df[\"_type\"]==\"test\"].drop(columns=[\"_type\"])\n",
    "print(\"data shape: \", all_df.shape)\n",
    "print(\"train shape: \", train_df.shape)\n",
    "print(\"test shape: \", test_df.shape)"
   ]
  },
  {
   "cell_type": "code",
   "execution_count": null,
   "metadata": {},
   "outputs": [],
   "source": []
  },
  {
   "cell_type": "markdown",
   "metadata": {},
   "source": [
    "## Feature Selection"
   ]
  },
  {
   "cell_type": "code",
   "execution_count": 3,
   "metadata": {},
   "outputs": [],
   "source": [
    "# 특성 선택 함수\n",
    "def select_features(X, y, n_features=50):\n",
    "    rf = RandomForestRegressor(n_estimators=100, random_state=42)\n",
    "    rf.fit(X, y)\n",
    "    feature_importance = pd.DataFrame({\n",
    "        'feature': X.columns,\n",
    "        'importance': rf.feature_importances_\n",
    "    }).sort_values('importance', ascending=False)\n",
    "    return feature_importance.head(n_features)['feature'].tolist()"
   ]
  },
  {
   "cell_type": "code",
   "execution_count": 4,
   "metadata": {},
   "outputs": [],
   "source": [
    "# x = train_df.drop(columns=['ID', 'target'])\n",
    "# y = train_df['target']\n",
    "# print(\"X: \", x.shape)\n",
    "# print(\"Y: \", y.shape)\n",
    "\n",
    "# # selected_features = select_features(x, y)\n",
    "# selected_features = ['open_interest_rolling_std_2', 'receiver_count_shift_10', 'sender_count_shift_10', 'funding_rates_rolling_std_2', 'sender_count_rolling_std_2', \n",
    "#                    'funding_rates_rolling_std_3', 'receiver_count_rolling_std_2', 'funding_rates_shift_10', 'volume_diff_rolling_std_2', 'open_interest_rolling_std_3']\n",
    "# # selected_features = x.columns.tolist()\n",
    "# print(len(selected_features))\n",
    "\n",
    "# x = train_df.drop(columns=['ID', 'target'])[selected_features]\n",
    "# y = train_df['target']\n",
    "# print(\"X: \", x.shape)\n",
    "# print(\"Y: \", y.shape)\n"
   ]
  },
  {
   "cell_type": "code",
   "execution_count": null,
   "metadata": {},
   "outputs": [],
   "source": []
  },
  {
   "cell_type": "code",
   "execution_count": 5,
   "metadata": {},
   "outputs": [
    {
     "name": "stdout",
     "output_type": "stream",
     "text": [
      "X:  (8760, 506)\n",
      "Y:  (8760,)\n",
      "Iteration: 1 / 100\n",
      "Iteration: 2 / 100\n",
      "Iteration: 3 / 100\n",
      "Iteration: 4 / 100\n",
      "Iteration: 5 / 100\n",
      "Iteration: 6 / 100\n",
      "Iteration: 7 / 100\n",
      "Iteration: 8 / 100\n",
      "Iteration: 9 / 100\n",
      "Iteration: 10 / 100\n",
      "Iteration: 11 / 100\n",
      "Iteration: 12 / 100\n",
      "Iteration: 13 / 100\n",
      "Iteration: 14 / 100\n",
      "Iteration: 15 / 100\n",
      "Iteration: 16 / 100\n",
      "Iteration: 17 / 100\n",
      "Iteration: 18 / 100\n",
      "Iteration: 19 / 100\n",
      "Iteration: 20 / 100\n",
      "Iteration: 21 / 100\n",
      "Iteration: 22 / 100\n",
      "Iteration: 23 / 100\n",
      "Iteration: 24 / 100\n",
      "Iteration: 25 / 100\n",
      "Iteration: 26 / 100\n",
      "Iteration: 27 / 100\n",
      "Iteration: 28 / 100\n",
      "Iteration: 29 / 100\n",
      "Iteration: 30 / 100\n",
      "Iteration: 31 / 100\n",
      "Iteration: 32 / 100\n",
      "Iteration: 33 / 100\n",
      "Iteration: 34 / 100\n",
      "Iteration: 35 / 100\n",
      "Iteration: 36 / 100\n",
      "Iteration: 37 / 100\n",
      "Iteration: 38 / 100\n",
      "Iteration: 39 / 100\n",
      "Iteration: 40 / 100\n",
      "Iteration: 41 / 100\n",
      "Iteration: 42 / 100\n",
      "Iteration: 43 / 100\n",
      "Iteration: 44 / 100\n",
      "Iteration: 45 / 100\n",
      "Iteration: 46 / 100\n",
      "Iteration: 47 / 100\n",
      "Iteration: 48 / 100\n",
      "Iteration: 49 / 100\n",
      "Iteration: 50 / 100\n",
      "Iteration: 51 / 100\n",
      "Iteration: 52 / 100\n",
      "Iteration: 53 / 100\n",
      "Iteration: 54 / 100\n",
      "Iteration: 55 / 100\n",
      "Iteration: 56 / 100\n",
      "Iteration: 57 / 100\n",
      "Iteration: 58 / 100\n",
      "Iteration: 59 / 100\n",
      "Iteration: 60 / 100\n",
      "Iteration: 61 / 100\n",
      "Iteration: 62 / 100\n",
      "Iteration: 63 / 100\n",
      "Iteration: 64 / 100\n",
      "Iteration: 65 / 100\n",
      "Iteration: 66 / 100\n",
      "Iteration: 67 / 100\n",
      "Iteration: 68 / 100\n",
      "Iteration: 69 / 100\n",
      "Iteration: 70 / 100\n",
      "Iteration: 71 / 100\n",
      "Iteration: 72 / 100\n",
      "Iteration: 73 / 100\n",
      "Iteration: 74 / 100\n",
      "Iteration: 75 / 100\n",
      "Iteration: 76 / 100\n",
      "Iteration: 77 / 100\n",
      "Iteration: 78 / 100\n",
      "Iteration: 79 / 100\n",
      "Iteration: 80 / 100\n",
      "Iteration: 81 / 100\n",
      "Iteration: 82 / 100\n",
      "Iteration: 83 / 100\n",
      "Iteration: 84 / 100\n",
      "Iteration: 85 / 100\n",
      "Iteration: 86 / 100\n",
      "Iteration: 87 / 100\n",
      "Iteration: 88 / 100\n",
      "Iteration: 89 / 100\n",
      "Iteration: 90 / 100\n",
      "Iteration: 91 / 100\n",
      "Iteration: 92 / 100\n",
      "Iteration: 93 / 100\n",
      "Iteration: 94 / 100\n",
      "Iteration: 95 / 100\n",
      "Iteration: 96 / 100\n",
      "Iteration: 97 / 100\n",
      "Iteration: 98 / 100\n",
      "Iteration: 99 / 100\n",
      "\n",
      "\n",
      "BorutaPy finished running.\n",
      "\n",
      "Iteration: \t100 / 100\n",
      "Confirmed: \t52\n",
      "Tentative: \t7\n",
      "Rejected: \t447\n",
      "선택된 특성: ['open_interest', 'buy_volume', 'sell_volume', 'short_liquidations_rolling_mean_2', 'short_liquidations_usd_rolling_mean_2', 'short_liquidations_usd_rolling_mean_5', 'open_interest_rolling_mean_1', 'open_interest_rolling_mean_2', 'open_interest_rolling_std_2', 'open_interest_rolling_mean_3', 'open_interest_rolling_mean_4', 'open_interest_rolling_mean_5', 'open_interest_rolling_mean_6', 'open_interest_rolling_mean_7', 'open_interest_rolling_mean_8', 'open_interest_rolling_mean_9', 'open_interest_rolling_mean_10', 'buy_volume_rolling_mean_1', 'buy_volume_rolling_mean_2', 'buy_volume_rolling_std_2', 'buy_volume_rolling_mean_3', 'buy_volume_rolling_std_3', 'buy_volume_rolling_mean_4', 'buy_volume_rolling_std_4', 'buy_volume_rolling_mean_5', 'buy_volume_rolling_std_5', 'buy_volume_rolling_mean_6', 'buy_volume_rolling_std_6', 'buy_volume_rolling_mean_7', 'buy_volume_rolling_std_7', 'buy_volume_rolling_mean_8', 'buy_volume_rolling_std_8', 'buy_volume_rolling_mean_9', 'buy_volume_rolling_mean_10', 'sell_volume_rolling_mean_1', 'sell_volume_rolling_mean_2', 'sell_volume_rolling_mean_3', 'sell_volume_rolling_std_3', 'sell_volume_rolling_mean_4', 'sell_volume_rolling_std_4', 'sell_volume_rolling_mean_5', 'sell_volume_rolling_std_5', 'sell_volume_rolling_mean_6', 'sell_volume_rolling_std_6', 'sell_volume_rolling_mean_7', 'sell_volume_rolling_std_7', 'sell_volume_rolling_mean_8', 'sell_volume_rolling_std_8', 'sell_volume_rolling_mean_9', 'sell_volume_rolling_std_9', 'sell_volume_rolling_mean_10', 'open_interest_shift_10']\n",
      "특성 순위: [('coinbase_premium_gap', np.int64(100)), ('coinbase_premium_index', np.int64(4)), ('funding_rates', np.int64(153)), ('long_liquidations', np.int64(12)), ('long_liquidations_usd', np.int64(12)), ('short_liquidations', np.int64(60)), ('short_liquidations_usd', np.int64(18)), ('open_interest', np.int64(1)), ('buy_ratio', np.int64(193)), ('buy_sell_ratio', np.int64(229)), ('buy_volume', np.int64(1)), ('sell_ratio', np.int64(202)), ('sell_volume', np.int64(1)), ('active_count', np.int64(305)), ('receiver_count', np.int64(267)), ('sender_count', np.int64(272)), ('liquidation_diff', np.int64(79)), ('liquidation_usd_diff', np.int64(66)), ('volume_diff', np.int64(7)), ('liquidation_diffg', np.int64(413)), ('liquidation_usd_diffg', np.int64(408)), ('volume_diffg', np.int64(425)), ('buy_sell_volume_ratio', np.int64(202)), ('coinbase_premium_gap_rolling_mean_1', np.int64(2)), ('coinbase_premium_gap_rolling_std_1', np.int64(438)), ('coinbase_premium_gap_rolling_mean_2', np.int64(87)), ('coinbase_premium_gap_rolling_std_2', np.int64(196)), ('coinbase_premium_gap_rolling_mean_3', np.int64(96)), ('coinbase_premium_gap_rolling_std_3', np.int64(140)), ('coinbase_premium_gap_rolling_mean_4', np.int64(62)), ('coinbase_premium_gap_rolling_std_4', np.int64(141)), ('coinbase_premium_gap_rolling_mean_5', np.int64(69)), ('coinbase_premium_gap_rolling_std_5', np.int64(126)), ('coinbase_premium_gap_rolling_mean_6', np.int64(4)), ('coinbase_premium_gap_rolling_std_6', np.int64(82)), ('coinbase_premium_gap_rolling_mean_7', np.int64(64)), ('coinbase_premium_gap_rolling_std_7', np.int64(120)), ('coinbase_premium_gap_rolling_mean_8', np.int64(2)), ('coinbase_premium_gap_rolling_std_8', np.int64(135)), ('coinbase_premium_gap_rolling_mean_9', np.int64(2)), ('coinbase_premium_gap_rolling_std_9', np.int64(114)), ('coinbase_premium_gap_rolling_mean_10', np.int64(3)), ('coinbase_premium_gap_rolling_std_10', np.int64(146)), ('coinbase_premium_index_rolling_mean_1', np.int64(92)), ('coinbase_premium_index_rolling_std_1', np.int64(438)), ('coinbase_premium_index_rolling_mean_2', np.int64(91)), ('coinbase_premium_index_rolling_std_2', np.int64(169)), ('coinbase_premium_index_rolling_mean_3', np.int64(62)), ('coinbase_premium_index_rolling_std_3', np.int64(149)), ('coinbase_premium_index_rolling_mean_4', np.int64(113)), ('coinbase_premium_index_rolling_std_4', np.int64(174)), ('coinbase_premium_index_rolling_mean_5', np.int64(68)), ('coinbase_premium_index_rolling_std_5', np.int64(151)), ('coinbase_premium_index_rolling_mean_6', np.int64(107)), ('coinbase_premium_index_rolling_std_6', np.int64(119)), ('coinbase_premium_index_rolling_mean_7', np.int64(65)), ('coinbase_premium_index_rolling_std_7', np.int64(156)), ('coinbase_premium_index_rolling_mean_8', np.int64(143)), ('coinbase_premium_index_rolling_std_8', np.int64(76)), ('coinbase_premium_index_rolling_mean_9', np.int64(81)), ('coinbase_premium_index_rolling_std_9', np.int64(98)), ('coinbase_premium_index_rolling_mean_10', np.int64(25)), ('coinbase_premium_index_rolling_std_10', np.int64(174)), ('funding_rates_rolling_mean_1', np.int64(164)), ('funding_rates_rolling_std_1', np.int64(438)), ('funding_rates_rolling_mean_2', np.int64(161)), ('funding_rates_rolling_std_2', np.int64(209)), ('funding_rates_rolling_mean_3', np.int64(133)), ('funding_rates_rolling_std_3', np.int64(158)), ('funding_rates_rolling_mean_4', np.int64(123)), ('funding_rates_rolling_std_4', np.int64(221)), ('funding_rates_rolling_mean_5', np.int64(9)), ('funding_rates_rolling_std_5', np.int64(258)), ('funding_rates_rolling_mean_6', np.int64(95)), ('funding_rates_rolling_std_6', np.int64(184)), ('funding_rates_rolling_mean_7', np.int64(86)), ('funding_rates_rolling_std_7', np.int64(183)), ('funding_rates_rolling_mean_8', np.int64(127)), ('funding_rates_rolling_std_8', np.int64(187)), ('funding_rates_rolling_mean_9', np.int64(14)), ('funding_rates_rolling_std_9', np.int64(190)), ('funding_rates_rolling_mean_10', np.int64(2)), ('funding_rates_rolling_std_10', np.int64(217)), ('long_liquidations_rolling_mean_1', np.int64(10)), ('long_liquidations_rolling_std_1', np.int64(438)), ('long_liquidations_rolling_mean_2', np.int64(161)), ('long_liquidations_rolling_std_2', np.int64(190)), ('long_liquidations_rolling_mean_3', np.int64(245)), ('long_liquidations_rolling_std_3', np.int64(279)), ('long_liquidations_rolling_mean_4', np.int64(216)), ('long_liquidations_rolling_std_4', np.int64(268)), ('long_liquidations_rolling_mean_5', np.int64(122)), ('long_liquidations_rolling_std_5', np.int64(174)), ('long_liquidations_rolling_mean_6', np.int64(105)), ('long_liquidations_rolling_std_6', np.int64(21)), ('long_liquidations_rolling_mean_7', np.int64(215)), ('long_liquidations_rolling_std_7', np.int64(153)), ('long_liquidations_rolling_mean_8', np.int64(196)), ('long_liquidations_rolling_std_8', np.int64(128)), ('long_liquidations_rolling_mean_9', np.int64(178)), ('long_liquidations_rolling_std_9', np.int64(189)), ('long_liquidations_rolling_mean_10', np.int64(193)), ('long_liquidations_rolling_std_10', np.int64(182)), ('long_liquidations_usd_rolling_mean_1', np.int64(15)), ('long_liquidations_usd_rolling_std_1', np.int64(438)), ('long_liquidations_usd_rolling_mean_2', np.int64(112)), ('long_liquidations_usd_rolling_std_2', np.int64(181)), ('long_liquidations_usd_rolling_mean_3', np.int64(185)), ('long_liquidations_usd_rolling_std_3', np.int64(163)), ('long_liquidations_usd_rolling_mean_4', np.int64(232)), ('long_liquidations_usd_rolling_std_4', np.int64(238)), ('long_liquidations_usd_rolling_mean_5', np.int64(192)), ('long_liquidations_usd_rolling_std_5', np.int64(150)), ('long_liquidations_usd_rolling_mean_6', np.int64(39)), ('long_liquidations_usd_rolling_std_6', np.int64(55)), ('long_liquidations_usd_rolling_mean_7', np.int64(96)), ('long_liquidations_usd_rolling_std_7', np.int64(110)), ('long_liquidations_usd_rolling_mean_8', np.int64(133)), ('long_liquidations_usd_rolling_std_8', np.int64(199)), ('long_liquidations_usd_rolling_mean_9', np.int64(138)), ('long_liquidations_usd_rolling_std_9', np.int64(147)), ('long_liquidations_usd_rolling_mean_10', np.int64(116)), ('long_liquidations_usd_rolling_std_10', np.int64(252)), ('short_liquidations_rolling_mean_1', np.int64(49)), ('short_liquidations_rolling_std_1', np.int64(438)), ('short_liquidations_rolling_mean_2', np.int64(1)), ('short_liquidations_rolling_std_2', np.int64(17)), ('short_liquidations_rolling_mean_3', np.int64(19)), ('short_liquidations_rolling_std_3', np.int64(72)), ('short_liquidations_rolling_mean_4', np.int64(27)), ('short_liquidations_rolling_std_4', np.int64(56)), ('short_liquidations_rolling_mean_5', np.int64(22)), ('short_liquidations_rolling_std_5', np.int64(102)), ('short_liquidations_rolling_mean_6', np.int64(52)), ('short_liquidations_rolling_std_6', np.int64(176)), ('short_liquidations_rolling_mean_7', np.int64(93)), ('short_liquidations_rolling_std_7', np.int64(235)), ('short_liquidations_rolling_mean_8', np.int64(206)), ('short_liquidations_rolling_std_8', np.int64(298)), ('short_liquidations_rolling_mean_9', np.int64(209)), ('short_liquidations_rolling_std_9', np.int64(325)), ('short_liquidations_rolling_mean_10', np.int64(240)), ('short_liquidations_rolling_std_10', np.int64(263)), ('short_liquidations_usd_rolling_mean_1', np.int64(32)), ('short_liquidations_usd_rolling_std_1', np.int64(438)), ('short_liquidations_usd_rolling_mean_2', np.int64(1)), ('short_liquidations_usd_rolling_std_2', np.int64(12)), ('short_liquidations_usd_rolling_mean_3', np.int64(20)), ('short_liquidations_usd_rolling_std_3', np.int64(107)), ('short_liquidations_usd_rolling_mean_4', np.int64(34)), ('short_liquidations_usd_rolling_std_4', np.int64(54)), ('short_liquidations_usd_rolling_mean_5', np.int64(1)), ('short_liquidations_usd_rolling_std_5', np.int64(136)), ('short_liquidations_usd_rolling_mean_6', np.int64(46)), ('short_liquidations_usd_rolling_std_6', np.int64(266)), ('short_liquidations_usd_rolling_mean_7', np.int64(43)), ('short_liquidations_usd_rolling_std_7', np.int64(285)), ('short_liquidations_usd_rolling_mean_8', np.int64(103)), ('short_liquidations_usd_rolling_std_8', np.int64(331)), ('short_liquidations_usd_rolling_mean_9', np.int64(156)), ('short_liquidations_usd_rolling_std_9', np.int64(302)), ('short_liquidations_usd_rolling_mean_10', np.int64(249)), ('short_liquidations_usd_rolling_std_10', np.int64(272)), ('open_interest_rolling_mean_1', np.int64(1)), ('open_interest_rolling_std_1', np.int64(438)), ('open_interest_rolling_mean_2', np.int64(1)), ('open_interest_rolling_std_2', np.int64(1)), ('open_interest_rolling_mean_3', np.int64(1)), ('open_interest_rolling_std_3', np.int64(26)), ('open_interest_rolling_mean_4', np.int64(1)), ('open_interest_rolling_std_4', np.int64(15)), ('open_interest_rolling_mean_5', np.int64(1)), ('open_interest_rolling_std_5', np.int64(24)), ('open_interest_rolling_mean_6', np.int64(1)), ('open_interest_rolling_std_6', np.int64(22)), ('open_interest_rolling_mean_7', np.int64(1)), ('open_interest_rolling_std_7', np.int64(29)), ('open_interest_rolling_mean_8', np.int64(1)), ('open_interest_rolling_std_8', np.int64(45)), ('open_interest_rolling_mean_9', np.int64(1)), ('open_interest_rolling_std_9', np.int64(71)), ('open_interest_rolling_mean_10', np.int64(1)), ('open_interest_rolling_std_10', np.int64(137)), ('buy_ratio_rolling_mean_1', np.int64(222)), ('buy_ratio_rolling_std_1', np.int64(438)), ('buy_ratio_rolling_mean_2', np.int64(238)), ('buy_ratio_rolling_std_2', np.int64(248)), ('buy_ratio_rolling_mean_3', np.int64(329)), ('buy_ratio_rolling_std_3', np.int64(288)), ('buy_ratio_rolling_mean_4', np.int64(320)), ('buy_ratio_rolling_std_4', np.int64(131)), ('buy_ratio_rolling_mean_5', np.int64(302)), ('buy_ratio_rolling_std_5', np.int64(32)), ('buy_ratio_rolling_mean_6', np.int64(285)), ('buy_ratio_rolling_std_6', np.int64(52)), ('buy_ratio_rolling_mean_7', np.int64(225)), ('buy_ratio_rolling_std_7', np.int64(38)), ('buy_ratio_rolling_mean_8', np.int64(230)), ('buy_ratio_rolling_std_8', np.int64(42)), ('buy_ratio_rolling_mean_9', np.int64(282)), ('buy_ratio_rolling_std_9', np.int64(35)), ('buy_ratio_rolling_mean_10', np.int64(166)), ('buy_ratio_rolling_std_10', np.int64(115)), ('buy_sell_ratio_rolling_mean_1', np.int64(238)), ('buy_sell_ratio_rolling_std_1', np.int64(438)), ('buy_sell_ratio_rolling_mean_2', np.int64(200)), ('buy_sell_ratio_rolling_std_2', np.int64(234)), ('buy_sell_ratio_rolling_mean_3', np.int64(346)), ('buy_sell_ratio_rolling_std_3', np.int64(141)), ('buy_sell_ratio_rolling_mean_4', np.int64(242)), ('buy_sell_ratio_rolling_std_4', np.int64(110)), ('buy_sell_ratio_rolling_mean_5', np.int64(356)), ('buy_sell_ratio_rolling_std_5', np.int64(74)), ('buy_sell_ratio_rolling_mean_6', np.int64(301)), ('buy_sell_ratio_rolling_std_6', np.int64(47)), ('buy_sell_ratio_rolling_mean_7', np.int64(204)), ('buy_sell_ratio_rolling_std_7', np.int64(77)), ('buy_sell_ratio_rolling_mean_8', np.int64(326)), ('buy_sell_ratio_rolling_std_8', np.int64(49)), ('buy_sell_ratio_rolling_mean_9', np.int64(280)), ('buy_sell_ratio_rolling_std_9', np.int64(2)), ('buy_sell_ratio_rolling_mean_10', np.int64(155)), ('buy_sell_ratio_rolling_std_10', np.int64(67)), ('buy_volume_rolling_mean_1', np.int64(1)), ('buy_volume_rolling_std_1', np.int64(438)), ('buy_volume_rolling_mean_2', np.int64(1)), ('buy_volume_rolling_std_2', np.int64(1)), ('buy_volume_rolling_mean_3', np.int64(1)), ('buy_volume_rolling_std_3', np.int64(1)), ('buy_volume_rolling_mean_4', np.int64(1)), ('buy_volume_rolling_std_4', np.int64(1)), ('buy_volume_rolling_mean_5', np.int64(1)), ('buy_volume_rolling_std_5', np.int64(1)), ('buy_volume_rolling_mean_6', np.int64(1)), ('buy_volume_rolling_std_6', np.int64(1)), ('buy_volume_rolling_mean_7', np.int64(1)), ('buy_volume_rolling_std_7', np.int64(1)), ('buy_volume_rolling_mean_8', np.int64(1)), ('buy_volume_rolling_std_8', np.int64(1)), ('buy_volume_rolling_mean_9', np.int64(1)), ('buy_volume_rolling_std_9', np.int64(28)), ('buy_volume_rolling_mean_10', np.int64(1)), ('buy_volume_rolling_std_10', np.int64(49)), ('sell_ratio_rolling_mean_1', np.int64(196)), ('sell_ratio_rolling_std_1', np.int64(438)), ('sell_ratio_rolling_mean_2', np.int64(274)), ('sell_ratio_rolling_std_2', np.int64(244)), ('sell_ratio_rolling_mean_3', np.int64(320)), ('sell_ratio_rolling_std_3', np.int64(206)), ('sell_ratio_rolling_mean_4', np.int64(233)), ('sell_ratio_rolling_std_4', np.int64(144)), ('sell_ratio_rolling_mean_5', np.int64(209)), ('sell_ratio_rolling_std_5', np.int64(35)), ('sell_ratio_rolling_mean_6', np.int64(332)), ('sell_ratio_rolling_std_6', np.int64(37)), ('sell_ratio_rolling_mean_7', np.int64(226)), ('sell_ratio_rolling_std_7', np.int64(2)), ('sell_ratio_rolling_mean_8', np.int64(257)), ('sell_ratio_rolling_std_8', np.int64(40)), ('sell_ratio_rolling_mean_9', np.int64(227)), ('sell_ratio_rolling_std_9', np.int64(73)), ('sell_ratio_rolling_mean_10', np.int64(235)), ('sell_ratio_rolling_std_10', np.int64(74)), ('sell_volume_rolling_mean_1', np.int64(1)), ('sell_volume_rolling_std_1', np.int64(438)), ('sell_volume_rolling_mean_2', np.int64(1)), ('sell_volume_rolling_std_2', np.int64(44)), ('sell_volume_rolling_mean_3', np.int64(1)), ('sell_volume_rolling_std_3', np.int64(1)), ('sell_volume_rolling_mean_4', np.int64(1)), ('sell_volume_rolling_std_4', np.int64(1)), ('sell_volume_rolling_mean_5', np.int64(1)), ('sell_volume_rolling_std_5', np.int64(1)), ('sell_volume_rolling_mean_6', np.int64(1)), ('sell_volume_rolling_std_6', np.int64(1)), ('sell_volume_rolling_mean_7', np.int64(1)), ('sell_volume_rolling_std_7', np.int64(1)), ('sell_volume_rolling_mean_8', np.int64(1)), ('sell_volume_rolling_std_8', np.int64(1)), ('sell_volume_rolling_mean_9', np.int64(1)), ('sell_volume_rolling_std_9', np.int64(1)), ('sell_volume_rolling_mean_10', np.int64(1)), ('sell_volume_rolling_std_10', np.int64(31)), ('active_count_rolling_mean_1', np.int64(316)), ('active_count_rolling_std_1', np.int64(438)), ('active_count_rolling_mean_2', np.int64(265)), ('active_count_rolling_std_2', np.int64(180)), ('active_count_rolling_mean_3', np.int64(330)), ('active_count_rolling_std_3', np.int64(256)), ('active_count_rolling_mean_4', np.int64(360)), ('active_count_rolling_std_4', np.int64(322)), ('active_count_rolling_mean_5', np.int64(307)), ('active_count_rolling_std_5', np.int64(322)), ('active_count_rolling_mean_6', np.int64(264)), ('active_count_rolling_std_6', np.int64(336)), ('active_count_rolling_mean_7', np.int64(359)), ('active_count_rolling_std_7', np.int64(362)), ('active_count_rolling_mean_8', np.int64(339)), ('active_count_rolling_std_8', np.int64(335)), ('active_count_rolling_mean_9', np.int64(282)), ('active_count_rolling_std_9', np.int64(358)), ('active_count_rolling_mean_10', np.int64(342)), ('active_count_rolling_std_10', np.int64(350)), ('receiver_count_rolling_mean_1', np.int64(337)), ('receiver_count_rolling_std_1', np.int64(438)), ('receiver_count_rolling_mean_2', np.int64(341)), ('receiver_count_rolling_std_2', np.int64(304)), ('receiver_count_rolling_mean_3', np.int64(327)), ('receiver_count_rolling_std_3', np.int64(295)), ('receiver_count_rolling_mean_4', np.int64(345)), ('receiver_count_rolling_std_4', np.int64(311)), ('receiver_count_rolling_mean_5', np.int64(280)), ('receiver_count_rolling_std_5', np.int64(245)), ('receiver_count_rolling_mean_6', np.int64(314)), ('receiver_count_rolling_std_6', np.int64(313)), ('receiver_count_rolling_mean_7', np.int64(333)), ('receiver_count_rolling_std_7', np.int64(315)), ('receiver_count_rolling_mean_8', np.int64(344)), ('receiver_count_rolling_std_8', np.int64(274)), ('receiver_count_rolling_mean_9', np.int64(305)), ('receiver_count_rolling_std_9', np.int64(309)), ('receiver_count_rolling_mean_10', np.int64(270)), ('receiver_count_rolling_std_10', np.int64(224)), ('sender_count_rolling_mean_1', np.int64(269)), ('sender_count_rolling_std_1', np.int64(438)), ('sender_count_rolling_mean_2', np.int64(212)), ('sender_count_rolling_std_2', np.int64(125)), ('sender_count_rolling_mean_3', np.int64(230)), ('sender_count_rolling_std_3', np.int64(289)), ('sender_count_rolling_mean_4', np.int64(351)), ('sender_count_rolling_std_4', np.int64(254)), ('sender_count_rolling_mean_5', np.int64(352)), ('sender_count_rolling_std_5', np.int64(317)), ('sender_count_rolling_mean_6', np.int64(320)), ('sender_count_rolling_std_6', np.int64(292)), ('sender_count_rolling_mean_7', np.int64(342)), ('sender_count_rolling_std_7', np.int64(349)), ('sender_count_rolling_mean_8', np.int64(339)), ('sender_count_rolling_std_8', np.int64(334)), ('sender_count_rolling_mean_9', np.int64(272)), ('sender_count_rolling_std_9', np.int64(277)), ('sender_count_rolling_mean_10', np.int64(294)), ('sender_count_rolling_std_10', np.int64(261)), ('liquidation_diff_rolling_mean_1', np.int64(29)), ('liquidation_diff_rolling_std_1', np.int64(438)), ('liquidation_diff_rolling_mean_2', np.int64(159)), ('liquidation_diff_rolling_std_2', np.int64(51)), ('liquidation_diff_rolling_mean_3', np.int64(211)), ('liquidation_diff_rolling_std_3', np.int64(84)), ('liquidation_diff_rolling_mean_4', np.int64(260)), ('liquidation_diff_rolling_std_4', np.int64(88)), ('liquidation_diff_rolling_mean_5', np.int64(276)), ('liquidation_diff_rolling_std_5', np.int64(147)), ('liquidation_diff_rolling_mean_6', np.int64(241)), ('liquidation_diff_rolling_std_6', np.int64(171)), ('liquidation_diff_rolling_mean_7', np.int64(200)), ('liquidation_diff_rolling_std_7', np.int64(106)), ('liquidation_diff_rolling_mean_8', np.int64(300)), ('liquidation_diff_rolling_std_8', np.int64(298)), ('liquidation_diff_rolling_mean_9', np.int64(290)), ('liquidation_diff_rolling_std_9', np.int64(292)), ('liquidation_diff_rolling_mean_10', np.int64(309)), ('liquidation_diff_rolling_std_10', np.int64(354)), ('liquidation_usd_diff_rolling_mean_1', np.int64(104)), ('liquidation_usd_diff_rolling_std_1', np.int64(438)), ('liquidation_usd_diff_rolling_mean_2', np.int64(109)), ('liquidation_usd_diff_rolling_std_2', np.int64(58)), ('liquidation_usd_diff_rolling_mean_3', np.int64(172)), ('liquidation_usd_diff_rolling_std_3', np.int64(90)), ('liquidation_usd_diff_rolling_mean_4', np.int64(222)), ('liquidation_usd_diff_rolling_std_4', np.int64(61)), ('liquidation_usd_diff_rolling_mean_5', np.int64(227)), ('liquidation_usd_diff_rolling_std_5', np.int64(79)), ('liquidation_usd_diff_rolling_mean_6', np.int64(307)), ('liquidation_usd_diff_rolling_std_6', np.int64(58)), ('liquidation_usd_diff_rolling_mean_7', np.int64(278)), ('liquidation_usd_diff_rolling_std_7', np.int64(165)), ('liquidation_usd_diff_rolling_mean_8', np.int64(348)), ('liquidation_usd_diff_rolling_std_8', np.int64(218)), ('liquidation_usd_diff_rolling_mean_9', np.int64(324)), ('liquidation_usd_diff_rolling_std_9', np.int64(285)), ('liquidation_usd_diff_rolling_mean_10', np.int64(354)), ('liquidation_usd_diff_rolling_std_10', np.int64(188)), ('volume_diff_rolling_mean_1', np.int64(7)), ('volume_diff_rolling_std_1', np.int64(438)), ('volume_diff_rolling_mean_2', np.int64(145)), ('volume_diff_rolling_std_2', np.int64(124)), ('volume_diff_rolling_mean_3', np.int64(138)), ('volume_diff_rolling_std_3', np.int64(178)), ('volume_diff_rolling_mean_4', np.int64(160)), ('volume_diff_rolling_std_4', np.int64(85)), ('volume_diff_rolling_mean_5', np.int64(130)), ('volume_diff_rolling_std_5', np.int64(100)), ('volume_diff_rolling_mean_6', np.int64(167)), ('volume_diff_rolling_std_6', np.int64(128)), ('volume_diff_rolling_mean_7', np.int64(170)), ('volume_diff_rolling_std_7', np.int64(77)), ('volume_diff_rolling_mean_8', np.int64(249)), ('volume_diff_rolling_std_8', np.int64(177)), ('volume_diff_rolling_mean_9', np.int64(220)), ('volume_diff_rolling_std_9', np.int64(252)), ('volume_diff_rolling_mean_10', np.int64(89)), ('volume_diff_rolling_std_10', np.int64(261)), ('liquidation_diffg_rolling_mean_1', np.int64(385)), ('liquidation_diffg_rolling_std_1', np.int64(438)), ('liquidation_diffg_rolling_mean_2', np.int64(402)), ('liquidation_diffg_rolling_std_2', np.int64(422)), ('liquidation_diffg_rolling_mean_3', np.int64(414)), ('liquidation_diffg_rolling_std_3', np.int64(419)), ('liquidation_diffg_rolling_mean_4', np.int64(391)), ('liquidation_diffg_rolling_std_4', np.int64(404)), ('liquidation_diffg_rolling_mean_5', np.int64(365)), ('liquidation_diffg_rolling_std_5', np.int64(404)), ('liquidation_diffg_rolling_mean_6', np.int64(396)), ('liquidation_diffg_rolling_std_6', np.int64(392)), ('liquidation_diffg_rolling_mean_7', np.int64(376)), ('liquidation_diffg_rolling_std_7', np.int64(400)), ('liquidation_diffg_rolling_mean_8', np.int64(380)), ('liquidation_diffg_rolling_std_8', np.int64(378)), ('liquidation_diffg_rolling_mean_9', np.int64(377)), ('liquidation_diffg_rolling_std_9', np.int64(378)), ('liquidation_diffg_rolling_mean_10', np.int64(374)), ('liquidation_diffg_rolling_std_10', np.int64(368)), ('liquidation_usd_diffg_rolling_mean_1', np.int64(406)), ('liquidation_usd_diffg_rolling_std_1', np.int64(438)), ('liquidation_usd_diffg_rolling_mean_2', np.int64(416)), ('liquidation_usd_diffg_rolling_std_2', np.int64(423)), ('liquidation_usd_diffg_rolling_mean_3', np.int64(383)), ('liquidation_usd_diffg_rolling_std_3', np.int64(415)), ('liquidation_usd_diffg_rolling_mean_4', np.int64(381)), ('liquidation_usd_diffg_rolling_std_4', np.int64(385)), ('liquidation_usd_diffg_rolling_mean_5', np.int64(369)), ('liquidation_usd_diffg_rolling_std_5', np.int64(395)), ('liquidation_usd_diffg_rolling_mean_6', np.int64(388)), ('liquidation_usd_diffg_rolling_std_6', np.int64(399)), ('liquidation_usd_diffg_rolling_mean_7', np.int64(373)), ('liquidation_usd_diffg_rolling_std_7', np.int64(385)), ('liquidation_usd_diffg_rolling_mean_8', np.int64(381)), ('liquidation_usd_diffg_rolling_std_8', np.int64(388)), ('liquidation_usd_diffg_rolling_mean_9', np.int64(366)), ('liquidation_usd_diffg_rolling_std_9', np.int64(394)), ('liquidation_usd_diffg_rolling_mean_10', np.int64(392)), ('liquidation_usd_diffg_rolling_std_10', np.int64(370)), ('volume_diffg_rolling_mean_1', np.int64(421)), ('volume_diffg_rolling_std_1', np.int64(438)), ('volume_diffg_rolling_mean_2', np.int64(409)), ('volume_diffg_rolling_std_2', np.int64(417)), ('volume_diffg_rolling_mean_3', np.int64(402)), ('volume_diffg_rolling_std_3', np.int64(424)), ('volume_diffg_rolling_mean_4', np.int64(372)), ('volume_diffg_rolling_std_4', np.int64(406)), ('volume_diffg_rolling_mean_5', np.int64(387)), ('volume_diffg_rolling_std_5', np.int64(418)), ('volume_diffg_rolling_mean_6', np.int64(397)), ('volume_diffg_rolling_std_6', np.int64(410)), ('volume_diffg_rolling_mean_7', np.int64(366)), ('volume_diffg_rolling_std_7', np.int64(397)), ('volume_diffg_rolling_mean_8', np.int64(375)), ('volume_diffg_rolling_std_8', np.int64(402)), ('volume_diffg_rolling_mean_9', np.int64(371)), ('volume_diffg_rolling_std_9', np.int64(410)), ('volume_diffg_rolling_mean_10', np.int64(364)), ('volume_diffg_rolling_std_10', np.int64(390)), ('buy_sell_volume_ratio_rolling_mean_1', np.int64(243)), ('buy_sell_volume_ratio_rolling_std_1', np.int64(438)), ('buy_sell_volume_ratio_rolling_mean_2', np.int64(247)), ('buy_sell_volume_ratio_rolling_std_2', np.int64(198)), ('buy_sell_volume_ratio_rolling_mean_3', np.int64(347)), ('buy_sell_volume_ratio_rolling_std_3', np.int64(152)), ('buy_sell_volume_ratio_rolling_mean_4', np.int64(252)), ('buy_sell_volume_ratio_rolling_std_4', np.int64(69)), ('buy_sell_volume_ratio_rolling_mean_5', np.int64(296)), ('buy_sell_volume_ratio_rolling_std_5', np.int64(7)), ('buy_sell_volume_ratio_rolling_mean_6', np.int64(296)), ('buy_sell_volume_ratio_rolling_std_6', np.int64(82)), ('buy_sell_volume_ratio_rolling_mean_7', np.int64(186)), ('buy_sell_volume_ratio_rolling_std_7', np.int64(57)), ('buy_sell_volume_ratio_rolling_mean_8', np.int64(259)), ('buy_sell_volume_ratio_rolling_std_8', np.int64(40)), ('buy_sell_volume_ratio_rolling_mean_9', np.int64(219)), ('buy_sell_volume_ratio_rolling_std_9', np.int64(2)), ('buy_sell_volume_ratio_rolling_mean_10', np.int64(121)), ('buy_sell_volume_ratio_rolling_std_10', np.int64(116)), ('coinbase_premium_gap_shift_10', np.int64(167)), ('coinbase_premium_index_shift_10', np.int64(94)), ('funding_rates_shift_10', np.int64(99)), ('long_liquidations_shift_10', np.int64(287)), ('long_liquidations_usd_shift_10', np.int64(255)), ('short_liquidations_shift_10', np.int64(361)), ('short_liquidations_usd_shift_10', np.int64(363)), ('open_interest_shift_10', np.int64(1)), ('buy_ratio_shift_10', np.int64(356)), ('buy_sell_ratio_shift_10', np.int64(339)), ('buy_volume_shift_10', np.int64(205)), ('sell_ratio_shift_10', np.int64(354)), ('sell_volume_shift_10', np.int64(118)), ('active_count_shift_10', np.int64(213)), ('receiver_count_shift_10', np.int64(213)), ('sender_count_shift_10', np.int64(131)), ('liquidation_diff_shift_10', np.int64(291)), ('liquidation_usd_diff_shift_10', np.int64(311)), ('volume_diff_shift_10', np.int64(318)), ('liquidation_diffg_shift_10', np.int64(420)), ('liquidation_usd_diffg_shift_10', np.int64(412)), ('volume_diffg_shift_10', np.int64(425)), ('buy_sell_volume_ratio_shift_10', np.int64(328))]\n",
      "원본 특성 수: 506\n",
      "선택된 특성 수: 52\n",
      "X:  (8760, 52)\n",
      "Y:  (8760,)\n"
     ]
    }
   ],
   "source": [
    "x = train_df.drop(columns=['ID', 'target'])\n",
    "y = train_df['target']\n",
    "print(\"X: \", x.shape)\n",
    "print(\"Y: \", y.shape)\n",
    "\n",
    "\n",
    "# Random Forest 분류기 초기화\n",
    "rf = RandomForestClassifier(n_jobs=-1, class_weight='balanced', max_depth=5, random_state=42)\n",
    "\n",
    "# Boruta 특성 선택기 초기화\n",
    "boruta_selector = BorutaPy(\n",
    "    rf, \n",
    "    n_estimators='auto', \n",
    "    verbose=1, \n",
    "    random_state=42\n",
    ")\n",
    "\n",
    "# Boruta 실행\n",
    "boruta_selector.fit(x.values, y)\n",
    "\n",
    "# 선택된 특성 확인\n",
    "selected_features = x.columns[boruta_selector.support_].tolist()\n",
    "print(\"선택된 특성:\", selected_features)\n",
    "\n",
    "# 선택된 특성의 순위 확인\n",
    "feature_ranks = list(zip(x.columns, boruta_selector.ranking_))\n",
    "print(\"특성 순위:\", feature_ranks)\n",
    "\n",
    "# 선택된 특성만 포함하는 새로운 데이터셋 생성\n",
    "X_selected = boruta_selector.transform(x.values)\n",
    "print(\"원본 특성 수:\", x.shape[1])\n",
    "print(\"선택된 특성 수:\", X_selected.shape[1])\n",
    "\n",
    "\n",
    "x = train_df.drop(columns=['ID', 'target'])[selected_features]\n",
    "y = train_df['target']\n",
    "print(\"X: \", x.shape)\n",
    "print(\"Y: \", y.shape)\n"
   ]
  },
  {
   "cell_type": "code",
   "execution_count": null,
   "metadata": {},
   "outputs": [],
   "source": []
  },
  {
   "cell_type": "code",
   "execution_count": 6,
   "metadata": {},
   "outputs": [],
   "source": [
    "class CoinDataset(Dataset):\n",
    "    def __init__(self, x, y):\n",
    "        self.x = torch.FloatTensor(x)\n",
    "        self.y = torch.LongTensor(y.values)\n",
    "\n",
    "    def __len__(self):\n",
    "        return len(self.x)\n",
    "\n",
    "    def __getitem__(self, idx):\n",
    "        xx = self.x[idx]\n",
    "        yy = self.y[idx]\n",
    "\n",
    "        return xx, yy\n"
   ]
  },
  {
   "cell_type": "code",
   "execution_count": 7,
   "metadata": {},
   "outputs": [
    {
     "name": "stdout",
     "output_type": "stream",
     "text": [
      "X:  (8760, 52)\n",
      "Y:  (8760,)\n",
      "Train:  (7008, 52) (7008,)\n",
      "Val:  (1752, 52) (1752,)\n",
      "train:  7008\n",
      "target\n",
      "2.0    2937\n",
      "1.0    2835\n",
      "3.0     644\n",
      "0.0     592\n",
      "Name: count, dtype: int64\n",
      "val:  1752\n",
      "target\n",
      "2.0    734\n",
      "1.0    709\n",
      "3.0    161\n",
      "0.0    148\n",
      "Name: count, dtype: int64\n"
     ]
    }
   ],
   "source": [
    "\n",
    "x = train_df.drop(columns=['ID', 'target'])[selected_features]\n",
    "y = train_df['target']\n",
    "print(\"X: \", x.shape)\n",
    "print(\"Y: \", y.shape)\n",
    "\n",
    "x_train, x_val, y_train, y_val = train_test_split(x, y, test_size=0.2, shuffle=True, random_state=42, stratify=y)\n",
    "print(\"Train: \", x_train.shape, y_train.shape)\n",
    "print(\"Val: \", x_val.shape, y_val.shape)\n",
    "\n",
    "scale = RobustScaler()\n",
    "x_train = scale.fit_transform(x_train)\n",
    "x_val = scale.transform(x_val)\n",
    "\n",
    "train_dataset = CoinDataset(x_train, y_train)\n",
    "val_dataset = CoinDataset(x_val, y_val)\n",
    "\n",
    "print(\"train: \", len(train_dataset))\n",
    "print(y_train.value_counts())\n",
    "\n",
    "print(\"val: \", len(val_dataset))\n",
    "print(y_val.value_counts())\n",
    "\n",
    "batch_size = 1\n",
    "train_dataloader = DataLoader(train_dataset, batch_size=batch_size, shuffle=True)\n",
    "val_dataloader = DataLoader(val_dataset, batch_size=batch_size, shuffle=False)\n"
   ]
  },
  {
   "cell_type": "code",
   "execution_count": null,
   "metadata": {},
   "outputs": [],
   "source": []
  },
  {
   "cell_type": "code",
   "execution_count": 8,
   "metadata": {},
   "outputs": [],
   "source": [
    "# Bi-LSTM 모델 정의\n",
    "class BiLSTMModel(nn.Module):\n",
    "    def __init__(self, input_size, hidden_size, num_layers, dropout):\n",
    "        super(BiLSTMModel, self).__init__()\n",
    "        self.lstm1 = nn.LSTM(input_size, hidden_size, num_layers, batch_first=True, bidirectional=True)\n",
    "        self.dropout1 = nn.Dropout(dropout)\n",
    "        self.lstm2 = nn.LSTM(hidden_size*2, hidden_size, num_layers, batch_first=True, bidirectional=True)\n",
    "        self.dropout2 = nn.Dropout(dropout)\n",
    "        self.fc = nn.Linear(hidden_size*2, 4)\n",
    "        self.relu = nn.ReLU()\n",
    "\n",
    "    def forward(self, x):\n",
    "        out, _ = self.lstm1(x)\n",
    "        out = self.relu(out)\n",
    "        out = self.dropout1(out)\n",
    "\n",
    "        out, _ = self.lstm2(out)\n",
    "        out = self.relu(out)\n",
    "        out = self.dropout2(out)\n",
    "\n",
    "        out = self.fc(out)\n",
    "        \n",
    "        return out\n"
   ]
  },
  {
   "cell_type": "code",
   "execution_count": 9,
   "metadata": {},
   "outputs": [],
   "source": [
    "epochs = 50\n",
    "learning_rate = 1e-5\n",
    "\n",
    "\n",
    "input_size = len(selected_features)\n",
    "hidden_size = 64\n",
    "num_layers = 2\n",
    "dropout = 0.2\n",
    "\n",
    "model = BiLSTMModel(input_size, hidden_size, num_layers, dropout)\n",
    "model.to(device)\n",
    "\n",
    "criterion = nn.CrossEntropyLoss()\n",
    "optimizer = torch.optim.Adam(model.parameters(), lr=learning_rate)"
   ]
  },
  {
   "cell_type": "code",
   "execution_count": null,
   "metadata": {},
   "outputs": [],
   "source": []
  },
  {
   "cell_type": "markdown",
   "metadata": {},
   "source": [
    "## Train"
   ]
  },
  {
   "cell_type": "code",
   "execution_count": 10,
   "metadata": {},
   "outputs": [
    {
     "name": "stdout",
     "output_type": "stream",
     "text": [
      "Start Train...\n"
     ]
    },
    {
     "name": "stderr",
     "output_type": "stream",
     "text": [
      "  2%|▏         | 1/50 [00:44<36:23, 44.55s/it]"
     ]
    },
    {
     "name": "stdout",
     "output_type": "stream",
     "text": [
      "Model Save\n",
      "Epoch: 1/50, train loss: 1.322967767715454, val loss: 1.2556993961334229\n"
     ]
    },
    {
     "name": "stderr",
     "output_type": "stream",
     "text": [
      "  4%|▍         | 2/50 [01:29<35:53, 44.86s/it]"
     ]
    },
    {
     "name": "stdout",
     "output_type": "stream",
     "text": [
      "Model Save\n",
      "Epoch: 2/50, train loss: 1.1804289817810059, val loss: 1.146176815032959\n"
     ]
    },
    {
     "name": "stderr",
     "output_type": "stream",
     "text": [
      "  6%|▌         | 3/50 [02:14<35:13, 44.97s/it]"
     ]
    },
    {
     "name": "stdout",
     "output_type": "stream",
     "text": [
      "Model Save\n",
      "Epoch: 3/50, train loss: 1.1393526792526245, val loss: 1.1382489204406738\n"
     ]
    },
    {
     "name": "stderr",
     "output_type": "stream",
     "text": [
      "  8%|▊         | 4/50 [02:59<34:28, 44.97s/it]"
     ]
    },
    {
     "name": "stdout",
     "output_type": "stream",
     "text": [
      "Model Save\n",
      "Epoch: 4/50, train loss: 1.1326628923416138, val loss: 1.1361212730407715\n"
     ]
    },
    {
     "name": "stderr",
     "output_type": "stream",
     "text": [
      " 10%|█         | 5/50 [03:44<33:37, 44.84s/it]"
     ]
    },
    {
     "name": "stdout",
     "output_type": "stream",
     "text": [
      "Model Save\n",
      "Epoch: 5/50, train loss: 1.1302329301834106, val loss: 1.1351674795150757\n"
     ]
    },
    {
     "name": "stderr",
     "output_type": "stream",
     "text": [
      " 12%|█▏        | 6/50 [04:28<32:49, 44.75s/it]"
     ]
    },
    {
     "name": "stdout",
     "output_type": "stream",
     "text": [
      "Model Save\n",
      "Epoch: 6/50, train loss: 1.1280744075775146, val loss: 1.1344212293624878\n"
     ]
    },
    {
     "name": "stderr",
     "output_type": "stream",
     "text": [
      " 14%|█▍        | 7/50 [05:13<32:05, 44.79s/it]"
     ]
    },
    {
     "name": "stdout",
     "output_type": "stream",
     "text": [
      "Model Save\n",
      "Epoch: 7/50, train loss: 1.1283528804779053, val loss: 1.1340047121047974\n"
     ]
    },
    {
     "name": "stderr",
     "output_type": "stream",
     "text": [
      " 16%|█▌        | 8/50 [05:58<31:21, 44.79s/it]"
     ]
    },
    {
     "name": "stdout",
     "output_type": "stream",
     "text": [
      "Model Save\n",
      "Epoch: 8/50, train loss: 1.1252734661102295, val loss: 1.1336872577667236\n"
     ]
    },
    {
     "name": "stderr",
     "output_type": "stream",
     "text": [
      " 18%|█▊        | 9/50 [06:43<30:32, 44.70s/it]"
     ]
    },
    {
     "name": "stdout",
     "output_type": "stream",
     "text": [
      "Model Save\n",
      "Epoch: 9/50, train loss: 1.125553011894226, val loss: 1.1334030628204346\n"
     ]
    },
    {
     "name": "stderr",
     "output_type": "stream",
     "text": [
      " 20%|██        | 10/50 [07:27<29:50, 44.75s/it]"
     ]
    },
    {
     "name": "stdout",
     "output_type": "stream",
     "text": [
      "Model Save\n",
      "Epoch: 10/50, train loss: 1.1254976987838745, val loss: 1.1332895755767822\n"
     ]
    },
    {
     "name": "stderr",
     "output_type": "stream",
     "text": [
      " 22%|██▏       | 11/50 [08:12<29:04, 44.72s/it]"
     ]
    },
    {
     "name": "stdout",
     "output_type": "stream",
     "text": [
      "Model Save\n",
      "Epoch: 11/50, train loss: 1.1245230436325073, val loss: 1.1331367492675781\n"
     ]
    },
    {
     "name": "stderr",
     "output_type": "stream",
     "text": [
      " 24%|██▍       | 12/50 [08:57<28:17, 44.68s/it]"
     ]
    },
    {
     "name": "stdout",
     "output_type": "stream",
     "text": [
      "Model Save\n",
      "Epoch: 12/50, train loss: 1.1235311031341553, val loss: 1.1329095363616943\n"
     ]
    },
    {
     "name": "stderr",
     "output_type": "stream",
     "text": [
      " 26%|██▌       | 13/50 [09:41<27:31, 44.64s/it]"
     ]
    },
    {
     "name": "stdout",
     "output_type": "stream",
     "text": [
      "Model Save\n",
      "Epoch: 13/50, train loss: 1.1232059001922607, val loss: 1.132794976234436\n"
     ]
    },
    {
     "name": "stderr",
     "output_type": "stream",
     "text": [
      " 28%|██▊       | 14/50 [10:26<26:45, 44.60s/it]"
     ]
    },
    {
     "name": "stdout",
     "output_type": "stream",
     "text": [
      "Epoch: 14/50, train loss: 1.1226261854171753, val loss: 1.1328555345535278\n"
     ]
    },
    {
     "name": "stderr",
     "output_type": "stream",
     "text": [
      " 30%|███       | 15/50 [11:10<26:01, 44.63s/it]"
     ]
    },
    {
     "name": "stdout",
     "output_type": "stream",
     "text": [
      "Model Save\n",
      "Epoch: 15/50, train loss: 1.1225107908248901, val loss: 1.1325727701187134\n"
     ]
    },
    {
     "name": "stderr",
     "output_type": "stream",
     "text": [
      " 32%|███▏      | 16/50 [11:55<25:17, 44.63s/it]"
     ]
    },
    {
     "name": "stdout",
     "output_type": "stream",
     "text": [
      "Epoch: 16/50, train loss: 1.1236008405685425, val loss: 1.1328606605529785\n"
     ]
    },
    {
     "name": "stderr",
     "output_type": "stream",
     "text": [
      " 34%|███▍      | 17/50 [12:40<24:31, 44.59s/it]"
     ]
    },
    {
     "name": "stdout",
     "output_type": "stream",
     "text": [
      "Epoch: 17/50, train loss: 1.1220824718475342, val loss: 1.1327083110809326\n"
     ]
    },
    {
     "name": "stderr",
     "output_type": "stream",
     "text": [
      " 36%|███▌      | 18/50 [13:25<23:51, 44.72s/it]"
     ]
    },
    {
     "name": "stdout",
     "output_type": "stream",
     "text": [
      "Epoch: 18/50, train loss: 1.121764063835144, val loss: 1.1326019763946533\n"
     ]
    },
    {
     "name": "stderr",
     "output_type": "stream",
     "text": [
      " 38%|███▊      | 19/50 [14:10<23:09, 44.82s/it]"
     ]
    },
    {
     "name": "stdout",
     "output_type": "stream",
     "text": [
      "Model Save\n",
      "Epoch: 19/50, train loss: 1.1210089921951294, val loss: 1.1323773860931396\n"
     ]
    },
    {
     "name": "stderr",
     "output_type": "stream",
     "text": [
      " 40%|████      | 20/50 [14:55<22:26, 44.87s/it]"
     ]
    },
    {
     "name": "stdout",
     "output_type": "stream",
     "text": [
      "Model Save\n",
      "Epoch: 20/50, train loss: 1.122257947921753, val loss: 1.1321460008621216\n"
     ]
    },
    {
     "name": "stderr",
     "output_type": "stream",
     "text": [
      " 42%|████▏     | 21/50 [15:39<21:41, 44.88s/it]"
     ]
    },
    {
     "name": "stdout",
     "output_type": "stream",
     "text": [
      "Epoch: 21/50, train loss: 1.121502161026001, val loss: 1.1321625709533691\n"
     ]
    },
    {
     "name": "stderr",
     "output_type": "stream",
     "text": [
      " 44%|████▍     | 22/50 [16:24<20:52, 44.73s/it]"
     ]
    },
    {
     "name": "stdout",
     "output_type": "stream",
     "text": [
      "Epoch: 22/50, train loss: 1.1223030090332031, val loss: 1.1323256492614746\n"
     ]
    },
    {
     "name": "stderr",
     "output_type": "stream",
     "text": [
      " 46%|████▌     | 23/50 [17:08<20:06, 44.70s/it]"
     ]
    },
    {
     "name": "stdout",
     "output_type": "stream",
     "text": [
      "Model Save\n",
      "Epoch: 23/50, train loss: 1.1206495761871338, val loss: 1.1318751573562622\n"
     ]
    },
    {
     "name": "stderr",
     "output_type": "stream",
     "text": [
      " 48%|████▊     | 24/50 [17:53<19:20, 44.63s/it]"
     ]
    },
    {
     "name": "stdout",
     "output_type": "stream",
     "text": [
      "Epoch: 24/50, train loss: 1.120209813117981, val loss: 1.1321903467178345\n"
     ]
    },
    {
     "name": "stderr",
     "output_type": "stream",
     "text": [
      " 50%|█████     | 25/50 [18:37<18:33, 44.53s/it]"
     ]
    },
    {
     "name": "stdout",
     "output_type": "stream",
     "text": [
      "Model Save\n",
      "Epoch: 25/50, train loss: 1.1204231977462769, val loss: 1.131772756576538\n"
     ]
    },
    {
     "name": "stderr",
     "output_type": "stream",
     "text": [
      " 52%|█████▏    | 26/50 [19:22<17:47, 44.47s/it]"
     ]
    },
    {
     "name": "stdout",
     "output_type": "stream",
     "text": [
      "Model Save\n",
      "Epoch: 26/50, train loss: 1.1210163831710815, val loss: 1.1316744089126587\n"
     ]
    },
    {
     "name": "stderr",
     "output_type": "stream",
     "text": [
      " 54%|█████▍    | 27/50 [20:06<17:02, 44.44s/it]"
     ]
    },
    {
     "name": "stdout",
     "output_type": "stream",
     "text": [
      "Epoch: 27/50, train loss: 1.1194446086883545, val loss: 1.1319371461868286\n"
     ]
    },
    {
     "name": "stderr",
     "output_type": "stream",
     "text": [
      " 56%|█████▌    | 28/50 [20:50<16:17, 44.43s/it]"
     ]
    },
    {
     "name": "stdout",
     "output_type": "stream",
     "text": [
      "Model Save\n",
      "Epoch: 28/50, train loss: 1.1206636428833008, val loss: 1.131534457206726\n"
     ]
    },
    {
     "name": "stderr",
     "output_type": "stream",
     "text": [
      " 58%|█████▊    | 29/50 [21:35<15:33, 44.44s/it]"
     ]
    },
    {
     "name": "stdout",
     "output_type": "stream",
     "text": [
      "Epoch: 29/50, train loss: 1.1198769807815552, val loss: 1.1316558122634888\n"
     ]
    },
    {
     "name": "stderr",
     "output_type": "stream",
     "text": [
      " 60%|██████    | 30/50 [22:19<14:49, 44.48s/it]"
     ]
    },
    {
     "name": "stdout",
     "output_type": "stream",
     "text": [
      "Epoch: 30/50, train loss: 1.1184260845184326, val loss: 1.131569743156433\n"
     ]
    },
    {
     "name": "stderr",
     "output_type": "stream",
     "text": [
      " 62%|██████▏   | 31/50 [23:04<14:06, 44.55s/it]"
     ]
    },
    {
     "name": "stdout",
     "output_type": "stream",
     "text": [
      "Model Save\n",
      "Epoch: 31/50, train loss: 1.119046926498413, val loss: 1.1314220428466797\n"
     ]
    },
    {
     "name": "stderr",
     "output_type": "stream",
     "text": [
      " 64%|██████▍   | 32/50 [23:49<13:22, 44.56s/it]"
     ]
    },
    {
     "name": "stdout",
     "output_type": "stream",
     "text": [
      "Model Save\n",
      "Epoch: 32/50, train loss: 1.1178689002990723, val loss: 1.1312483549118042\n"
     ]
    },
    {
     "name": "stderr",
     "output_type": "stream",
     "text": [
      " 66%|██████▌   | 33/50 [24:33<12:37, 44.53s/it]"
     ]
    },
    {
     "name": "stdout",
     "output_type": "stream",
     "text": [
      "Epoch: 33/50, train loss: 1.1198738813400269, val loss: 1.1313652992248535\n"
     ]
    },
    {
     "name": "stderr",
     "output_type": "stream",
     "text": [
      " 68%|██████▊   | 34/50 [25:18<11:52, 44.54s/it]"
     ]
    },
    {
     "name": "stdout",
     "output_type": "stream",
     "text": [
      "Epoch: 34/50, train loss: 1.1179311275482178, val loss: 1.1315361261367798\n"
     ]
    },
    {
     "name": "stderr",
     "output_type": "stream",
     "text": [
      " 70%|███████   | 35/50 [26:02<11:08, 44.58s/it]"
     ]
    },
    {
     "name": "stdout",
     "output_type": "stream",
     "text": [
      "Epoch: 35/50, train loss: 1.117958664894104, val loss: 1.1316111087799072\n"
     ]
    },
    {
     "name": "stderr",
     "output_type": "stream",
     "text": [
      " 72%|███████▏  | 36/50 [26:47<10:23, 44.54s/it]"
     ]
    },
    {
     "name": "stdout",
     "output_type": "stream",
     "text": [
      "Epoch: 36/50, train loss: 1.1180862188339233, val loss: 1.131663203239441\n"
     ]
    },
    {
     "name": "stderr",
     "output_type": "stream",
     "text": [
      " 74%|███████▍  | 37/50 [27:31<09:39, 44.56s/it]"
     ]
    },
    {
     "name": "stdout",
     "output_type": "stream",
     "text": [
      "Epoch: 37/50, train loss: 1.1177626848220825, val loss: 1.1313823461532593\n"
     ]
    },
    {
     "name": "stderr",
     "output_type": "stream",
     "text": [
      " 76%|███████▌  | 38/50 [28:16<08:55, 44.59s/it]"
     ]
    },
    {
     "name": "stdout",
     "output_type": "stream",
     "text": [
      "Epoch: 38/50, train loss: 1.116622805595398, val loss: 1.1319838762283325\n"
     ]
    },
    {
     "name": "stderr",
     "output_type": "stream",
     "text": [
      " 78%|███████▊  | 39/50 [29:01<08:10, 44.60s/it]"
     ]
    },
    {
     "name": "stdout",
     "output_type": "stream",
     "text": [
      "Epoch: 39/50, train loss: 1.1166495084762573, val loss: 1.1317996978759766\n"
     ]
    },
    {
     "name": "stderr",
     "output_type": "stream",
     "text": [
      " 80%|████████  | 40/50 [29:45<07:25, 44.51s/it]"
     ]
    },
    {
     "name": "stdout",
     "output_type": "stream",
     "text": [
      "Epoch: 40/50, train loss: 1.1158795356750488, val loss: 1.1316890716552734\n"
     ]
    },
    {
     "name": "stderr",
     "output_type": "stream",
     "text": [
      " 82%|████████▏ | 41/50 [30:30<06:41, 44.59s/it]"
     ]
    },
    {
     "name": "stdout",
     "output_type": "stream",
     "text": [
      "Epoch: 41/50, train loss: 1.115624189376831, val loss: 1.1317399740219116\n"
     ]
    },
    {
     "name": "stderr",
     "output_type": "stream",
     "text": [
      " 84%|████████▍ | 42/50 [31:14<05:56, 44.60s/it]"
     ]
    },
    {
     "name": "stdout",
     "output_type": "stream",
     "text": [
      "Epoch: 42/50, train loss: 1.1168618202209473, val loss: 1.1312756538391113\n"
     ]
    },
    {
     "name": "stderr",
     "output_type": "stream",
     "text": [
      " 86%|████████▌ | 43/50 [31:59<05:11, 44.56s/it]"
     ]
    },
    {
     "name": "stdout",
     "output_type": "stream",
     "text": [
      "Epoch: 43/50, train loss: 1.114371418952942, val loss: 1.1318727731704712\n"
     ]
    },
    {
     "name": "stderr",
     "output_type": "stream",
     "text": [
      " 88%|████████▊ | 44/50 [32:43<04:27, 44.57s/it]"
     ]
    },
    {
     "name": "stdout",
     "output_type": "stream",
     "text": [
      "Model Save\n",
      "Epoch: 44/50, train loss: 1.1155407428741455, val loss: 1.1311002969741821\n"
     ]
    },
    {
     "name": "stderr",
     "output_type": "stream",
     "text": [
      " 90%|█████████ | 45/50 [33:28<03:43, 44.66s/it]"
     ]
    },
    {
     "name": "stdout",
     "output_type": "stream",
     "text": [
      "Model Save\n",
      "Epoch: 45/50, train loss: 1.1151396036148071, val loss: 1.1309094429016113\n"
     ]
    },
    {
     "name": "stderr",
     "output_type": "stream",
     "text": [
      " 92%|█████████▏| 46/50 [34:13<02:58, 44.62s/it]"
     ]
    },
    {
     "name": "stdout",
     "output_type": "stream",
     "text": [
      "Epoch: 46/50, train loss: 1.1153333187103271, val loss: 1.1311283111572266\n"
     ]
    },
    {
     "name": "stderr",
     "output_type": "stream",
     "text": [
      " 94%|█████████▍| 47/50 [34:58<02:13, 44.62s/it]"
     ]
    },
    {
     "name": "stdout",
     "output_type": "stream",
     "text": [
      "Epoch: 47/50, train loss: 1.1132797002792358, val loss: 1.131281852722168\n"
     ]
    },
    {
     "name": "stderr",
     "output_type": "stream",
     "text": [
      " 96%|█████████▌| 48/50 [35:42<01:29, 44.62s/it]"
     ]
    },
    {
     "name": "stdout",
     "output_type": "stream",
     "text": [
      "Epoch: 48/50, train loss: 1.1134161949157715, val loss: 1.131558895111084\n"
     ]
    },
    {
     "name": "stderr",
     "output_type": "stream",
     "text": [
      " 98%|█████████▊| 49/50 [36:27<00:44, 44.60s/it]"
     ]
    },
    {
     "name": "stdout",
     "output_type": "stream",
     "text": [
      "Epoch: 49/50, train loss: 1.1139333248138428, val loss: 1.1310904026031494\n"
     ]
    },
    {
     "name": "stderr",
     "output_type": "stream",
     "text": [
      "100%|██████████| 50/50 [37:11<00:00, 44.63s/it]"
     ]
    },
    {
     "name": "stdout",
     "output_type": "stream",
     "text": [
      "Epoch: 50/50, train loss: 1.112494945526123, val loss: 1.1311733722686768\n"
     ]
    },
    {
     "name": "stderr",
     "output_type": "stream",
     "text": [
      "\n"
     ]
    }
   ],
   "source": [
    "print(\"Start Train...\")\n",
    "min_loss = float('inf')\n",
    "train_loss_hist = []\n",
    "val_loss_hist = []\n",
    "for epoch in tqdm(range(epochs)):\n",
    "    model.train()\n",
    "    train_loss = 0\n",
    "    for inputs, labels in train_dataloader:\n",
    "        inputs = inputs.to(device)\n",
    "        labels = labels.to(device)\n",
    "    \n",
    "        optimizer.zero_grad()\n",
    "\n",
    "        outputs = model(inputs)\n",
    "\n",
    "        loss = criterion(outputs, labels)\n",
    "        train_loss += loss\n",
    "        loss.backward()\n",
    "        optimizer.step()\n",
    "    train_loss = train_loss / len(train_dataloader)\n",
    "\n",
    "    val_loss = 0\n",
    "    model.eval()\n",
    "    with torch.no_grad():\n",
    "        for inputs, labels in val_dataloader:\n",
    "            inputs = inputs.to(device)\n",
    "            labels = labels.to(device)\n",
    "\n",
    "            outputs = model(inputs)\n",
    "\n",
    "            loss = criterion(outputs, labels)\n",
    "            val_loss += loss\n",
    "\n",
    "        val_loss = val_loss / len(val_dataloader)\n",
    "\n",
    "    # Save model\n",
    "    if val_loss < min_loss:\n",
    "        print(\"Model Save\")\n",
    "        min_loss = val_loss\n",
    "        torch.save(model, f\"./models/lstm.pt\")\n",
    "\n",
    "    val_loss_hist.append(val_loss.cpu().detach().numpy())\n",
    "    train_loss_hist.append(train_loss.cpu().detach().numpy())\n",
    "    print(f\"Epoch: {epoch+1}/{epochs}, train loss: {train_loss}, val loss: {val_loss}\")\n",
    "\n"
   ]
  },
  {
   "cell_type": "code",
   "execution_count": 11,
   "metadata": {},
   "outputs": [
    {
     "data": {
      "image/png": "[encoded data removed]",
      "text/plain": [
       "<Figure size 1000x500 with 1 Axes>"
      ]
     },
     "metadata": {},
     "output_type": "display_data"
    }
   ],
   "source": [
    "# Plotting\n",
    "plt.figure(figsize=(10, 5))\n",
    "plt.plot(range(1, epochs+1), train_loss_hist, label='Train Loss', marker='o')\n",
    "plt.plot(range(1, epochs+1), val_loss_hist, label='Validation Loss', marker='o')\n",
    "plt.title('Train Loss vs Validation Loss')\n",
    "plt.xlabel('Epochs')\n",
    "plt.ylabel('Loss')\n",
    "plt.legend()\n",
    "plt.grid(True)\n",
    "plt.show()"
   ]
  },
  {
   "cell_type": "code",
   "execution_count": 12,
   "metadata": {},
   "outputs": [
    {
     "data": {
      "image/png": "[encoded data removed]",
      "text/plain": [
       "<Figure size 1000x800 with 2 Axes>"
      ]
     },
     "metadata": {},
     "output_type": "display_data"
    }
   ],
   "source": [
    "model = torch.load('./models/lstm.pt')\n",
    "model.eval() \n",
    "val_gt_lst = []\n",
    "val_pred_lst = []\n",
    "with torch.no_grad():\n",
    "    for inputs, labels in val_dataloader:\n",
    "        inputs = inputs.to(device)\n",
    "        labels = labels.to(device)\n",
    "\n",
    "        pred = model(inputs)\n",
    "        _, pred_class = torch.max(pred.data, 1)\n",
    "\n",
    "        val_gt_lst.append(labels.item())\n",
    "        val_pred_lst.append(pred_class.item())\n",
    "\n",
    "val_gt_lst = np.array(val_gt_lst)\n",
    "val_pred_lst = np.array(val_pred_lst)\n",
    "\n",
    "# Confusion Matrix 계산\n",
    "cm = confusion_matrix(val_gt_lst, val_pred_lst)\n",
    "\n",
    "# Confusion Matrix 시각화\n",
    "plt.figure(figsize=(10, 8))\n",
    "sns.heatmap(cm, annot=True, fmt='d', cmap='Blues')\n",
    "plt.title('Confusion Matrix')\n",
    "plt.xlabel('Predicted')\n",
    "plt.ylabel('True')\n",
    "plt.show()\n"
   ]
  },
  {
   "cell_type": "code",
   "execution_count": null,
   "metadata": {},
   "outputs": [],
   "source": []
  },
  {
   "cell_type": "markdown",
   "metadata": {},
   "source": [
    "## Test"
   ]
  },
  {
   "cell_type": "code",
   "execution_count": 13,
   "metadata": {},
   "outputs": [
    {
     "name": "stdout",
     "output_type": "stream",
     "text": [
      "test shape:  (2792, 508)\n",
      "test data shape:  (2792, 52)\n"
     ]
    },
    {
     "name": "stderr",
     "output_type": "stream",
     "text": [
      "100%|██████████| 2792/2792 [00:02<00:00, 1273.39it/s]\n"
     ]
    }
   ],
   "source": [
    "# load mode\n",
    "model = torch.load('./models/lstm.pt')\n",
    "model.eval() \n",
    "\n",
    "# test data\n",
    "test_df = all_df.loc[all_df[\"_type\"]==\"test\"].drop(columns=[\"_type\"])\n",
    "print(\"test shape: \", test_df.shape)\n",
    "\n",
    "test_data = test_df[selected_features].values\n",
    "test_data = scale.transform(test_data)\n",
    "print(\"test data shape: \", test_data.shape)\n",
    "\n",
    "pred_lst = []\n",
    "with torch.no_grad():\n",
    "    for data in tqdm(test_data):\n",
    "        data = torch.FloatTensor(data.reshape(1, -1)).to(device)\n",
    "\n",
    "        pred = model(data)\n",
    "        _, pred_class = torch.max(pred.data, 1)\n",
    "\n",
    "        pred_lst.append(pred_class.item())\n",
    "\n",
    "pred_lst = np.array(pred_lst)\n"
   ]
  },
  {
   "cell_type": "code",
   "execution_count": 14,
   "metadata": {},
   "outputs": [
    {
     "data": {
      "text/plain": [
       "array([2, 2, 2, ..., 1, 1, 1])"
      ]
     },
     "execution_count": 14,
     "metadata": {},
     "output_type": "execute_result"
    }
   ],
   "source": [
    "pred_lst"
   ]
  },
  {
   "cell_type": "code",
   "execution_count": 15,
   "metadata": {},
   "outputs": [
    {
     "name": "stdout",
     "output_type": "stream",
     "text": [
      "target\n",
      "2    2050\n",
      "1     688\n",
      "3      54\n",
      "Name: count, dtype: int64\n"
     ]
    },
    {
     "data": {
      "text/html": [
       "<div>\n",
       "<style scoped>\n",
       "    .dataframe tbody tr th:only-of-type {\n",
       "        vertical-align: middle;\n",
       "    }\n",
       "\n",
       "    .dataframe tbody tr th {\n",
       "        vertical-align: top;\n",
       "    }\n",
       "\n",
       "    .dataframe thead th {\n",
       "        text-align: right;\n",
       "    }\n",
       "</style>\n",
       "<table border=\"1\" class=\"dataframe\">\n",
       "  <thead>\n",
       "    <tr style=\"text-align: right;\">\n",
       "      <th></th>\n",
       "      <th>ID</th>\n",
       "      <th>target</th>\n",
       "    </tr>\n",
       "  </thead>\n",
       "  <tbody>\n",
       "    <tr>\n",
       "      <th>0</th>\n",
       "      <td>2024-01-01 00:00:00</td>\n",
       "      <td>2</td>\n",
       "    </tr>\n",
       "    <tr>\n",
       "      <th>1</th>\n",
       "      <td>2024-01-01 01:00:00</td>\n",
       "      <td>2</td>\n",
       "    </tr>\n",
       "    <tr>\n",
       "      <th>2</th>\n",
       "      <td>2024-01-01 02:00:00</td>\n",
       "      <td>2</td>\n",
       "    </tr>\n",
       "    <tr>\n",
       "      <th>3</th>\n",
       "      <td>2024-01-01 03:00:00</td>\n",
       "      <td>2</td>\n",
       "    </tr>\n",
       "    <tr>\n",
       "      <th>4</th>\n",
       "      <td>2024-01-01 04:00:00</td>\n",
       "      <td>2</td>\n",
       "    </tr>\n",
       "    <tr>\n",
       "      <th>...</th>\n",
       "      <td>...</td>\n",
       "      <td>...</td>\n",
       "    </tr>\n",
       "    <tr>\n",
       "      <th>2787</th>\n",
       "      <td>2024-04-26 03:00:00</td>\n",
       "      <td>1</td>\n",
       "    </tr>\n",
       "    <tr>\n",
       "      <th>2788</th>\n",
       "      <td>2024-04-26 04:00:00</td>\n",
       "      <td>1</td>\n",
       "    </tr>\n",
       "    <tr>\n",
       "      <th>2789</th>\n",
       "      <td>2024-04-26 05:00:00</td>\n",
       "      <td>1</td>\n",
       "    </tr>\n",
       "    <tr>\n",
       "      <th>2790</th>\n",
       "      <td>2024-04-26 06:00:00</td>\n",
       "      <td>1</td>\n",
       "    </tr>\n",
       "    <tr>\n",
       "      <th>2791</th>\n",
       "      <td>2024-04-26 07:00:00</td>\n",
       "      <td>1</td>\n",
       "    </tr>\n",
       "  </tbody>\n",
       "</table>\n",
       "<p>2792 rows × 2 columns</p>\n",
       "</div>"
      ],
      "text/plain": [
       "                       ID  target\n",
       "0     2024-01-01 00:00:00       2\n",
       "1     2024-01-01 01:00:00       2\n",
       "2     2024-01-01 02:00:00       2\n",
       "3     2024-01-01 03:00:00       2\n",
       "4     2024-01-01 04:00:00       2\n",
       "...                   ...     ...\n",
       "2787  2024-04-26 03:00:00       1\n",
       "2788  2024-04-26 04:00:00       1\n",
       "2789  2024-04-26 05:00:00       1\n",
       "2790  2024-04-26 06:00:00       1\n",
       "2791  2024-04-26 07:00:00       1\n",
       "\n",
       "[2792 rows x 2 columns]"
      ]
     },
     "execution_count": 15,
     "metadata": {},
     "output_type": "execute_result"
    }
   ],
   "source": [
    "submission_df = pd.read_csv(f\"{dir_path}/test.csv\")\n",
    "submission_df = submission_df.assign(target=pred_lst)\n",
    "submission_df.to_csv(\"output.csv\", index=False)\n",
    "\n",
    "print(submission_df.target.value_counts())\n",
    "submission_df"
   ]
  },
  {
   "cell_type": "code",
   "execution_count": null,
   "metadata": {},
   "outputs": [],
   "source": []
  },
  {
   "cell_type": "code",
   "execution_count": null,
   "metadata": {},
   "outputs": [],
   "source": []
  },
  {
   "cell_type": "code",
   "execution_count": null,
   "metadata": {},
   "outputs": [],
   "source": []
  },
  {
   "cell_type": "code",
   "execution_count": null,
   "metadata": {},
   "outputs": [],
   "source": []
  }
 ],
 "metadata": {
  "kernelspec": {
   "display_name": "aitech",
   "language": "python",
   "name": "python3"
  },
  "language_info": {
   "codemirror_mode": {
    "name": "ipython",
    "version": 3
   },
   "file_extension": ".py",
   "mimetype": "text/x-python",
   "name": "python",
   "nbconvert_exporter": "python",
   "pygments_lexer": "ipython3",
   "version": "3.9.19"
  }
 },
 "nbformat": 4,
 "nbformat_minor": 2
}
