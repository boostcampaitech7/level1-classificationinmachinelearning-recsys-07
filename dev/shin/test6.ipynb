{
 "cells": [
  {
   "cell_type": "code",
   "execution_count": null,
   "metadata": {},
   "outputs": [],
   "source": [
    "import os\n",
    "from typing import List, Dict\n",
    "from tqdm import tqdm\n",
    "import numpy as np\n",
    "import pandas as pd\n",
    "from sklearn.model_selection import train_test_split\n",
    "from sklearn.metrics import accuracy_score, roc_auc_score\n",
    "import lightgbm as lgb\n",
    "from plotly.subplots import make_subplots\n",
    "import plotly.graph_objects as go\n",
    "import matplotlib.pyplot as plt\n",
    "\n",
    "\n",
    "import seaborn as sns\n",
    "\n"
   ]
  },
  {
   "cell_type": "code",
   "execution_count": null,
   "metadata": {},
   "outputs": [],
   "source": [
    "# 파일 호출\n",
    "data_path: str = \"data\"\n",
    "train_df: pd.DataFrame = pd.read_csv(os.path.join(data_path, \"train.csv\")).assign(_type=\"train\") # train 에는 _type = train \n",
    "test_df: pd.DataFrame = pd.read_csv(os.path.join(data_path, \"test.csv\")).assign(_type=\"test\") # test 에는 _type = test\n",
    "submission_df: pd.DataFrame = pd.read_csv(os.path.join(data_path, \"test.csv\")) # ID, target 열만 가진 데이터 미리 호출\n",
    "df: pd.DataFrame = pd.concat([train_df, test_df], axis=0)\n",
    "df\n"
   ]
  },
  {
   "cell_type": "code",
   "execution_count": null,
   "metadata": {},
   "outputs": [],
   "source": [
    "file_names: List[str] = [\n",
    "    f for f in os.listdir(data_path) if f.startswith(\"HOURLY_\") and f.endswith(\".csv\")\n",
    "]\n",
    "# 파일명 : 데이터프레임으로 딕셔너리 형태로 저장\n",
    "file_dict: Dict[str, pd.DataFrame] = {\n",
    "    f.replace(\".csv\", \"\"): pd.read_csv(os.path.join(data_path, f)) for f in file_names\n",
    "}\n",
    "\n",
    "for _file_name, _df in tqdm(file_dict.items()):\n",
    "    # 열 이름 중복 방지를 위해 {_file_name.lower()}_{col.lower()}로 변경, datetime 열을 ID로 변경\n",
    "    _rename_rule = {\n",
    "        col: f\"{_file_name.lower()}_{col.lower()}\" if col != \"datetime\" else \"ID\"\n",
    "        for col in _df.columns\n",
    "    }\n",
    "    _df = _df.rename(_rename_rule, axis=1)\n",
    "    df = df.merge(_df, on=\"ID\", how=\"left\")"
   ]
  },
  {
   "cell_type": "code",
   "execution_count": null,
   "metadata": {},
   "outputs": [],
   "source": [
    "cols_dict: Dict[str, str] = {\n",
    "    \"ID\": \"ID\",\n",
    "    \"target\": \"target\",\n",
    "    \"_type\": \"_type\",\n",
    "    \"hourly_market-data_coinbase-premium-index_coinbase_premium_gap\": \"coinbase_premium_gap\",\n",
    "    \"hourly_market-data_coinbase-premium-index_coinbase_premium_index\": \"coinbase_premium_index\",\n",
    "    \"hourly_market-data_funding-rates_all_exchange_funding_rates\": \"funding_rates\",\n",
    "    \"hourly_market-data_liquidations_all_exchange_all_symbol_long_liquidations\": \"long_liquidations\",\n",
    "    \"hourly_market-data_liquidations_all_exchange_all_symbol_long_liquidations_usd\": \"long_liquidations_usd\",\n",
    "    \"hourly_market-data_liquidations_all_exchange_all_symbol_short_liquidations\": \"short_liquidations\",\n",
    "    \"hourly_market-data_liquidations_all_exchange_all_symbol_short_liquidations_usd\": \"short_liquidations_usd\",\n",
    "    \"hourly_market-data_open-interest_all_exchange_all_symbol_open_interest\": \"open_interest\",\n",
    "    \"hourly_market-data_taker-buy-sell-stats_all_exchange_taker_buy_ratio\": \"buy_ratio\",\n",
    "    \"hourly_market-data_taker-buy-sell-stats_all_exchange_taker_buy_sell_ratio\": \"buy_sell_ratio\",\n",
    "    \"hourly_market-data_taker-buy-sell-stats_all_exchange_taker_buy_volume\": \"buy_volume\",\n",
    "    \"hourly_market-data_taker-buy-sell-stats_all_exchange_taker_sell_ratio\": \"sell_ratio\",\n",
    "    \"hourly_market-data_taker-buy-sell-stats_all_exchange_taker_sell_volume\": \"sell_volume\",\n",
    "    \"hourly_network-data_addresses-count_addresses_count_active\": \"active_count\",\n",
    "    \"hourly_network-data_addresses-count_addresses_count_receiver\": \"receiver_count\",\n",
    "    \"hourly_network-data_addresses-count_addresses_count_sender\": \"sender_count\",\n",
    "    \"hourly_market-data_price-ohlcv_all_exchange_spot_btc_usd_close\" : \"close\",\n",
    "    \"hourly_market-data_price-ohlcv_all_exchange_spot_btc_usd_volume\" : \"volume\"\n",
    "}\n",
    "# HOURLY_MARKET-DATA_PRICE-OHLCV_ALL_EXCHANGE_SPOT_BTC_USD\n",
    "\n",
    "df = df[cols_dict.keys()].rename(cols_dict, axis=1)\n",
    "df.shape\n"
   ]
  },
  {
   "cell_type": "code",
   "execution_count": null,
   "metadata": {},
   "outputs": [],
   "source": [
    "df.columns"
   ]
  },
  {
   "cell_type": "code",
   "execution_count": null,
   "metadata": {},
   "outputs": [],
   "source": [
    "df = df.assign(\n",
    "    premium_gap_x_funding_rates=df[\"coinbase_premium_gap\"] * df[\"funding_rates\"],\n",
    "    premium_gap_x_long_liquidations=df[\"coinbase_premium_gap\"] * df[\"long_liquidations\"],\n",
    "    premium_gap_x_short_liquidations=df[\"coinbase_premium_gap\"] * df[\"short_liquidations\"],\n",
    "    open_interest_x_buy_volume=df[\"open_interest\"] * df[\"buy_volume\"],\n",
    "    open_interest_x_sell_volume=df[\"open_interest\"] * df[\"sell_volume\"],\n",
    "    buy_sell_ratio_x_funding_rates=df[\"buy_sell_ratio\"] * df[\"funding_rates\"],\n",
    "    buy_ratio_x_sell_ratio=df[\"buy_ratio\"] * df[\"sell_ratio\"]\n",
    ")\n",
    "df = df.assign(\n",
    "    active_count_x_buy_volume=df[\"active_count\"] * df[\"buy_volume\"],\n",
    "    active_count_x_sell_volume=df[\"active_count\"] * df[\"sell_volume\"],\n",
    "    receiver_count_x_open_interest=df[\"receiver_count\"] * df[\"open_interest\"],\n",
    "    sender_count_x_open_interest=df[\"sender_count\"] * df[\"open_interest\"],\n",
    "    active_count_x_funding_rates=df[\"active_count\"] * df[\"funding_rates\"],\n",
    "    sender_receiver_diff_x_buy_volume=(df[\"sender_count\"] - df[\"receiver_count\"]) * df[\"buy_volume\"]\n",
    ")\n",
    "df = df.assign(\n",
    "    long_liquidations_x_buy_volume=df[\"long_liquidations\"] * df[\"buy_volume\"],\n",
    "    short_liquidations_x_sell_volume=df[\"short_liquidations\"] * df[\"sell_volume\"],\n",
    "    long_liquidations_usd_x_sell_volume=df[\"long_liquidations_usd\"] * df[\"sell_volume\"],\n",
    "    short_liquidations_usd_x_buy_volume=df[\"short_liquidations_usd\"] * df[\"buy_volume\"]\n",
    ")\n",
    "df = df.assign(\n",
    "    premium_index_x_active_count=df[\"coinbase_premium_index\"] * df[\"active_count\"],\n",
    "    premium_index_x_receiver_count=df[\"coinbase_premium_index\"] * df[\"receiver_count\"],\n",
    "    premium_index_x_sender_count=df[\"coinbase_premium_index\"] * df[\"sender_count\"]\n",
    ")"
   ]
  },
  {
   "cell_type": "code",
   "execution_count": null,
   "metadata": {},
   "outputs": [],
   "source": [
    "df = df.assign(\n",
    "    liquidation_diff=df[\"long_liquidations\"] - df[\"short_liquidations\"],\n",
    "    liquidation_usd_diff=df[\"long_liquidations_usd\"] - df[\"short_liquidations_usd\"],\n",
    "    volume_diff=df[\"buy_volume\"] - df[\"sell_volume\"],\n",
    "    liquidation_diffg=np.sign(df[\"long_liquidations\"] - df[\"short_liquidations\"]),\n",
    "    liquidation_usd_diffg=np.sign(df[\"long_liquidations_usd\"] - df[\"short_liquidations_usd\"]),\n",
    "    volume_diffg=np.sign(df[\"buy_volume\"] - df[\"sell_volume\"]),\n",
    "    buy_sell_volume_ratio=df[\"buy_volume\"] / (df[\"sell_volume\"] + 1),\n",
    ")\n",
    "# category, continuous 열을 따로 할당해둠"
   ]
  },
  {
   "cell_type": "code",
   "execution_count": null,
   "metadata": {},
   "outputs": [],
   "source": [
    "# df['mean_7days'] = df['volume_diff'].rolling(window=168).mean()  # 7 days if hourly data\n",
    "# df['mean_1day'] = df['volume_diff'].rolling(window=24).mean()    # 1 day if hourly data\n",
    "# df['mean_1month'] = df['volume_diff'].rolling(window=720).mean()  # 1 month if hourly data (30 days)\n",
    "# df['slope_7days'] = df['mean_7days'].diff()\n",
    "# df['slope_1day'] = df['mean_1day'].diff()\n",
    "# df['slope_1month'] = df['mean_1month'].diff()\n",
    "# # Calculate the differences in moving averages\n",
    "# df['mean_diff_7days_1day_volume'] = df['mean_7days'] - df['mean_1day']\n",
    "# df['mean_diff_1month_7days_volume'] = df['mean_1month'] - df['mean_7days']\n",
    "\n",
    "# df['mean_50'] = df['volume_diff'].rolling(window=50).mean()  # 50-period moving average\n",
    "# df['mean_100'] = df['volume_diff'].rolling(window=100).mean()\n",
    "\n",
    "# # Cross-signal generation\n",
    "# df['cross_volume_diff'] = np.where(df['mean_50'] > df['mean_100'], 1, 0)\n",
    "# df['cross_shifted_volume_diff'] = df['cross_volume_diff'].shift(1)\n",
    "# df['cross_signal_volume_diff'] = np.where(df['cross_volume_diff'] != df['cross_shifted_volume_diff'], 1, 0)\n",
    "\n",
    "# # # Rolling standard deviation for volatility\n",
    "# # df['rolling_std_50_volume_diff'] = df['volume_diff'].rolling(window=50).std()\n",
    "# # df['rolling_std_100_volume_diff'] = df['volume_diff'].rolling(window=100).std()\n",
    "\n",
    "# # # Drop intermediate moving averages\n",
    "# df.drop(columns=['mean_7days', 'mean_1day', 'mean_1month'], inplace=True)\n",
    "\n",
    "# df['mean_7days'] = df['liquidation_diff'].rolling(window=168).mean()  # 7 days if hourly data\n",
    "# df['mean_1day'] = df['liquidation_diff'].rolling(window=24).mean()    # 1 day if hourly data\n",
    "# df['mean_1month'] = df['liquidation_diff'].rolling(window=720).mean()  # 1 month if hourly data (30 days)\n",
    "\n",
    "# df['mean_diff_7days_1day_liquidation'] = df['mean_7days'] - df['mean_1day']\n",
    "# df['mean_diff_1month_7days_liquidation'] = df['mean_1month'] - df['mean_7days']\n",
    "\n",
    "# #Cross-signal generation\n",
    "# df['cross_liquidation_diff'] = np.where(df['mean_50'] > df['mean_100'], 1, 0)\n",
    "# df['cross_shifted_liquidation_diff'] = df['cross_liquidation_diff'].shift(1)\n",
    "# df['cross_signal_liquidation_diff'] = np.where(df['cross_liquidation_diff'] != df['cross_shifted_liquidation_diff'], 1, 0)\n",
    "\n",
    "# # # Rolling standard deviation for volatility\n",
    "# # df['rolling_std_50_liquidation_diff'] = df['liquidation_diff'].rolling(window=50).std()\n",
    "# # df['rolling_std_100_liquidation_diff'] = df['liquidation_diff'].rolling(window=100).std()\n",
    "\n",
    "# df.drop(columns=['mean_7days', 'mean_1day', 'mean_1month','mean_50','mean_100'], inplace=True)"
   ]
  },
  {
   "cell_type": "code",
   "execution_count": null,
   "metadata": {},
   "outputs": [],
   "source": [
    "df['ID']=pd.to_datetime(df.ID)\n",
    "def change(x):\n",
    "  if x < 8:\n",
    "    return 1\n",
    "  elif x< 12:\n",
    "    return 2\n",
    "  elif x < 18:\n",
    "    return 3\n",
    "  return 4\n",
    "date_col = [\"Weekday\", \"Weekend\", \"Hour\",\"Hour_1\",\"Weekend_Hour\"]\n",
    "df[\"Weekday\"] = df.ID.dt.weekday.astype(\"str\")\n",
    "df[\"Weekend\"] = df[\"Weekday\"].apply(lambda x: \"1\" if x in [\"5\",\"6\"] else \"0\")\n",
    "df[\"Hour\"] = df.ID.dt.hour.astype(\"str\")\n",
    "df[\"Hour_1\"] = df.ID.dt.hour.map(change).astype(\"str\")\n",
    "df[\"Weekend_Hour\"] = df[\"Weekend\"] + df[\"Hour_1\"]\n"
   ]
  },
  {
   "cell_type": "code",
   "execution_count": null,
   "metadata": {},
   "outputs": [],
   "source": [
    "df['Weekday'] = df['Weekday'].astype('int64')\n",
    "df[\"Weekend\"] = df[\"Weekend\"].astype('int64')\n",
    "df[\"Hour\"] = df['Hour'].astype('int64')\n",
    "df[\"Hour_1\"] = df['Hour'].astype('int64')\n",
    "df[\"Weekend_Hour\"] = df['Weekend_Hour'].astype('int64')"
   ]
  },
  {
   "cell_type": "code",
   "execution_count": null,
   "metadata": {},
   "outputs": [],
   "source": [
    "category_cols: List[str] = [\"liquidation_diffg\", \"liquidation_usd_diffg\", \"volume_diffg\",'cross_volume_diff','cross_shifted_volume_diff',\n",
    "                            'cross_signal_volume_diff','mean_diff_7days_1day_volume','mean_diff_1month_7days_volume',\n",
    "                            'mean_diff_7days_1day_liquidation','mean_diff_1month_7days_liquidation',\n",
    "                            'cross_liquidation_diff','cross_shifted_liquidation_diff',\n",
    "                           'cross_signal_liquidation_diff','slope_7days','slope_1day','slope_1month',\"Weekday\",\"Weekend\",\"Hour\",\"Hour_1\",\n",
    "                           \"Weekend_Hour\"]\n",
    "conti_cols: List[str] = [_ for _ in df.columns if _ not in [\"ID\", \"target\", \"_type\"]+category_cols]  \n",
    "\n",
    "\n",
    "\n"
   ]
  },
  {
   "cell_type": "code",
   "execution_count": null,
   "metadata": {},
   "outputs": [],
   "source": [
    "conti_cols"
   ]
  },
  {
   "attachments": {},
   "cell_type": "markdown",
   "metadata": {},
   "source": [
    "# check for interval using PACF\n",
    "\n"
   ]
  },
  {
   "cell_type": "code",
   "execution_count": null,
   "metadata": {},
   "outputs": [],
   "source": [
    "from statsmodels.graphics.tsaplots import plot_pacf\n",
    "import matplotlib.pyplot as plt\n",
    "eda=df[df['_type']=='train']\n",
    "\n",
    "fig, axes = plt.subplots(2, 2, figsize=(12, 10))  # 2 rows, 2 columns of plots\n",
    "\n",
    "plot_pacf(eda['buy_volume'], lags=50, ax=axes[0, 0])\n",
    "axes[0, 0].set_title('PACF for Buy Volume')\n",
    "\n",
    "plot_pacf(eda['sell_volume'], lags=50, ax=axes[0, 1])\n",
    "axes[0, 1].set_title('PACF for Sell Volume')\n",
    "\n",
    "plot_pacf(eda['sender_count'].dropna(), lags=50, ax=axes[1, 0])\n",
    "axes[1, 0].set_title('PACF for longliquidations')\n",
    "\n",
    "plot_pacf(eda['coinbase_premium_index'].dropna(), lags=50, ax=axes[1, 1])\n",
    "axes[1, 1].set_title('PACF for shortliquidations')\n",
    "\n",
    "plt.tight_layout()\n",
    "plt.show()\n"
   ]
  },
  {
   "cell_type": "code",
   "execution_count": null,
   "metadata": {},
   "outputs": [],
   "source": [
    "def shift_feature(\n",
    "    df: pd.DataFrame,\n",
    "    conti_cols: List[str],\n",
    "    intervals: List[int],\n",
    ") -> List[pd.Series]:\n",
    "    \"\"\"\n",
    "    연속형 변수의 shift feature 생성\n",
    "    Args:\n",
    "        df (pd.DataFrame)\n",
    "        conti_cols (List[str]): continuous colnames\n",
    "        intervals (List[int]): shifted intervals\n",
    "    Return:\n",
    "        List[pd.Series]\n",
    "    \"\"\"\n",
    "    df_shift_dict = [\n",
    "        df[conti_col].shift(interval).rename(f\"{conti_col}_{interval}\")\n",
    "        for conti_col in conti_cols\n",
    "        for interval in intervals\n",
    "    ]\n",
    "    return df_shift_dict\n",
    "\n",
    "# 최대 24시간의 shift 피쳐를 계산\n",
    "shift_list = shift_feature(\n",
    "    df=df, conti_cols=conti_cols, intervals=[ _ for _ in range(1,24)]\n",
    ")\n",
    "# concat 하여 df 에 할당\n",
    "df = pd.concat([df, pd.concat(shift_list, axis=1)], axis=1)"
   ]
  },
  {
   "cell_type": "code",
   "execution_count": null,
   "metadata": {},
   "outputs": [],
   "source": [
    "from typing import List\n",
    "import pandas as pd\n",
    "\n",
    "def rolling_feature(\n",
    "   df: pd.DataFrame,\n",
    "   conti_cols: List[str],\n",
    "   intervals: List[int],\n",
    "   funcs: List[str],\n",
    "   **params,\n",
    ") -> pd.DataFrame:\n",
    "   \"\"\"\n",
    "   Create rolling features\n",
    "   Args:\n",
    "       df (pd.DataFrame): Sorted dataframe\n",
    "       conti_cols (List[str]): continuous colnames\n",
    "       intervals (List[str]): rolling window widths\n",
    "       funcs (List[str]): aggregation functions e.g. [\"mean\", \"median\", \"max\"]\n",
    "       **params: more input for rolling\n",
    "   Returns:\n",
    "       pd.DataFrame\n",
    "   \"\"\"\n",
    "   df_rolling_list = [\n",
    "       df[conti_col]\n",
    "       .rolling(interval, **params)\n",
    "       .agg({f\"{conti_col}\": func})\n",
    "       .rename({conti_col: f\"{conti_col}_{func}_{interval}\"}, axis=1)\n",
    "       for conti_col in conti_cols\n",
    "       for interval in intervals\n",
    "       for func in funcs\n",
    "   ]\n",
    "   return pd.concat(df_rolling_list, axis = 1)\n"
   ]
  },
  {
   "cell_type": "code",
   "execution_count": null,
   "metadata": {},
   "outputs": [],
   "source": [
    "#'block-interval_block_interval'\n",
    "conti_cols = [\"coinbase_premium_gap\", \"coinbase_premium_index\",'buy_volume','sell_volume','funding_rates',\n",
    "              'open_interest','volume','close']\n",
    "\n",
    "rolling_df = rolling_feature(\n",
    "   df = df,\n",
    "   conti_cols=conti_cols,\n",
    "   intervals=[ 3,6,12,18,24,168],\n",
    "   funcs=[\"mean\", 'std'],\n",
    "   min_periods = 1,\n",
    "   closed = \"left\",\n",
    ")\n",
    "\n",
    "df=pd.concat([df, rolling_df], axis = 1)"
   ]
  },
  {
   "cell_type": "code",
   "execution_count": null,
   "metadata": {},
   "outputs": [],
   "source": [
    "df.info()"
   ]
  },
  {
   "cell_type": "code",
   "execution_count": null,
   "metadata": {},
   "outputs": [],
   "source": [
    "_target = df[\"target\"]\n",
    "df = df.ffill().fillna(-999).assign(target = _target)\n",
    "\n",
    "# _type에 따라 train, test 분리\n",
    "train_df = df.loc[df[\"_type\"]==\"train\"].drop(columns=[\"_type\"])\n",
    "test_df = df.loc[df[\"_type\"]==\"test\"].drop(columns=[\"_type\"])"
   ]
  },
  {
   "cell_type": "code",
   "execution_count": null,
   "metadata": {},
   "outputs": [],
   "source": [
    "train_df.info()"
   ]
  },
  {
   "cell_type": "code",
   "execution_count": null,
   "metadata": {},
   "outputs": [],
   "source": [
    "# Step 1: Apply Window Slicing to Data Where Target is 0 or 3\n",
    "df_filtered = train_df[(train_df['target'] == 0) | (train_df['target'] == 3)]\n",
    "df_filtered\n",
    "# Example window slicing function\n",
    "# def window_slicing(time_series, window_size,step_size):\n",
    "#     slices = []\n",
    "#     for i in range(0,len(time_series) - window_size + 1,step_size):\n",
    "#         window = time_series[i: i + window_size]\n",
    "#         slices.append(window)\n",
    "#     return np.array(slices)\n",
    "def window_slicing(df: pd.DataFrame, window_size: int, step_size: int) -> pd.DataFrame:\n",
    "    sliced_data = []\n",
    "    \n",
    "    for start in range(0, len(df) - window_size + 1, step_size):\n",
    "        end = start + window_size\n",
    "        window_df = df.iloc[start:end].copy()\n",
    "        # window_df['window_start_index'] = start\n",
    "        sliced_data.append(window_df)\n",
    "    \n",
    "    sliced_data_df = pd.concat(sliced_data, axis=0).reset_index(drop=True)\n",
    "    return sliced_data_df\n",
    "\n",
    "# Example window size (24 hours for 1 day window)\n",
    "window_size = 24\n",
    "step_size=12\n",
    "sliced_data = window_slicing(df_filtered, window_size,step_size)\n",
    "augmented_data=sliced_data\n",
    "# augmented_data = pd.DataFrame()\n",
    "# for i in sliced_data:\n",
    "#     i_df = pd.DataFrame(i, columns=df_filtered.columns)\n",
    "#     augmented_data = pd.concat([augmented_data, i_df], axis=0)\n",
    "# augmented_data = augmented_data.astype(df_filtered.dtypes.to_dict())\n",
    "# augmented_data.shape\n"
   ]
  },
  {
   "cell_type": "code",
   "execution_count": null,
   "metadata": {},
   "outputs": [],
   "source": [
    "# Step 2: Apply Noise Injection to the Sliced Data (excluding 'id' and 'target')\n",
    "# def add_noise_to_data(df, noise_level=0.01):\n",
    "#     df_noisy = df.copy()\n",
    "\n",
    "#     # Exclude 'id' and 'target' columns from noise injectbion\n",
    "#     feature_columns = df.columns.difference(['ID', 'target','_type'])\n",
    "    \n",
    "#     # Generate noise for the feature columns\n",
    "#     noise = np.random.normal(0, noise_level, size=df[feature_columns].shape)\n",
    "    \n",
    "#     # Apply noise to feature columns\n",
    "#     df_noisy[feature_columns] = df[feature_columns] + noise\n",
    "    \n",
    "#     return df_noisy\n",
    "def noise_injection(df: pd.DataFrame, noise_level: float = 0.01, decay: float = 0.99, seed : int = 42) -> pd.DataFrame:\n",
    "    df_noisy = df.copy()\n",
    "    np.random.seed(seed)\n",
    "    time_steps = np.arange(len(df_noisy))\n",
    "    feature_columns = list(df.columns.difference(['ID', 'target','_type']+[\"liquidation_diffg\", \"liquidation_usd_diffg\", \"volume_diffg\",'cross_volume_diff','cross_shifted_volume_diff',\n",
    "                            'cross_signal_volume_diff',\"Weekday\",\"Weekend\",\"Hour\",\"Hour_1\",\n",
    "                           \"Weekend_Hour\"]) )\n",
    "    for col in feature_columns:\n",
    "        noise = np.random.normal(0, noise_level*df_noisy[col].std(), size=df_noisy[col].shape)\n",
    "        decays = decay ** time_steps\n",
    "        df_noisy[col] = df_noisy[col] + noise * decays\n",
    "    \n",
    "    return df_noisy\n",
    "\n",
    "# Apply noise to the sliced data\n",
    "augmented_noisy_data = noise_injection(augmented_data, noise_level=0.01,decay=0.99,seed=42)"
   ]
  },
  {
   "cell_type": "code",
   "execution_count": null,
   "metadata": {},
   "outputs": [],
   "source": [
    "augmented_noisy_data.columns\n",
    "train_1_2=train_df[(train_df['target'] != 0) & (train_df['target'] != 3)]\n",
    "train_df_augmented=pd.concat([train_1_2,augmented_noisy_data])"
   ]
  },
  {
   "cell_type": "code",
   "execution_count": null,
   "metadata": {},
   "outputs": [],
   "source": [
    "train_df_augmented.shape"
   ]
  },
  {
   "cell_type": "code",
   "execution_count": null,
   "metadata": {},
   "outputs": [],
   "source": [
    "\n",
    "train_df_augmented['target'].value_counts()/len(train_df_augmented)"
   ]
  },
  {
   "cell_type": "code",
   "execution_count": null,
   "metadata": {},
   "outputs": [],
   "source": [
    "# 타겟 변수를 제외한 변수를 forwardfill, -999로 결측치 대체\n",
    "# _target = df[\"target\"]\n",
    "# df = df.ffill().fillna(-999).assign(target = _target)\n",
    "\n",
    "# # _type에 따라 train, test 분리\n",
    "# train_df = df.loc[df[\"_type\"]==\"train\"].drop(columns=[\"_type\"])\n",
    "# test_df = df.loc[df[\"_type\"]==\"test\"].drop(columns=[\"_type\"])"
   ]
  },
  {
   "cell_type": "code",
   "execution_count": null,
   "metadata": {},
   "outputs": [],
   "source": [
    "x_train, x_valid, y_train, y_valid = train_test_split(\n",
    "    train_df_augmented.drop([\"target\", \"ID\"], axis=1), \n",
    "    train_df_augmented[\"target\"].astype(int), \n",
    "    test_size=0.2,\n",
    "    random_state=42,\n",
    "    # stratify=train_df[\"target\"].astype(int)\n",
    ")\n",
    "x_train.shape"
   ]
  },
  {
   "cell_type": "code",
   "execution_count": null,
   "metadata": {},
   "outputs": [],
   "source": [
    "def train_lgmClassifier(x_train,x_valid,y_train,y_valid):\n",
    "    \n",
    "\n",
    "# lgb dataset\n",
    "    train_data = lgb.Dataset(x_train, label=y_train)\n",
    "    valid_data = lgb.Dataset(x_valid, label=y_valid, reference=train_data)\n",
    "\n",
    "# lgb params\n",
    "    params = {\n",
    "        \"boosting_type\": \"gbdt\",\n",
    "        \"objective\": \"multiclass\",\n",
    "        \"metric\": \"multi_logloss\",\n",
    "        \"num_class\": 4,\n",
    "        \"num_leaves\": 50,\n",
    "        \"learning_rate\": 0.05,\n",
    "        \"n_estimators\": 50,\n",
    "        \"random_state\": 42,\n",
    "        \"verbose\": 0,\n",
    "    }\n",
    "\n",
    "# lgb train\n",
    "    lgb_model = lgb.train(\n",
    "        params=params,\n",
    "        train_set=train_data,\n",
    "        valid_sets=valid_data,\n",
    "    )\n",
    "\n",
    "# lgb predict\n",
    "    y_valid_pred = lgb_model.predict(x_valid)\n",
    "    y_valid_pred_class = np.argmax(y_valid_pred, axis = 1)\n",
    "\n",
    "# score check\n",
    "    accuracy = accuracy_score(y_valid, y_valid_pred_class)\n",
    "    auroc = roc_auc_score(y_valid, y_valid_pred, multi_class=\"ovr\")\n",
    "\n",
    "    print(f\"acc: {accuracy}, auroc: {auroc}\")\n",
    "    return lgb_model,accuracy,params\n",
    "lgb_model,accuracy,params=train_lgmClassifier(x_train,x_valid,y_train,y_valid)"
   ]
  },
  {
   "cell_type": "code",
   "execution_count": null,
   "metadata": {},
   "outputs": [],
   "source": [
    "importance = lgb_model.feature_importance()\n",
    "feature_names=train_df.drop([\"target\", \"ID\"], axis = 1).columns\n",
    "feature_importance_df = pd.DataFrame({\n",
    "    'Feature': feature_names,\n",
    "    'Importance': importance\n",
    "})\n",
    "\n",
    "# Sort by importance (optional)\n",
    "feature_importance_df = feature_importance_df.sort_values(by='Importance', ascending=False)\n",
    "\n",
    "# Display the DataFrame\n",
    "print(feature_importance_df[:50])\n",
    "# a=feature_importance_df[:100]\n",
    "# train_df[a.loc[:,'Feature']]"
   ]
  },
  {
   "cell_type": "code",
   "execution_count": null,
   "metadata": {},
   "outputs": [],
   "source": [
    "from sklearn.model_selection import StratifiedKFold  # For stratified cross-validation\n",
    "from sklearn.feature_selection import SelectKBest, f_classif  # For feature selection\n",
    "\n",
    "pred_lgm = []\n",
    "k_fold = StratifiedKFold(n_splits=5, shuffle=True, random_state=42)\n",
    "\n",
    "# Perform cross-validation with stratification\n",
    "for train_idx, val_idx in k_fold.split(train_df_augmented.drop(['ID', \"target\"], axis=1), train_df_augmented[\"target\"]):\n",
    "    # Train and validation sets\n",
    "    x_tr = train_df_augmented.drop([\"ID\", \"target\"], axis=1).iloc[train_idx]  # Dropping both 'ID' and 'target'\n",
    "    y_tr = train_df_augmented['target'].iloc[train_idx]\n",
    "    x_val = train_df_augmented.drop([\"ID\", \"target\"], axis=1).iloc[val_idx]  # Dropping both 'ID' and 'target'\n",
    "    y_val = train_df_augmented['target'].iloc[val_idx]\n",
    "\n",
    "    # Select top 200 features using SelectKBest with f_classif\n",
    "    # n_feature = 200\n",
    "    # selector1 = SelectKBest(f_classif, k=n_feature)\n",
    "    # x_tr_sel = selector1.fit_transform(x_tr, y_tr)\n",
    "    # x_val_sel = selector1.transform(x_val)\n",
    "\n",
    "    # Assuming train_lgmClassifier is a function you defined to train LightGBM and return accuracy\n",
    "    _, accuracy,_ = train_lgmClassifier(x_tr, x_val, y_tr, y_val)\n",
    "\n",
    "    # Store the accuracy for each fold\n",
    "    pred_lgm.append(accuracy)\n"
   ]
  },
  {
   "attachments": {},
   "cell_type": "markdown",
   "metadata": {},
   "source": [
    "# No feature selection train"
   ]
  },
  {
   "cell_type": "code",
   "execution_count": null,
   "metadata": {},
   "outputs": [],
   "source": [
    "x_train = train_df_augmented.drop([\"target\", \"ID\"], axis = 1)\n",
    "y_train = train_df_augmented[\"target\"].astype(int)\n",
    "train_data = lgb.Dataset(x_train, label=y_train)\n",
    "lgb_model = lgb.train(\n",
    "    params=params,\n",
    "    train_set=train_data,\n",
    ")"
   ]
  },
  {
   "attachments": {},
   "cell_type": "markdown",
   "metadata": {},
   "source": [
    "# Feature selection train"
   ]
  },
  {
   "cell_type": "code",
   "execution_count": null,
   "metadata": {},
   "outputs": [],
   "source": [
    "\n",
    "x_train = train_df_augmented.drop([\"target\", \"ID\"], axis = 1)\n",
    "y_train = train_df_augmented[\"target\"].astype(int)\n",
    "n_feature = 200\n",
    "selector1 = SelectKBest(f_classif, k=n_feature)\n",
    "x_tr_sel = selector1.fit_transform(x_train, y_train)\n",
    "train_data = lgb.Dataset(x_tr_sel, label=y_train)\n",
    "lgb_model = lgb.train(\n",
    "    params=params,\n",
    "    train_set=train_data,\n",
    ")"
   ]
  },
  {
   "attachments": {},
   "cell_type": "markdown",
   "metadata": {},
   "source": [
    "# No feature selection"
   ]
  },
  {
   "cell_type": "code",
   "execution_count": null,
   "metadata": {},
   "outputs": [],
   "source": [
    "\n",
    "y_test_pred = lgb_model.predict(test_df.drop([\"target\", \"ID\"], axis = 1))\n",
    "y_test_pred_class = np.argmax(y_test_pred, axis = 1)"
   ]
  },
  {
   "attachments": {},
   "cell_type": "markdown",
   "metadata": {},
   "source": [
    "# Feature anova top 200 selection"
   ]
  },
  {
   "cell_type": "code",
   "execution_count": null,
   "metadata": {},
   "outputs": [],
   "source": [
    "# selected_features = x_train.columns[selector1.get_support()]\n",
    "x_test=test_df.drop([\"target\", \"ID\"], axis = 1)\n",
    "x_test_sel = selector1.transform(x_test)\n",
    "\n",
    "y_test_pred = lgb_model.predict(x_test_sel)\n",
    "y_test_pred_class = np.argmax(y_test_pred, axis = 1)"
   ]
  },
  {
   "cell_type": "code",
   "execution_count": null,
   "metadata": {},
   "outputs": [],
   "source": [
    "submission_df = submission_df.assign(target = y_test_pred_class)\n",
    "submission_df.to_csv(\"output.csv\", index=False)"
   ]
  }
 ],
 "metadata": {
  "kernelspec": {
   "display_name": "Python 3",
   "language": "python",
   "name": "python3"
  },
  "language_info": {
   "codemirror_mode": {
    "name": "ipython",
    "version": 3
   },
   "file_extension": ".py",
   "mimetype": "text/x-python",
   "name": "python",
   "nbconvert_exporter": "python",
   "pygments_lexer": "ipython3",
   "version": "3.11.4"
  },
  "orig_nbformat": 4
 },
 "nbformat": 4,
 "nbformat_minor": 2
}
