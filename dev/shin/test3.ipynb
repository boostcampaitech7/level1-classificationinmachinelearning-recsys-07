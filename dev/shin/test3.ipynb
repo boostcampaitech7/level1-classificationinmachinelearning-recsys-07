{
 "cells": [
  {
   "cell_type": "code",
   "execution_count": null,
   "id": "bd089a19-9874-4a65-ba3f-19fcc6d6b1ca",
   "metadata": {},
   "outputs": [],
   "source": [
    "import os\n",
    "from typing import List, Dict\n",
    "from tqdm import tqdm\n",
    "import numpy as np\n",
    "import pandas as pd\n",
    "from sklearn.model_selection import train_test_split\n",
    "from sklearn.metrics import accuracy_score, roc_auc_score\n",
    "import lightgbm as lgb\n",
    "from plotly.subplots import make_subplots\n",
    "import plotly.graph_objects as go\n",
    "import matplotlib.pyplot as plt\n",
    "import seaborn as sns\n"
   ]
  },
  {
   "cell_type": "code",
   "execution_count": 3,
   "id": "d1f25cd3-a763-4a81-8c07-89362c8af315",
   "metadata": {},
   "outputs": [
    {
     "data": {
      "text/html": [
       "<div>\n",
       "<style scoped>\n",
       "    .dataframe tbody tr th:only-of-type {\n",
       "        vertical-align: middle;\n",
       "    }\n",
       "\n",
       "    .dataframe tbody tr th {\n",
       "        vertical-align: top;\n",
       "    }\n",
       "\n",
       "    .dataframe thead th {\n",
       "        text-align: right;\n",
       "    }\n",
       "</style>\n",
       "<table border=\"1\" class=\"dataframe\">\n",
       "  <thead>\n",
       "    <tr style=\"text-align: right;\">\n",
       "      <th></th>\n",
       "      <th>ID</th>\n",
       "      <th>target</th>\n",
       "      <th>_type</th>\n",
       "    </tr>\n",
       "  </thead>\n",
       "  <tbody>\n",
       "    <tr>\n",
       "      <th>0</th>\n",
       "      <td>2023-01-01 00:00:00</td>\n",
       "      <td>2.0</td>\n",
       "      <td>train</td>\n",
       "    </tr>\n",
       "    <tr>\n",
       "      <th>1</th>\n",
       "      <td>2023-01-01 01:00:00</td>\n",
       "      <td>1.0</td>\n",
       "      <td>train</td>\n",
       "    </tr>\n",
       "    <tr>\n",
       "      <th>2</th>\n",
       "      <td>2023-01-01 02:00:00</td>\n",
       "      <td>1.0</td>\n",
       "      <td>train</td>\n",
       "    </tr>\n",
       "    <tr>\n",
       "      <th>3</th>\n",
       "      <td>2023-01-01 03:00:00</td>\n",
       "      <td>1.0</td>\n",
       "      <td>train</td>\n",
       "    </tr>\n",
       "    <tr>\n",
       "      <th>4</th>\n",
       "      <td>2023-01-01 04:00:00</td>\n",
       "      <td>2.0</td>\n",
       "      <td>train</td>\n",
       "    </tr>\n",
       "    <tr>\n",
       "      <th>...</th>\n",
       "      <td>...</td>\n",
       "      <td>...</td>\n",
       "      <td>...</td>\n",
       "    </tr>\n",
       "    <tr>\n",
       "      <th>2787</th>\n",
       "      <td>2024-04-26 03:00:00</td>\n",
       "      <td>NaN</td>\n",
       "      <td>test</td>\n",
       "    </tr>\n",
       "    <tr>\n",
       "      <th>2788</th>\n",
       "      <td>2024-04-26 04:00:00</td>\n",
       "      <td>NaN</td>\n",
       "      <td>test</td>\n",
       "    </tr>\n",
       "    <tr>\n",
       "      <th>2789</th>\n",
       "      <td>2024-04-26 05:00:00</td>\n",
       "      <td>NaN</td>\n",
       "      <td>test</td>\n",
       "    </tr>\n",
       "    <tr>\n",
       "      <th>2790</th>\n",
       "      <td>2024-04-26 06:00:00</td>\n",
       "      <td>NaN</td>\n",
       "      <td>test</td>\n",
       "    </tr>\n",
       "    <tr>\n",
       "      <th>2791</th>\n",
       "      <td>2024-04-26 07:00:00</td>\n",
       "      <td>NaN</td>\n",
       "      <td>test</td>\n",
       "    </tr>\n",
       "  </tbody>\n",
       "</table>\n",
       "<p>11552 rows × 3 columns</p>\n",
       "</div>"
      ],
      "text/plain": [
       "                       ID  target  _type\n",
       "0     2023-01-01 00:00:00     2.0  train\n",
       "1     2023-01-01 01:00:00     1.0  train\n",
       "2     2023-01-01 02:00:00     1.0  train\n",
       "3     2023-01-01 03:00:00     1.0  train\n",
       "4     2023-01-01 04:00:00     2.0  train\n",
       "...                   ...     ...    ...\n",
       "2787  2024-04-26 03:00:00     NaN   test\n",
       "2788  2024-04-26 04:00:00     NaN   test\n",
       "2789  2024-04-26 05:00:00     NaN   test\n",
       "2790  2024-04-26 06:00:00     NaN   test\n",
       "2791  2024-04-26 07:00:00     NaN   test\n",
       "\n",
       "[11552 rows x 3 columns]"
      ]
     },
     "execution_count": 3,
     "metadata": {},
     "output_type": "execute_result"
    }
   ],
   "source": [
    "# 파일 호출\n",
    "data_path: str = \"data\"\n",
    "train_df: pd.DataFrame = pd.read_csv(os.path.join(data_path, \"train.csv\")).assign(_type=\"train\") # train 에는 _type = train \n",
    "test_df: pd.DataFrame = pd.read_csv(os.path.join(data_path, \"test.csv\")).assign(_type=\"test\") # test 에는 _type = test\n",
    "submission_df: pd.DataFrame = pd.read_csv(os.path.join(data_path, \"test.csv\")) # ID, target 열만 가진 데이터 미리 호출\n",
    "df: pd.DataFrame = pd.concat([train_df, test_df], axis=0)\n",
    "df"
   ]
  },
  {
   "cell_type": "code",
   "execution_count": 4,
   "id": "155aded6-70fa-413a-8212-146ec38e1cae",
   "metadata": {},
   "outputs": [
    {
     "name": "stderr",
     "output_type": "stream",
     "text": [
      "100%|████████████████████████████████████████████████████████████████████████████████████████████████████████████████████| 107/107 [00:01<00:00, 74.37it/s]\n"
     ]
    }
   ],
   "source": [
    "file_names: List[str] = [\n",
    "    f for f in os.listdir(data_path) if f.startswith(\"HOURLY_\") and f.endswith(\".csv\")\n",
    "]\n",
    "# 파일명 : 데이터프레임으로 딕셔너리 형태로 저장\n",
    "file_dict: Dict[str, pd.DataFrame] = {\n",
    "    f.replace(\".csv\", \"\"): pd.read_csv(os.path.join(data_path, f)) for f in file_names\n",
    "}\n",
    "\n",
    "for _file_name, _df in tqdm(file_dict.items()):\n",
    "    # 열 이름 중복 방지를 위해 {_file_name.lower()}_{col.lower()}로 변경, datetime 열을 ID로 변경\n",
    "    _rename_rule = {\n",
    "        col: f\"{_file_name.lower()}_{col.lower()}\" if col != \"datetime\" else \"ID\"\n",
    "        for col in _df.columns\n",
    "    }\n",
    "    _df = _df.rename(_rename_rule, axis=1)\n",
    "    df = df.merge(_df, on=\"ID\", how=\"left\")"
   ]
  },
  {
   "cell_type": "code",
   "execution_count": 5,
   "id": "c6c1a24b-2b21-4fd8-b6a8-8aa4b1323933",
   "metadata": {},
   "outputs": [
    {
     "data": {
      "text/plain": [
       "(11552, 19)"
      ]
     },
     "execution_count": 5,
     "metadata": {},
     "output_type": "execute_result"
    }
   ],
   "source": [
    "# 모델에 사용할 컬럼, 컬럼의 rename rule을 미리 할당함\n",
    "cols_dict: Dict[str, str] = {\n",
    "    \"ID\": \"ID\",\n",
    "    \"target\": \"target\",\n",
    "    \"_type\": \"_type\",\n",
    "    \"hourly_market-data_coinbase-premium-index_coinbase_premium_gap\": \"coinbase_premium_gap\",\n",
    "    \"hourly_market-data_coinbase-premium-index_coinbase_premium_index\": \"coinbase_premium_index\",\n",
    "    \"hourly_market-data_funding-rates_all_exchange_funding_rates\": \"funding_rates\",\n",
    "    \"hourly_market-data_liquidations_all_exchange_all_symbol_long_liquidations\": \"long_liquidations\",\n",
    "    \"hourly_market-data_liquidations_all_exchange_all_symbol_long_liquidations_usd\": \"long_liquidations_usd\",\n",
    "    \"hourly_market-data_liquidations_all_exchange_all_symbol_short_liquidations\": \"short_liquidations\",\n",
    "    \"hourly_market-data_liquidations_all_exchange_all_symbol_short_liquidations_usd\": \"short_liquidations_usd\",\n",
    "    \"hourly_market-data_open-interest_all_exchange_all_symbol_open_interest\": \"open_interest\",\n",
    "    \"hourly_market-data_taker-buy-sell-stats_all_exchange_taker_buy_ratio\": \"buy_ratio\",\n",
    "    \"hourly_market-data_taker-buy-sell-stats_all_exchange_taker_buy_sell_ratio\": \"buy_sell_ratio\",\n",
    "    \"hourly_market-data_taker-buy-sell-stats_all_exchange_taker_buy_volume\": \"buy_volume\",\n",
    "    \"hourly_market-data_taker-buy-sell-stats_all_exchange_taker_sell_ratio\": \"sell_ratio\",\n",
    "    \"hourly_market-data_taker-buy-sell-stats_all_exchange_taker_sell_volume\": \"sell_volume\",\n",
    "    \"hourly_network-data_addresses-count_addresses_count_active\": \"active_count\",\n",
    "    \"hourly_network-data_addresses-count_addresses_count_receiver\": \"receiver_count\",\n",
    "    \"hourly_network-data_addresses-count_addresses_count_sender\": \"sender_count\",\n",
    "}\n",
    "df = df[cols_dict.keys()].rename(cols_dict, axis=1)\n",
    "df.shape\n"
   ]
  },
  {
   "cell_type": "code",
   "execution_count": 6,
   "id": "8f5bdc84-df55-4615-a74c-d1516e1bcd5b",
   "metadata": {},
   "outputs": [],
   "source": [
    "df = df.assign(\n",
    "    liquidation_diff=df[\"long_liquidations\"] - df[\"short_liquidations\"],\n",
    "    liquidation_usd_diff=df[\"long_liquidations_usd\"] - df[\"short_liquidations_usd\"],\n",
    "    volume_diff=df[\"buy_volume\"] - df[\"sell_volume\"],\n",
    "    liquidation_diffg=np.sign(df[\"long_liquidations\"] - df[\"short_liquidations\"]),\n",
    "    liquidation_usd_diffg=np.sign(df[\"long_liquidations_usd\"] - df[\"short_liquidations_usd\"]),\n",
    "    volume_diffg=np.sign(df[\"buy_volume\"] - df[\"sell_volume\"]),\n",
    "    buy_sell_volume_ratio=df[\"buy_volume\"] / (df[\"sell_volume\"] + 1),\n",
    ")\n",
    "# category, continuous 열을 따로 할당해둠"
   ]
  },
  {
   "cell_type": "code",
   "execution_count": 8,
   "id": "20d962d6-ecb3-4c8c-83f4-24fc3416e783",
   "metadata": {},
   "outputs": [],
   "source": [
    "df['mean_7days'] = df['volume_diff'].rolling(window=168).mean()  # 7 days if hourly data\n",
    "df['mean_1day'] = df['volume_diff'].rolling(window=24).mean()    # 1 day if hourly data\n",
    "df['mean_1month'] = df['volume_diff'].rolling(window=720).mean()  # 1 month if hourly data (30 days)\n",
    "df['slope_7days'] = df['mean_7days'].diff()\n",
    "df['slope_1day'] = df['mean_1day'].diff()\n",
    "df['slope_1month'] = df['mean_1month'].diff()\n",
    "# Calculate the differences in moving averages\n",
    "df['mean_diff_7days_1day_volume'] = df['mean_7days'] - df['mean_1day']\n",
    "df['mean_diff_1month_7days_volume'] = df['mean_1month'] - df['mean_7days']\n",
    "\n",
    "df['mean_50'] = df['volume_diff'].rolling(window=50).mean()  # 50-period moving average\n",
    "df['mean_100'] = df['volume_diff'].rolling(window=100).mean()\n",
    "\n",
    "# Cross-signal generation\n",
    "df['cross_volume_diff'] = np.where(df['mean_50'] > df['mean_100'], 1, 0)\n",
    "df['cross_shifted_volume_diff'] = df['cross_volume_diff'].shift(1)\n",
    "df['cross_signal_volume_diff'] = np.where(df['cross_volume_diff'] != df['cross_shifted_volume_diff'], 1, 0)\n",
    "\n",
    "# # Rolling standard deviation for volatility\n",
    "# df['rolling_std_50_volume_diff'] = df['volume_diff'].rolling(window=50).std()\n",
    "# df['rolling_std_100_volume_diff'] = df['volume_diff'].rolling(window=100).std()\n",
    "\n",
    "# # Drop intermediate moving averages\n",
    "df.drop(columns=['mean_7days', 'mean_1day', 'mean_1month'], inplace=True)\n",
    "\n",
    "df['mean_7days'] = df['liquidation_diff'].rolling(window=168).mean()  # 7 days if hourly data\n",
    "df['mean_1day'] = df['liquidation_diff'].rolling(window=24).mean()    # 1 day if hourly data\n",
    "df['mean_1month'] = df['liquidation_diff'].rolling(window=720).mean()  # 1 month if hourly data (30 days)\n",
    "\n",
    "df['mean_diff_7days_1day_liquidation'] = df['mean_7days'] - df['mean_1day']\n",
    "df['mean_diff_1month_7days_liquidation'] = df['mean_1month'] - df['mean_7days']\n",
    "\n",
    "#Cross-signal generation\n",
    "df['cross_liquidation_diff'] = np.where(df['mean_50'] > df['mean_100'], 1, 0)\n",
    "df['cross_shifted_liquidation_diff'] = df['cross_liquidation_diff'].shift(1)\n",
    "df['cross_signal_liquidation_diff'] = np.where(df['cross_liquidation_diff'] != df['cross_shifted_liquidation_diff'], 1, 0)\n",
    "\n",
    "# # Rolling standard deviation for volatility\n",
    "# df['rolling_std_50_liquidation_diff'] = df['liquidation_diff'].rolling(window=50).std()\n",
    "# df['rolling_std_100_liquidation_diff'] = df['liquidation_diff'].rolling(window=100).std()\n",
    "\n",
    "df.drop(columns=['mean_7days', 'mean_1day', 'mean_1month','mean_50','mean_100'], inplace=True)"
   ]
  },
  {
   "cell_type": "code",
   "execution_count": 18,
   "id": "6fb3d12a-ca23-43de-9f22-eb278cd36fb3",
   "metadata": {},
   "outputs": [
    {
     "data": {
      "text/plain": [
       "Index(['ID', 'target', '_type', 'coinbase_premium_gap',\n",
       "       'coinbase_premium_index', 'funding_rates', 'long_liquidations',\n",
       "       'long_liquidations_usd', 'short_liquidations', 'short_liquidations_usd',\n",
       "       'open_interest', 'buy_ratio', 'buy_sell_ratio', 'buy_volume',\n",
       "       'sell_ratio', 'sell_volume', 'active_count', 'receiver_count',\n",
       "       'sender_count', 'liquidation_diff', 'liquidation_usd_diff',\n",
       "       'volume_diff', 'liquidation_diffg', 'liquidation_usd_diffg',\n",
       "       'volume_diffg', 'buy_sell_volume_ratio', 'slope_7days', 'slope_1day',\n",
       "       'slope_1month', 'mean_diff_7days_1day_volume',\n",
       "       'mean_diff_1month_7days_volume', 'cross_volume_diff',\n",
       "       'cross_shifted_volume_diff', 'cross_signal_volume_diff',\n",
       "       'mean_diff_7days_1day_liquidation',\n",
       "       'mean_diff_1month_7days_liquidation', 'cross_liquidation_diff',\n",
       "       'cross_shifted_liquidation_diff', 'cross_signal_liquidation_diff'],\n",
       "      dtype='object')"
      ]
     },
     "execution_count": 18,
     "metadata": {},
     "output_type": "execute_result"
    }
   ],
   "source": [
    "df.columns"
   ]
  },
  {
   "cell_type": "code",
   "execution_count": 19,
   "id": "f790098e-0c60-48c1-bc0d-fd11ad35c0cc",
   "metadata": {},
   "outputs": [],
   "source": [
    "category_cols: List[str] = [\"liquidation_diffg\", \"liquidation_usd_diffg\", \"volume_diffg\",'cross_volume_diff','cross_shifted_volume_diff',\n",
    "                            'cross_signal_volume_diff','mean_diff_7days_1day_volume','mean_diff_1month_7days_volume',\n",
    "                            'mean_diff_7days_1day_liquidation','mean_diff_1month_7days_liquidation',\n",
    "                            'cross_liquidation_diff','cross_shifted_liquidation_diff',\n",
    "                           'cross_signal_liquidation_diff','slope_7days','slope_1day','slope_1month']\n",
    "conti_cols: List[str] = [_ for _ in df.columns if _ not in [\"ID\", \"target\", \"_type\"]+category_cols]  \n",
    "\n"
   ]
  },
  {
   "cell_type": "code",
   "execution_count": null,
   "id": "21af1c67-04b4-4ab4-bb31-dfeb62b2bc20",
   "metadata": {},
   "outputs": [],
   "source": [
    "conti_cols"
   ]
  },
  {
   "cell_type": "code",
   "execution_count": 20,
   "id": "805f4ed0-1c1a-489d-9f90-e63cd453a854",
   "metadata": {},
   "outputs": [],
   "source": [
    "def shift_feature(\n",
    "    df: pd.DataFrame,\n",
    "    conti_cols: List[str],\n",
    "    intervals: List[int],\n",
    ") -> List[pd.Series]:\n",
    "    \"\"\"\n",
    "    연속형 변수의 shift feature 생성\n",
    "    Args:\n",
    "        df (pd.DataFrame)\n",
    "        conti_cols (List[str]): continuous colnames\n",
    "        intervals (List[int]): shifted intervals\n",
    "    Return:\n",
    "        List[pd.Series]\n",
    "    \"\"\"\n",
    "    df_shift_dict = [\n",
    "        df[conti_col].shift(interval).rename(f\"{conti_col}_{interval}\")\n",
    "        for conti_col in conti_cols\n",
    "        for interval in intervals\n",
    "    ]\n",
    "    return df_shift_dict\n",
    "\n",
    "# 최대 24시간의 shift 피쳐를 계산\n",
    "shift_list = shift_feature(\n",
    "    df=df, conti_cols=conti_cols, intervals=[_ for _ in range(1, 24)]\n",
    ")\n",
    "# concat 하여 df 에 할당\n",
    "# df = pd.concat([df, pd.concat(shift_list, axis=1)], axis=1)\n"
   ]
  },
  {
   "cell_type": "code",
   "execution_count": 34,
   "id": "86f21af1-6076-48e2-8fc9-da93b4b24f0d",
   "metadata": {},
   "outputs": [],
   "source": [
    "# Step 1: Apply Window Slicing to Data Where Target is 0 or 3\n",
    "df_filtered = df[(df['target'] == 0) | (df['target'] == 3)]\n",
    "df_filtered\n",
    "# Example window slicing function\n",
    "def window_slicing(time_series, window_size):\n",
    "    slices = []\n",
    "    for i in range(len(time_series) - window_size + 1):\n",
    "        window = time_series[i: i + window_size]\n",
    "        slices.append(window)\n",
    "    return np.array(slices)\n",
    "\n",
    "# Example window size (24 hours for 1 day window)\n",
    "window_size = 24\n",
    "sliced_data = window_slicing(df_filtered, window_size)\n",
    "augmented_data = pd.DataFrame()\n",
    "for i in sliced_data:\n",
    "    i_df=pd.DataFrame(i,columns=df_filtered.columns)\n",
    "    augmented_data=pd.concat([augmented_data,i_df],axis=0)\n",
    "\n",
    "#Step 2: Apply Noise Injection to the Sliced Data (excluding 'id' and 'target')\n",
    "def add_noise_to_data(df, noise_level=0.01):\n",
    "    df_noisy = df.copy()\n",
    "\n",
    "    # Exclude 'id' and 'target' columns from noise injection\n",
    "    feature_columns = df.columns.difference(['id', 'target'])\n",
    "    \n",
    "    # Generate noise for the feature columns\n",
    "    noise = np.random.normal(0, noise_level, size=df[feature_columns].shape)\n",
    "    \n",
    "    # Apply noise to feature columns\n",
    "    df_noisy[feature_columns] = df[feature_columns] + noise\n",
    "    \n",
    "    return df_noisy\n",
    "\n",
    "# Apply noise to the sliced data\n",
    "augmented_noisy_data = add_noise_to_data(augmented_data, noise_level=0.05)\n",
    "\n"
   ]
  },
  {
   "cell_type": "code",
   "execution_count": 37,
   "id": "0bcf0708-604f-43cd-93ec-18d62f990aa8",
   "metadata": {},
   "outputs": [
    {
     "data": {
      "text/plain": [
       "(1545, 499)"
      ]
     },
     "execution_count": 37,
     "metadata": {},
     "output_type": "execute_result"
    }
   ],
   "source": [
    "df_filtered.shape"
   ]
  },
  {
   "cell_type": "code",
   "execution_count": null,
   "id": "2f943dcb-33f2-4ea6-b4b2-78b3e9a160d3",
   "metadata": {},
   "outputs": [],
   "source": [
    "from typing import List\n",
    "import pandas as pd\n",
    "\n",
    "def rolling_feature(\n",
    "   df: pd.DataFrame,\n",
    "   conti_cols: List[str],\n",
    "   intervals: List[int],\n",
    "   funcs: List[str],\n",
    "   **params,\n",
    ") -> pd.DataFrame:\n",
    "   \"\"\"\n",
    "   Create rolling features\n",
    "   Args:\n",
    "       df (pd.DataFrame): Sorted dataframe\n",
    "       conti_cols (List[str]): continuous colnames\n",
    "       intervals (List[str]): rolling window widths\n",
    "       funcs (List[str]): aggregation functions e.g. [\"mean\", \"median\", \"max\"]\n",
    "       **params: more input for rolling\n",
    "   Returns:\n",
    "       pd.DataFrame\n",
    "   \"\"\"\n",
    "   df_rolling_list = [\n",
    "       df[conti_col]\n",
    "       .rolling(interval, **params)\n",
    "       .agg({f\"{conti_col}\": func})\n",
    "       .rename({conti_col: f\"{conti_col}_{func}_{interval}\"}, axis=1)\n",
    "       for conti_col in conti_cols\n",
    "       for interval in intervals\n",
    "       for func in funcs\n",
    "   ]\n",
    "   return pd.concat(df_rolling_list, axis = 1)\n"
   ]
  },
  {
   "cell_type": "code",
   "execution_count": 17,
   "id": "fdb845a1-fdfa-44b9-a9ea-34d63d1c1165",
   "metadata": {
    "scrolled": true
   },
   "outputs": [
    {
     "ename": "NameError",
     "evalue": "name 'rolling_feature' is not defined",
     "output_type": "error",
     "traceback": [
      "\u001b[0;31m---------------------------------------------------------------------------\u001b[0m",
      "\u001b[0;31mNameError\u001b[0m                                 Traceback (most recent call last)",
      "Cell \u001b[0;32mIn[17], line 3\u001b[0m\n\u001b[1;32m      1\u001b[0m \u001b[38;5;66;03m#'block-interval_block_interval'\u001b[39;00m\n\u001b[1;32m      2\u001b[0m conti_cols \u001b[38;5;241m=\u001b[39m [\u001b[38;5;124m\"\u001b[39m\u001b[38;5;124mcoinbase_premium_gap\u001b[39m\u001b[38;5;124m\"\u001b[39m, \u001b[38;5;124m\"\u001b[39m\u001b[38;5;124mcoinbase_premium_index\u001b[39m\u001b[38;5;124m\"\u001b[39m,\u001b[38;5;124m'\u001b[39m\u001b[38;5;124msender_count\u001b[39m\u001b[38;5;124m'\u001b[39m,\u001b[38;5;124m'\u001b[39m\u001b[38;5;124mreceiver_count\u001b[39m\u001b[38;5;124m'\u001b[39m,\u001b[38;5;124m'\u001b[39m\u001b[38;5;124mopen_interest\u001b[39m\u001b[38;5;124m'\u001b[39m,\u001b[38;5;124m'\u001b[39m\u001b[38;5;124mfunding-rates\u001b[39m\u001b[38;5;124m'\u001b[39m]\n\u001b[0;32m----> 3\u001b[0m rolling_df \u001b[38;5;241m=\u001b[39m \u001b[43mrolling_feature\u001b[49m(\n\u001b[1;32m      4\u001b[0m    df \u001b[38;5;241m=\u001b[39m df,\n\u001b[1;32m      5\u001b[0m    conti_cols\u001b[38;5;241m=\u001b[39mconti_cols,\n\u001b[1;32m      6\u001b[0m    intervals\u001b[38;5;241m=\u001b[39m[ i \u001b[38;5;28;01mfor\u001b[39;00m i \u001b[38;5;129;01min\u001b[39;00m [\u001b[38;5;241m24\u001b[39m, \u001b[38;5;241m168\u001b[39m, \u001b[38;5;241m720\u001b[39m]],\n\u001b[1;32m      7\u001b[0m    funcs\u001b[38;5;241m=\u001b[39m[\u001b[38;5;124m\"\u001b[39m\u001b[38;5;124mmean\u001b[39m\u001b[38;5;124m\"\u001b[39m, \u001b[38;5;124m\"\u001b[39m\u001b[38;5;124mmedian\u001b[39m\u001b[38;5;124m\"\u001b[39m],\n\u001b[1;32m      8\u001b[0m    min_periods \u001b[38;5;241m=\u001b[39m \u001b[38;5;241m1\u001b[39m,\n\u001b[1;32m      9\u001b[0m    closed \u001b[38;5;241m=\u001b[39m \u001b[38;5;124m\"\u001b[39m\u001b[38;5;124mleft\u001b[39m\u001b[38;5;124m\"\u001b[39m,\n\u001b[1;32m     10\u001b[0m )\n\u001b[1;32m     12\u001b[0m df\u001b[38;5;241m=\u001b[39mpd\u001b[38;5;241m.\u001b[39mconcat([df, rolling_df], axis \u001b[38;5;241m=\u001b[39m \u001b[38;5;241m1\u001b[39m)\n",
      "\u001b[0;31mNameError\u001b[0m: name 'rolling_feature' is not defined"
     ]
    }
   ],
   "source": [
    "#'block-interval_block_interval'\n",
    "conti_cols = [\"coinbase_premium_gap\", \"coinbase_premium_index\",'sender_count','receiver_count','open_interest','funding-rates']\n",
    "rolling_df = rolling_feature(\n",
    "   df = df,\n",
    "   conti_cols=conti_cols,\n",
    "   intervals=[ i for i in [12,24, 168, 720]],\n",
    "   funcs=[\"mean\", \"median\"],\n",
    "   min_periods = 1,\n",
    "   closed = \"left\",\n",
    ")\n",
    "\n",
    "df=pd.concat([df, rolling_df], axis = 1)"
   ]
  },
  {
   "cell_type": "code",
   "execution_count": null,
   "id": "3c35630e-523d-46da-a81a-a77de54e76ba",
   "metadata": {},
   "outputs": [],
   "source": []
  },
  {
   "cell_type": "code",
   "execution_count": 21,
   "id": "6a6f6ed1-a975-444c-abc4-8675fb52e947",
   "metadata": {},
   "outputs": [
    {
     "data": {
      "text/plain": [
       "(11552, 499)"
      ]
     },
     "execution_count": 21,
     "metadata": {},
     "output_type": "execute_result"
    }
   ],
   "source": [
    "df.shape"
   ]
  },
  {
   "cell_type": "code",
   "execution_count": 22,
   "id": "2ea00a5d-8d37-45a1-b4b6-332ee4eef4b1",
   "metadata": {},
   "outputs": [],
   "source": [
    "\n",
    "# 타겟 변수를 제외한 변수를 forwardfill, -999로 결측치 대체\n",
    "_target = df[\"target\"]\n",
    "df = df.ffill().fillna(-999).assign(target = _target)\n",
    "\n",
    "# _type에 따라 train, test 분리\n",
    "train_df = df.loc[df[\"_type\"]==\"train\"].drop(columns=[\"_type\"])\n",
    "test_df = df.loc[df[\"_type\"]==\"test\"].drop(columns=[\"_type\"])"
   ]
  },
  {
   "cell_type": "code",
   "execution_count": 23,
   "id": "9b3f8bc8-acd7-446a-9757-2edcf45d26e5",
   "metadata": {},
   "outputs": [
    {
     "data": {
      "text/plain": [
       "(7008, 496)"
      ]
     },
     "execution_count": 23,
     "metadata": {},
     "output_type": "execute_result"
    }
   ],
   "source": [
    "x_train, x_valid, y_train, y_valid = train_test_split(\n",
    "    train_df.drop([\"target\", \"ID\"], axis=1), \n",
    "    train_df[\"target\"].astype(int), \n",
    "    test_size=0.2,\n",
    "    random_state=42,\n",
    "    stratify=train_df[\"target\"].astype(int)\n",
    ")\n",
    "x_train.shape"
   ]
  },
  {
   "cell_type": "code",
   "execution_count": 27,
   "id": "b730257f-6fe6-4f01-a799-923917189f38",
   "metadata": {},
   "outputs": [
    {
     "name": "stderr",
     "output_type": "stream",
     "text": [
      "/Users/sinseunghun/anaconda3/envs/my_proejct/lib/python3.9/site-packages/lightgbm/engine.py:204: UserWarning: Found `n_estimators` in params. Will use it instead of argument\n",
      "  _log_warning(f\"Found `{alias}` in params. Will use it instead of argument\")\n"
     ]
    },
    {
     "name": "stdout",
     "output_type": "stream",
     "text": [
      "acc: 0.4531963470319635, auroc: 0.6103048317001225\n"
     ]
    }
   ],
   "source": [
    "\n",
    "def train_lgmClassifier(x_train,x_valid,y_train,y_valid):\n",
    "    \n",
    "\n",
    "# lgb dataset\n",
    "    train_data = lgb.Dataset(x_train, label=y_train)\n",
    "    valid_data = lgb.Dataset(x_valid, label=y_valid, reference=train_data)\n",
    "\n",
    "# lgb params\n",
    "    params = {\n",
    "        \"boosting_type\": \"gbdt\",\n",
    "        \"objective\": \"multiclass\",\n",
    "        \"metric\": \"multi_logloss\",\n",
    "        \"num_class\": 4,\n",
    "        \"num_leaves\": 50,\n",
    "        \"learning_rate\": 0.05,\n",
    "        \"n_estimators\": 50,\n",
    "        \"random_state\": 42,\n",
    "        \"verbose\": 0,\n",
    "    }\n",
    "\n",
    "# lgb train\n",
    "    lgb_model = lgb.train(\n",
    "        params=params,\n",
    "        train_set=train_data,\n",
    "        valid_sets=valid_data,\n",
    "    )\n",
    "\n",
    "# lgb predict\n",
    "    y_valid_pred = lgb_model.predict(x_valid)\n",
    "    y_valid_pred_class = np.argmax(y_valid_pred, axis = 1)\n",
    "\n",
    "# score check\n",
    "    accuracy = accuracy_score(y_valid, y_valid_pred_class)\n",
    "    auroc = roc_auc_score(y_valid, y_valid_pred, multi_class=\"ovr\")\n",
    "\n",
    "    print(f\"acc: {accuracy}, auroc: {auroc}\")\n",
    "    return lgb_model,accuracy,params\n",
    "lgb_model,accuracy,params=train_lgmClassifier(x_train,x_valid,y_train,y_valid)\n"
   ]
  },
  {
   "cell_type": "code",
   "execution_count": 25,
   "id": "06872b60-a157-4cf6-9cb1-d005b38fc089",
   "metadata": {
    "scrolled": true
   },
   "outputs": [
    {
     "name": "stdout",
     "output_type": "stream",
     "text": [
      "                                Feature  Importance\n",
      "12                          sell_volume         123\n",
      "27        mean_diff_1month_7days_volume          95\n",
      "10                           buy_volume          87\n",
      "389                      sender_count_9          76\n",
      "369                   receiver_count_12          64\n",
      "347                     active_count_13          61\n",
      "26          mean_diff_7days_1day_volume          58\n",
      "470                      volume_diff_21          58\n",
      "270                        buy_volume_5          58\n",
      "349                     active_count_15          55\n",
      "464                      volume_diff_15          51\n",
      "391                     sender_count_11          50\n",
      "32   mean_diff_1month_7days_liquidation          50\n",
      "455                       volume_diff_6          46\n",
      "25                         slope_1month          45\n",
      "458                       volume_diff_9          45\n",
      "385                      sender_count_5          44\n",
      "460                      volume_diff_11          43\n",
      "18                          volume_diff          43\n",
      "374                   receiver_count_17          43\n",
      "352                     active_count_18          43\n",
      "387                      sender_count_7          42\n",
      "377                   receiver_count_20          42\n",
      "312                       sell_volume_1          41\n",
      "383                      sender_count_3          41\n",
      "23                          slope_7days          41\n",
      "402                     sender_count_22          41\n",
      "398                     sender_count_18          40\n",
      "395                     sender_count_15          39\n",
      "368                   receiver_count_11          39\n",
      "334                      sell_volume_23          39\n",
      "393                     sender_count_13          39\n",
      "379                   receiver_count_22          38\n",
      "372                   receiver_count_15          38\n",
      "370                   receiver_count_13          38\n",
      "453                       volume_diff_4          37\n",
      "236                        buy_ratio_17          37\n",
      "337                      active_count_3          37\n",
      "8                             buy_ratio          37\n",
      "104                    funding_rates_23          37\n",
      "267                        buy_volume_2          36\n",
      "468                      volume_diff_19          36\n",
      "339                      active_count_5          36\n",
      "363                    receiver_count_6          36\n",
      "338                      active_count_4          36\n",
      "350                     active_count_16          36\n",
      "365                    receiver_count_8          35\n",
      "373                   receiver_count_16          35\n",
      "378                   receiver_count_21          35\n",
      "16                     liquidation_diff          35\n"
     ]
    }
   ],
   "source": [
    "importance = lgb_model.feature_importance()\n",
    "feature_names=train_df.drop([\"target\", \"ID\"], axis = 1).columns\n",
    "feature_importance_df = pd.DataFrame({\n",
    "    'Feature': feature_names,\n",
    "    'Importance': importance\n",
    "})\n",
    "\n",
    "# Sort by importance (optional)\n",
    "feature_importance_df = feature_importance_df.sort_values(by='Importance', ascending=False)\n",
    "\n",
    "# Display the DataFrame\n",
    "print(feature_importance_df[:50])\n",
    "# a=feature_importance_df[:100]\n",
    "# train_df[a.loc[:,'Feature']]"
   ]
  },
  {
   "cell_type": "code",
   "execution_count": null,
   "id": "3393428f-bdd7-4535-96fd-a0664b72c5de",
   "metadata": {},
   "outputs": [],
   "source": [
    "pred_lgm = []\n",
    "pred_xgb = []\n",
    "\n",
    "# Perform cross-validation with stratification\n",
    "for train_idx, val_idx in k_fold.split(train_df.drop([\"target\"], axis=1), train_df[\"target\"]):\n",
    "    # Train and validation sets\n",
    "    x_tr = train_df.drop([\"target\"], axis=1).iloc[train_idx]\n",
    "    y_tr = train_df['target'].iloc[train_idx]\n",
    "    x_val = train_df.drop([\"target\"], axis=1).iloc[val_idx]\n",
    "    y_val = train_df['target'].iloc[val_idx]\n",
    "\n",
    "    # Select top 200 features using SelectKBest with f_classif\n",
    "    n_feature = 200\n",
    "    selector1 = SelectKBest(f_classif, k=n_feature)\n",
    "    x_tr_sel = selector1.fit_transform(x_tr, y_tr)\n",
    "    x_val_sel = selector1.transform(x_val)\n",
    "    _,accuracy=train_lgmClassifier(x_tr_sel, x_val_sel, y_tr, y_val)\n",
    "    # Train and get predictions for LGBM and XGBoost\n",
    "    pred_lgm.append(accuracy)\n",
    "    _,accuracy=train_XGboostClassifier(x_tr_sel, x_val_sel, y_tr, y_val)\n",
    "    pred_xgb.append(accuracy)"
   ]
  },
  {
   "cell_type": "code",
   "execution_count": null,
   "id": "9c9e031a-6467-4f1c-95e3-df95a381d095",
   "metadata": {},
   "outputs": [],
   "source": [
    "x_train = train_df.drop([\"target\", \"ID\"], axis = 1)\n",
    "y_train = train_df[\"target\"].astype(int)\n",
    "train_data = lgb.Dataset(x_train, label=y_train)\n",
    "lgb_model = lgb.train(\n",
    "    params=params,\n",
    "    train_set=train_data,\n",
    ")"
   ]
  },
  {
   "cell_type": "code",
   "execution_count": null,
   "id": "ffc7af7b-10aa-4941-b196-40a37ed5ef60",
   "metadata": {},
   "outputs": [],
   "source": [
    "# lgb predict\n",
    "y_test_pred = lgb_model.predict(test_df.drop([\"target\", \"ID\"], axis = 1))\n",
    "y_test_pred_class = np.argmax(y_test_pred, axis = 1)"
   ]
  },
  {
   "cell_type": "code",
   "execution_count": null,
   "id": "6478871d-e173-42f1-add7-bb49abd3f284",
   "metadata": {},
   "outputs": [],
   "source": [
    "# output file 할당후 save \n",
    "submission_df = submission_df.assign(target = y_test_pred_class)\n",
    "submission_df.to_csv(\"output.csv\", index=False)"
   ]
  },
  {
   "cell_type": "code",
   "execution_count": null,
   "id": "8e340668-1387-43b0-ba64-c00ae7a6d217",
   "metadata": {},
   "outputs": [],
   "source": [
    "train_df['ID'] = pd.to_datetime(train_df['ID'])"
   ]
  },
  {
   "cell_type": "code",
   "execution_count": null,
   "id": "5784e703-a8d3-4cf4-926c-26ac072ffcbb",
   "metadata": {},
   "outputs": [],
   "source": [
    "sns.lineplot(x='ID',y='liquidation_diff',data=train_df)"
   ]
  },
  {
   "cell_type": "code",
   "execution_count": null,
   "id": "6aa22b0c-4b10-4415-b77c-efe0f1170991",
   "metadata": {},
   "outputs": [],
   "source": [
    "sns.lineplot(x='ID',y='funding_rates',data=train_df)"
   ]
  },
  {
   "cell_type": "code",
   "execution_count": null,
   "id": "a5bcf839-777b-4162-98c8-3413a51da797",
   "metadata": {},
   "outputs": [],
   "source": [
    "sns.lineplot(x='ID',y='volume_diff',data=train_df)"
   ]
  },
  {
   "cell_type": "code",
   "execution_count": null,
   "id": "33de7c1a-c03f-46c6-a3ca-04f5907859a4",
   "metadata": {},
   "outputs": [],
   "source": [
    "col_name = \"volume_diff\"\n",
    "exp=pd.concat(\n",
    "   [\n",
    "       train_df[col_name],\n",
    "       train_df[col_name].rolling(2).mean().rename(f\"mean_2\"),\n",
    "       train_df[col_name].rolling(5).mean().rename(f\"mean_24\"),\n",
    "       train_df[col_name].rolling(10).mean().rename(f\"mean_168\"),\n",
    "       train_df[col_name].rolling(50).mean().rename(f\"mean_672\"),\n",
    "       train_df[col_name].rolling(50).mean().rename(f\"mean_100\"),\n",
    "   ], axis = 1)\n",
    "exp\n"
   ]
  },
  {
   "cell_type": "code",
   "execution_count": null,
   "id": "9fecd85b-9d1e-4d23-a45f-e4751c350642",
   "metadata": {},
   "outputs": [],
   "source": [
    "sns.lineplot(x=exp.index,y='mean_168',data=exp,label='7days')\n",
    "sns.lineplot(x=exp.index,y='mean_24',data=exp,label='day')\n",
    "sns.lineplot(x=exp.index,y='mean_672',data=exp,label='month')\n"
   ]
  },
  {
   "cell_type": "code",
   "execution_count": null,
   "id": "3d043cb0-4c2c-4716-893a-09c929094dc1",
   "metadata": {},
   "outputs": [],
   "source": []
  },
  {
   "cell_type": "code",
   "execution_count": null,
   "id": "252fade0-8a5a-42c9-82c2-4590858aa128",
   "metadata": {},
   "outputs": [],
   "source": []
  }
 ],
 "metadata": {
  "kernelspec": {
   "display_name": "Python 3 (ipykernel)",
   "language": "python",
   "name": "python3"
  },
  "language_info": {
   "codemirror_mode": {
    "name": "ipython",
    "version": 3
   },
   "file_extension": ".py",
   "mimetype": "text/x-python",
   "name": "python",
   "nbconvert_exporter": "python",
   "pygments_lexer": "ipython3",
   "version": "3.12.2"
  }
 },
 "nbformat": 4,
 "nbformat_minor": 5
}
