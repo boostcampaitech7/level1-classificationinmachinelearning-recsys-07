{
 "cells": [
  {
   "cell_type": "code",
   "execution_count": 1,
   "metadata": {},
   "outputs": [],
   "source": [
    "import os\n",
    "from typing import List, Dict\n",
    "from tqdm import tqdm\n",
    "import numpy as np\n",
    "import pandas as pd\n",
    "from sklearn.model_selection import train_test_split\n",
    "from sklearn.metrics import accuracy_score, roc_auc_score\n",
    "import lightgbm as lgb\n",
    "from plotly.subplots import make_subplots\n",
    "import plotly.graph_objects as go\n",
    "import matplotlib.pyplot as plt\n",
    "\n",
    "import seaborn as sns\n",
    "\n"
   ]
  },
  {
   "cell_type": "code",
   "execution_count": 2,
   "metadata": {},
   "outputs": [
    {
     "data": {
      "text/html": [
       "<div>\n",
       "<style scoped>\n",
       "    .dataframe tbody tr th:only-of-type {\n",
       "        vertical-align: middle;\n",
       "    }\n",
       "\n",
       "    .dataframe tbody tr th {\n",
       "        vertical-align: top;\n",
       "    }\n",
       "\n",
       "    .dataframe thead th {\n",
       "        text-align: right;\n",
       "    }\n",
       "</style>\n",
       "<table border=\"1\" class=\"dataframe\">\n",
       "  <thead>\n",
       "    <tr style=\"text-align: right;\">\n",
       "      <th></th>\n",
       "      <th>ID</th>\n",
       "      <th>target</th>\n",
       "      <th>_type</th>\n",
       "    </tr>\n",
       "  </thead>\n",
       "  <tbody>\n",
       "    <tr>\n",
       "      <th>0</th>\n",
       "      <td>2023-01-01 00:00:00</td>\n",
       "      <td>2.0</td>\n",
       "      <td>train</td>\n",
       "    </tr>\n",
       "    <tr>\n",
       "      <th>1</th>\n",
       "      <td>2023-01-01 01:00:00</td>\n",
       "      <td>1.0</td>\n",
       "      <td>train</td>\n",
       "    </tr>\n",
       "    <tr>\n",
       "      <th>2</th>\n",
       "      <td>2023-01-01 02:00:00</td>\n",
       "      <td>1.0</td>\n",
       "      <td>train</td>\n",
       "    </tr>\n",
       "    <tr>\n",
       "      <th>3</th>\n",
       "      <td>2023-01-01 03:00:00</td>\n",
       "      <td>1.0</td>\n",
       "      <td>train</td>\n",
       "    </tr>\n",
       "    <tr>\n",
       "      <th>4</th>\n",
       "      <td>2023-01-01 04:00:00</td>\n",
       "      <td>2.0</td>\n",
       "      <td>train</td>\n",
       "    </tr>\n",
       "    <tr>\n",
       "      <th>...</th>\n",
       "      <td>...</td>\n",
       "      <td>...</td>\n",
       "      <td>...</td>\n",
       "    </tr>\n",
       "    <tr>\n",
       "      <th>2787</th>\n",
       "      <td>2024-04-26 03:00:00</td>\n",
       "      <td>NaN</td>\n",
       "      <td>test</td>\n",
       "    </tr>\n",
       "    <tr>\n",
       "      <th>2788</th>\n",
       "      <td>2024-04-26 04:00:00</td>\n",
       "      <td>NaN</td>\n",
       "      <td>test</td>\n",
       "    </tr>\n",
       "    <tr>\n",
       "      <th>2789</th>\n",
       "      <td>2024-04-26 05:00:00</td>\n",
       "      <td>NaN</td>\n",
       "      <td>test</td>\n",
       "    </tr>\n",
       "    <tr>\n",
       "      <th>2790</th>\n",
       "      <td>2024-04-26 06:00:00</td>\n",
       "      <td>NaN</td>\n",
       "      <td>test</td>\n",
       "    </tr>\n",
       "    <tr>\n",
       "      <th>2791</th>\n",
       "      <td>2024-04-26 07:00:00</td>\n",
       "      <td>NaN</td>\n",
       "      <td>test</td>\n",
       "    </tr>\n",
       "  </tbody>\n",
       "</table>\n",
       "<p>11552 rows × 3 columns</p>\n",
       "</div>"
      ],
      "text/plain": [
       "                       ID  target  _type\n",
       "0     2023-01-01 00:00:00     2.0  train\n",
       "1     2023-01-01 01:00:00     1.0  train\n",
       "2     2023-01-01 02:00:00     1.0  train\n",
       "3     2023-01-01 03:00:00     1.0  train\n",
       "4     2023-01-01 04:00:00     2.0  train\n",
       "...                   ...     ...    ...\n",
       "2787  2024-04-26 03:00:00     NaN   test\n",
       "2788  2024-04-26 04:00:00     NaN   test\n",
       "2789  2024-04-26 05:00:00     NaN   test\n",
       "2790  2024-04-26 06:00:00     NaN   test\n",
       "2791  2024-04-26 07:00:00     NaN   test\n",
       "\n",
       "[11552 rows x 3 columns]"
      ]
     },
     "execution_count": 2,
     "metadata": {},
     "output_type": "execute_result"
    }
   ],
   "source": [
    "# 파일 호출\n",
    "data_path: str = \"data\"\n",
    "train_df: pd.DataFrame = pd.read_csv(os.path.join(data_path, \"train.csv\")).assign(_type=\"train\") # train 에는 _type = train \n",
    "test_df: pd.DataFrame = pd.read_csv(os.path.join(data_path, \"test.csv\")).assign(_type=\"test\") # test 에는 _type = test\n",
    "submission_df: pd.DataFrame = pd.read_csv(os.path.join(data_path, \"test.csv\")) # ID, target 열만 가진 데이터 미리 호출\n",
    "df: pd.DataFrame = pd.concat([train_df, test_df], axis=0)\n",
    "df\n"
   ]
  },
  {
   "cell_type": "code",
   "execution_count": 3,
   "metadata": {},
   "outputs": [
    {
     "name": "stderr",
     "output_type": "stream",
     "text": [
      "100%|██████████| 107/107 [00:01<00:00, 60.99it/s]\n"
     ]
    }
   ],
   "source": [
    "file_names: List[str] = [\n",
    "    f for f in os.listdir(data_path) if f.startswith(\"HOURLY_\") and f.endswith(\".csv\")\n",
    "]\n",
    "# 파일명 : 데이터프레임으로 딕셔너리 형태로 저장\n",
    "file_dict: Dict[str, pd.DataFrame] = {\n",
    "    f.replace(\".csv\", \"\"): pd.read_csv(os.path.join(data_path, f)) for f in file_names\n",
    "}\n",
    "\n",
    "for _file_name, _df in tqdm(file_dict.items()):\n",
    "    # 열 이름 중복 방지를 위해 {_file_name.lower()}_{col.lower()}로 변경, datetime 열을 ID로 변경\n",
    "    _rename_rule = {\n",
    "        col: f\"{_file_name.lower()}_{col.lower()}\" if col != \"datetime\" else \"ID\"\n",
    "        for col in _df.columns\n",
    "    }\n",
    "    _df = _df.rename(_rename_rule, axis=1)\n",
    "    df = df.merge(_df, on=\"ID\", how=\"left\")"
   ]
  },
  {
   "cell_type": "code",
   "execution_count": 4,
   "metadata": {},
   "outputs": [
    {
     "data": {
      "text/plain": [
       "(11552, 19)"
      ]
     },
     "execution_count": 4,
     "metadata": {},
     "output_type": "execute_result"
    }
   ],
   "source": [
    "cols_dict: Dict[str, str] = {\n",
    "    \"ID\": \"ID\",\n",
    "    \"target\": \"target\",\n",
    "    \"_type\": \"_type\",\n",
    "    \"hourly_market-data_coinbase-premium-index_coinbase_premium_gap\": \"coinbase_premium_gap\",\n",
    "    \"hourly_market-data_coinbase-premium-index_coinbase_premium_index\": \"coinbase_premium_index\",\n",
    "    \"hourly_market-data_funding-rates_all_exchange_funding_rates\": \"funding_rates\",\n",
    "    \"hourly_market-data_liquidations_all_exchange_all_symbol_long_liquidations\": \"long_liquidations\",\n",
    "    \"hourly_market-data_liquidations_all_exchange_all_symbol_long_liquidations_usd\": \"long_liquidations_usd\",\n",
    "    \"hourly_market-data_liquidations_all_exchange_all_symbol_short_liquidations\": \"short_liquidations\",\n",
    "    \"hourly_market-data_liquidations_all_exchange_all_symbol_short_liquidations_usd\": \"short_liquidations_usd\",\n",
    "    \"hourly_market-data_open-interest_all_exchange_all_symbol_open_interest\": \"open_interest\",\n",
    "    \"hourly_market-data_taker-buy-sell-stats_all_exchange_taker_buy_ratio\": \"buy_ratio\",\n",
    "    \"hourly_market-data_taker-buy-sell-stats_all_exchange_taker_buy_sell_ratio\": \"buy_sell_ratio\",\n",
    "    \"hourly_market-data_taker-buy-sell-stats_all_exchange_taker_buy_volume\": \"buy_volume\",\n",
    "    \"hourly_market-data_taker-buy-sell-stats_all_exchange_taker_sell_ratio\": \"sell_ratio\",\n",
    "    \"hourly_market-data_taker-buy-sell-stats_all_exchange_taker_sell_volume\": \"sell_volume\",\n",
    "    \"hourly_network-data_addresses-count_addresses_count_active\": \"active_count\",\n",
    "    \"hourly_network-data_addresses-count_addresses_count_receiver\": \"receiver_count\",\n",
    "    \"hourly_network-data_addresses-count_addresses_count_sender\": \"sender_count\",\n",
    "}\n",
    "df = df[cols_dict.keys()].rename(cols_dict, axis=1)\n",
    "df.shape\n"
   ]
  },
  {
   "cell_type": "code",
   "execution_count": 5,
   "metadata": {},
   "outputs": [],
   "source": [
    "df = df.assign(\n",
    "    liquidation_diff=df[\"long_liquidations\"] - df[\"short_liquidations\"],\n",
    "    liquidation_usd_diff=df[\"long_liquidations_usd\"] - df[\"short_liquidations_usd\"],\n",
    "    volume_diff=df[\"buy_volume\"] - df[\"sell_volume\"],\n",
    "    liquidation_diffg=np.sign(df[\"long_liquidations\"] - df[\"short_liquidations\"]),\n",
    "    liquidation_usd_diffg=np.sign(df[\"long_liquidations_usd\"] - df[\"short_liquidations_usd\"]),\n",
    "    volume_diffg=np.sign(df[\"buy_volume\"] - df[\"sell_volume\"]),\n",
    "    buy_sell_volume_ratio=df[\"buy_volume\"] / (df[\"sell_volume\"] + 1),\n",
    ")\n",
    "# category, continuous 열을 따로 할당해둠"
   ]
  },
  {
   "cell_type": "code",
   "execution_count": 6,
   "metadata": {},
   "outputs": [],
   "source": [
    "exclude_cols: List[str] = [\"liquidation_diffg\", \"liquidation_usd_diffg\", \"volume_diffg\"]\n",
    "conti_cols: List[str] = [_ for _ in cols_dict.values() if _ not in [\"ID\", \"target\", \"_type\"]+exclude_cols] +[\n",
    "    \"buy_sell_volume_ratio\",\n",
    "    \"liquidation_diff\",\n",
    "    \"liquidation_usd_diff\",\n",
    "    \"volume_diff\",\n",
    "]\n",
    "\n"
   ]
  },
  {
   "cell_type": "code",
   "execution_count": 7,
   "metadata": {},
   "outputs": [
    {
     "data": {
      "text/plain": [
       "['coinbase_premium_gap',\n",
       " 'coinbase_premium_index',\n",
       " 'funding_rates',\n",
       " 'long_liquidations',\n",
       " 'long_liquidations_usd',\n",
       " 'short_liquidations',\n",
       " 'short_liquidations_usd',\n",
       " 'open_interest',\n",
       " 'buy_ratio',\n",
       " 'buy_sell_ratio',\n",
       " 'buy_volume',\n",
       " 'sell_ratio',\n",
       " 'sell_volume',\n",
       " 'active_count',\n",
       " 'receiver_count',\n",
       " 'sender_count',\n",
       " 'buy_sell_volume_ratio',\n",
       " 'liquidation_diff',\n",
       " 'liquidation_usd_diff',\n",
       " 'volume_diff']"
      ]
     },
     "execution_count": 7,
     "metadata": {},
     "output_type": "execute_result"
    }
   ],
   "source": [
    "conti_cols"
   ]
  },
  {
   "attachments": {},
   "cell_type": "markdown",
   "metadata": {},
   "source": [
    "# check for interval using PACF\n",
    "\n"
   ]
  },
  {
   "cell_type": "code",
   "execution_count": 7,
   "metadata": {},
   "outputs": [
    {
     "ename": "ModuleNotFoundError",
     "evalue": "No module named 'statsmodels'",
     "output_type": "error",
     "traceback": [
      "\u001b[0;31m---------------------------------------------------------------------------\u001b[0m",
      "\u001b[0;31mModuleNotFoundError\u001b[0m                       Traceback (most recent call last)",
      "Cell \u001b[0;32mIn[7], line 1\u001b[0m\n\u001b[0;32m----> 1\u001b[0m \u001b[39mfrom\u001b[39;00m \u001b[39mstatsmodels\u001b[39;00m\u001b[39m.\u001b[39;00m\u001b[39mgraphics\u001b[39;00m\u001b[39m.\u001b[39;00m\u001b[39mtsaplots\u001b[39;00m \u001b[39mimport\u001b[39;00m plot_pacf\n\u001b[1;32m      2\u001b[0m \u001b[39mimport\u001b[39;00m \u001b[39mmatplotlib\u001b[39;00m\u001b[39m.\u001b[39;00m\u001b[39mpyplot\u001b[39;00m \u001b[39mas\u001b[39;00m \u001b[39mplt\u001b[39;00m\n\u001b[1;32m      3\u001b[0m eda\u001b[39m=\u001b[39mdf[df[\u001b[39m'\u001b[39m\u001b[39m_type\u001b[39m\u001b[39m'\u001b[39m]\u001b[39m==\u001b[39m\u001b[39m'\u001b[39m\u001b[39mtrain\u001b[39m\u001b[39m'\u001b[39m]\n",
      "\u001b[0;31mModuleNotFoundError\u001b[0m: No module named 'statsmodels'"
     ]
    }
   ],
   "source": [
    "from statsmodels.graphics.tsaplots import plot_pacf\n",
    "import matplotlib.pyplot as plt\n",
    "eda=df[df['_type']=='train']\n",
    "\n",
    "fig, axes = plt.subplots(2, 2, figsize=(12, 10))  # 2 rows, 2 columns of plots\n",
    "\n",
    "plot_pacf(eda['buy_volume'], lags=50, ax=axes[0, 0])\n",
    "axes[0, 0].set_title('PACF for Buy Volume')\n",
    "\n",
    "plot_pacf(eda['sell_volume'], lags=50, ax=axes[0, 1])\n",
    "axes[0, 1].set_title('PACF for Sell Volume')\n",
    "\n",
    "plot_pacf(eda['sender_count'].dropna(), lags=50, ax=axes[1, 0])\n",
    "axes[1, 0].set_title('PACF for longliquidations')\n",
    "\n",
    "plot_pacf(eda['coinbase_premium_index'].dropna(), lags=50, ax=axes[1, 1])\n",
    "axes[1, 1].set_title('PACF for shortliquidations')\n",
    "\n",
    "plt.tight_layout()\n",
    "plt.show()\n"
   ]
  },
  {
   "cell_type": "code",
   "execution_count": 8,
   "metadata": {},
   "outputs": [],
   "source": [
    "def shift_feature(\n",
    "    df: pd.DataFrame,\n",
    "    conti_cols: List[str],\n",
    "    intervals: List[int],\n",
    ") -> List[pd.Series]:\n",
    "    \"\"\"\n",
    "    연속형 변수의 shift feature 생성\n",
    "    Args:\n",
    "        df (pd.DataFrame)\n",
    "        conti_cols (List[str]): continuous colnames\n",
    "        intervals (List[int]): shifted intervals\n",
    "    Return:\n",
    "        List[pd.Series]\n",
    "    \"\"\"\n",
    "    df_shift_dict = [\n",
    "        df[conti_col].shift(interval).rename(f\"{conti_col}_{interval}\")\n",
    "        for conti_col in conti_cols\n",
    "        for interval in intervals\n",
    "    ]\n",
    "    return df_shift_dict\n",
    "\n",
    "# 최대 24시간의 shift 피쳐를 계산\n",
    "shift_list = shift_feature(\n",
    "    df=df, conti_cols=conti_cols, intervals=[ _ for _ in range(1,24)]\n",
    ")\n",
    "# concat 하여 df 에 할당\n",
    "df = pd.concat([df, pd.concat(shift_list, axis=1)], axis=1)"
   ]
  },
  {
   "cell_type": "code",
   "execution_count": 9,
   "metadata": {},
   "outputs": [],
   "source": [
    "from typing import List\n",
    "import pandas as pd\n",
    "\n",
    "def rolling_feature(\n",
    "   df: pd.DataFrame,\n",
    "   conti_cols: List[str],\n",
    "   intervals: List[int],\n",
    "   funcs: List[str],\n",
    "   **params,\n",
    ") -> pd.DataFrame:\n",
    "   \"\"\"\n",
    "   Create rolling features\n",
    "   Args:\n",
    "       df (pd.DataFrame): Sorted dataframe\n",
    "       conti_cols (List[str]): continuous colnames\n",
    "       intervals (List[str]): rolling window widths\n",
    "       funcs (List[str]): aggregation functions e.g. [\"mean\", \"median\", \"max\"]\n",
    "       **params: more input for rolling\n",
    "   Returns:\n",
    "       pd.DataFrame\n",
    "   \"\"\"\n",
    "   df_rolling_list = [\n",
    "       df[conti_col]\n",
    "       .rolling(interval, **params)\n",
    "       .agg({f\"{conti_col}\": func})\n",
    "       .rename({conti_col: f\"{conti_col}_{func}_{interval}\"}, axis=1)\n",
    "       for conti_col in conti_cols\n",
    "       for interval in intervals\n",
    "       for func in funcs\n",
    "   ]\n",
    "   return pd.concat(df_rolling_list, axis = 1)\n"
   ]
  },
  {
   "cell_type": "code",
   "execution_count": 10,
   "metadata": {},
   "outputs": [],
   "source": [
    "#'block-interval_block_interval'\n",
    "conti_cols = [\"coinbase_premium_gap\", \"coinbase_premium_index\",'buy_volume','sell_volume','volume_diff','liquidation_diff','funding_rates',\n",
    "              'open_interest','buy_ratio','sell_ratio','active_count','sender_count',\"receiver_count\"]\n",
    "rolling_df = rolling_feature(\n",
    "   df = df,\n",
    "   conti_cols=conti_cols,\n",
    "   intervals=[ i for i in [12,24,168]],\n",
    "   funcs=[\"mean\", 'std'],\n",
    "   min_periods = 1,\n",
    "   closed = \"left\",\n",
    ")\n",
    "\n",
    "df=pd.concat([df, rolling_df], axis = 1)"
   ]
  },
  {
   "cell_type": "code",
   "execution_count": 9,
   "metadata": {},
   "outputs": [
    {
     "name": "stdout",
     "output_type": "stream",
     "text": [
      "<class 'pandas.core.frame.DataFrame'>\n",
      "RangeIndex: 11552 entries, 0 to 11551\n",
      "Columns: 486 entries, ID to volume_diff_23\n",
      "dtypes: float64(481), int64(3), object(2)\n",
      "memory usage: 42.8+ MB\n"
     ]
    }
   ],
   "source": [
    "df.info()"
   ]
  },
  {
   "cell_type": "code",
   "execution_count": 10,
   "metadata": {},
   "outputs": [],
   "source": [
    "_target = df[\"target\"]\n",
    "df = df.ffill().fillna(-999).assign(target = _target)\n",
    "\n",
    "# _type에 따라 train, test 분리\n",
    "train_df = df.loc[df[\"_type\"]==\"train\"].drop(columns=[\"_type\"])\n",
    "test_df = df.loc[df[\"_type\"]==\"test\"].drop(columns=[\"_type\"])"
   ]
  },
  {
   "cell_type": "code",
   "execution_count": 11,
   "metadata": {},
   "outputs": [
    {
     "name": "stdout",
     "output_type": "stream",
     "text": [
      "<class 'pandas.core.frame.DataFrame'>\n",
      "Index: 8760 entries, 0 to 8759\n",
      "Columns: 485 entries, ID to volume_diff_23\n",
      "dtypes: float64(481), int64(3), object(1)\n",
      "memory usage: 32.5+ MB\n"
     ]
    }
   ],
   "source": [
    "train_df.info()"
   ]
  },
  {
   "cell_type": "code",
   "execution_count": 12,
   "metadata": {},
   "outputs": [],
   "source": [
    "# Step 1: Apply Window Slicing to Data Where Target is 0 or 3\n",
    "df_filtered = train_df[(train_df['target'] == 0) | (train_df['target'] == 3)]\n",
    "df_filtered\n",
    "# Example window slicing function\n",
    "# def window_slicing(time_series, window_size,step_size):\n",
    "#     slices = []\n",
    "#     for i in range(0,len(time_series) - window_size + 1,step_size):\n",
    "#         window = time_series[i: i + window_size]\n",
    "#         slices.append(window)\n",
    "#     return np.array(slices)\n",
    "def window_slicing(df: pd.DataFrame, window_size: int, step_size: int) -> pd.DataFrame:\n",
    "    sliced_data = []\n",
    "    \n",
    "    for start in range(0, len(df) - window_size + 1, step_size):\n",
    "        end = start + window_size\n",
    "        window_df = df.iloc[start:end].copy()\n",
    "        # window_df['window_start_index'] = start\n",
    "        sliced_data.append(window_df)\n",
    "    \n",
    "    sliced_data_df = pd.concat(sliced_data, axis=0).reset_index(drop=True)\n",
    "    return sliced_data_df\n",
    "\n",
    "# Example window size (24 hours for 1 day window)\n",
    "window_size = 24\n",
    "step_size=12\n",
    "sliced_data = window_slicing(df_filtered, window_size,step_size)\n",
    "augmented_data=sliced_data\n",
    "# augmented_data = pd.DataFrame()\n",
    "# for i in sliced_data:\n",
    "#     i_df = pd.DataFrame(i, columns=df_filtered.columns)\n",
    "#     augmented_data = pd.concat([augmented_data, i_df], axis=0)\n",
    "# augmented_data = augmented_data.astype(df_filtered.dtypes.to_dict())\n",
    "# augmented_data.shape\n"
   ]
  },
  {
   "cell_type": "code",
   "execution_count": 13,
   "metadata": {},
   "outputs": [],
   "source": [
    "# Step 2: Apply Noise Injection to the Sliced Data (excluding 'id' and 'target')\n",
    "# def add_noise_to_data(df, noise_level=0.01):\n",
    "#     df_noisy = df.copy()\n",
    "\n",
    "#     # Exclude 'id' and 'target' columns from noise injectbion\n",
    "#     feature_columns = df.columns.difference(['ID', 'target','_type'])\n",
    "    \n",
    "#     # Generate noise for the feature columns\n",
    "#     noise = np.random.normal(0, noise_level, size=df[feature_columns].shape)\n",
    "    \n",
    "#     # Apply noise to feature columns\n",
    "#     df_noisy[feature_columns] = df[feature_columns] + noise\n",
    "    \n",
    "#     return df_noisy\n",
    "def noise_injection(df: pd.DataFrame, noise_level: float = 0.01, decay: float = 0.99, seed : int = 42) -> pd.DataFrame:\n",
    "    df_noisy = df.copy()\n",
    "    np.random.seed(seed)\n",
    "    time_steps = np.arange(len(df_noisy))\n",
    "    feature_columns = df.columns.difference(['ID', 'target','_type']) \n",
    "    for col in feature_columns:\n",
    "        noise = np.random.normal(0, noise_level*df_noisy[col].std(), size=df_noisy[col].shape)\n",
    "        decays = decay ** time_steps\n",
    "        df_noisy[col] = df_noisy[col] + noise * decays\n",
    "    \n",
    "    return df_noisy\n",
    "\n",
    "# Apply noise to the sliced data\n",
    "augmented_noisy_data = noise_injection(augmented_data, noise_level=0.01,decay=0.99,seed= 42)"
   ]
  },
  {
   "cell_type": "code",
   "execution_count": 14,
   "metadata": {},
   "outputs": [],
   "source": [
    "augmented_noisy_data.columns\n",
    "train_1_2=train_df[(train_df['target'] != 0) & (train_df['target'] != 3)]\n",
    "train_df_augmented=pd.concat([train_1_2,augmented_noisy_data])"
   ]
  },
  {
   "cell_type": "code",
   "execution_count": 15,
   "metadata": {},
   "outputs": [
    {
     "data": {
      "text/plain": [
       "(11808, 485)"
      ]
     },
     "execution_count": 15,
     "metadata": {},
     "output_type": "execute_result"
    }
   ],
   "source": [
    "train_df_augmented.shape"
   ]
  },
  {
   "cell_type": "code",
   "execution_count": 16,
   "metadata": {},
   "outputs": [
    {
     "data": {
      "text/plain": [
       "target\n",
       "2.0    0.310891\n",
       "1.0    0.300136\n",
       "3.0    0.202405\n",
       "0.0    0.186568\n",
       "Name: count, dtype: float64"
      ]
     },
     "execution_count": 16,
     "metadata": {},
     "output_type": "execute_result"
    }
   ],
   "source": [
    "\n",
    "train_df_augmented['target'].value_counts()/len(train_df_augmented)"
   ]
  },
  {
   "cell_type": "code",
   "execution_count": null,
   "metadata": {},
   "outputs": [],
   "source": [
    "# 타겟 변수를 제외한 변수를 forwardfill, -999로 결측치 대체\n",
    "# _target = df[\"target\"]\n",
    "# df = df.ffill().fillna(-999).assign(target = _target)\n",
    "\n",
    "# # _type에 따라 train, test 분리\n",
    "# train_df = df.loc[df[\"_type\"]==\"train\"].drop(columns=[\"_type\"])\n",
    "# test_df = df.loc[df[\"_type\"]==\"test\"].drop(columns=[\"_type\"])"
   ]
  },
  {
   "cell_type": "code",
   "execution_count": 17,
   "metadata": {},
   "outputs": [
    {
     "data": {
      "text/plain": [
       "(9446, 483)"
      ]
     },
     "execution_count": 17,
     "metadata": {},
     "output_type": "execute_result"
    }
   ],
   "source": [
    "x_train, x_valid, y_train, y_valid = train_test_split(\n",
    "    train_df_augmented.drop([\"target\", \"ID\"], axis=1), \n",
    "    train_df_augmented[\"target\"].astype(int), \n",
    "    test_size=0.2,\n",
    "    random_state=42,\n",
    "    # stratify=train_df[\"target\"].astype(int)\n",
    ")\n",
    "x_train.shape"
   ]
  },
  {
   "cell_type": "code",
   "execution_count": 21,
   "metadata": {},
   "outputs": [
    {
     "name": "stderr",
     "output_type": "stream",
     "text": [
      "/Library/Frameworks/Python.framework/Versions/3.11/lib/python3.11/site-packages/lightgbm/engine.py:204: UserWarning: Found `n_estimators` in params. Will use it instead of argument\n",
      "  _log_warning(f\"Found `{alias}` in params. Will use it instead of argument\")\n"
     ]
    },
    {
     "name": "stdout",
     "output_type": "stream",
     "text": [
      "acc: 0.6041490262489416, auroc: 0.8525288252833623\n"
     ]
    }
   ],
   "source": [
    "def train_lgmClassifier(x_train,x_valid,y_train,y_valid):\n",
    "    \n",
    "\n",
    "# lgb dataset\n",
    "    train_data = lgb.Dataset(x_train, label=y_train)\n",
    "    valid_data = lgb.Dataset(x_valid, label=y_valid, reference=train_data)\n",
    "\n",
    "# lgb params\n",
    "    params = {\n",
    "        \"boosting_type\": \"gbdt\",\n",
    "        \"objective\": \"multiclass\",\n",
    "        \"metric\": \"multi_logloss\",\n",
    "        \"num_class\": 4,\n",
    "        \"num_leaves\": 50,\n",
    "        \"learning_rate\": 0.05,\n",
    "        \"n_estimators\": 90,\n",
    "        \"random_state\": 42,\n",
    "        \"verbose\": 0,\n",
    "    }\n",
    "\n",
    "# lgb train\n",
    "    lgb_model = lgb.train(\n",
    "        params=params,\n",
    "        train_set=train_data,\n",
    "        valid_sets=valid_data,\n",
    "    )\n",
    "\n",
    "# lgb predict\n",
    "    y_valid_pred = lgb_model.predict(x_valid)\n",
    "    y_valid_pred_class = np.argmax(y_valid_pred, axis = 1)\n",
    "\n",
    "# score check\n",
    "    accuracy = accuracy_score(y_valid, y_valid_pred_class)\n",
    "    auroc = roc_auc_score(y_valid, y_valid_pred, multi_class=\"ovr\")\n",
    "\n",
    "    print(f\"acc: {accuracy}, auroc: {auroc}\")\n",
    "    return lgb_model,accuracy,params\n",
    "lgb_model,accuracy,params=train_lgmClassifier(x_train,x_valid,y_train,y_valid)"
   ]
  },
  {
   "cell_type": "code",
   "execution_count": 26,
   "metadata": {},
   "outputs": [
    {
     "name": "stdout",
     "output_type": "stream",
     "text": [
      "                   Feature  Importance\n",
      "21            volume_diffg         480\n",
      "20   liquidation_usd_diffg         424\n",
      "19       liquidation_diffg         345\n",
      "12             sell_volume         116\n",
      "376         sender_count_9         115\n",
      "10              buy_volume         111\n",
      "357      receiver_count_13         100\n",
      "356      receiver_count_12          96\n",
      "18             volume_diff          94\n",
      "359      receiver_count_15          92\n",
      "388        sender_count_21          85\n",
      "363      receiver_count_19          84\n",
      "462          volume_diff_3          79\n",
      "339        active_count_18          77\n",
      "336        active_count_15          76\n",
      "352       receiver_count_8          76\n",
      "364      receiver_count_20          75\n",
      "480         volume_diff_21          73\n",
      "299          sell_volume_1          72\n",
      "465          volume_diff_6          71\n",
      "361      receiver_count_17          71\n",
      "367      receiver_count_23          71\n",
      "354      receiver_count_10          71\n",
      "334        active_count_13          71\n",
      "377        sender_count_10          71\n",
      "390        sender_count_23          71\n",
      "322         active_count_1          70\n",
      "362      receiver_count_18          70\n",
      "476         volume_diff_17          69\n",
      "472         volume_diff_13          68\n",
      "349       receiver_count_5          68\n",
      "370         sender_count_3          68\n",
      "227           buy_ratio_21          67\n",
      "478         volume_diff_19          65\n",
      "328         active_count_7          65\n",
      "365      receiver_count_21          64\n",
      "384        sender_count_17          63\n",
      "460          volume_diff_1          63\n",
      "378        sender_count_11          63\n",
      "374         sender_count_7          63\n",
      "345       receiver_count_1          63\n",
      "348       receiver_count_4          63\n",
      "253           buy_volume_1          63\n",
      "275          buy_volume_23          62\n",
      "257           buy_volume_5          62\n",
      "15            sender_count          62\n",
      "380        sender_count_13          62\n",
      "14          receiver_count          61\n",
      "372         sender_count_5          61\n",
      "5       short_liquidations          61\n"
     ]
    }
   ],
   "source": [
    "importance = lgb_model.feature_importance()\n",
    "feature_names=train_df_augmented.drop([\"target\", \"ID\"], axis = 1).columns\n",
    "feature_importance_df = pd.DataFrame({\n",
    "    'Feature': feature_names,\n",
    "    'Importance': importance\n",
    "})\n",
    "\n",
    "# Sort by importance (optional)\n",
    "feature_importance_df = feature_importance_df.sort_values(by='Importance', ascending=False)\n",
    "\n",
    "# Display the DataFrame\n",
    "print(feature_importance_df[:50])\n",
    "# a=feature_importance_df[:100]\n",
    "# train_df[a.loc[:,'Feature']]"
   ]
  },
  {
   "cell_type": "code",
   "execution_count": 23,
   "metadata": {},
   "outputs": [
    {
     "name": "stderr",
     "output_type": "stream",
     "text": [
      "/Library/Frameworks/Python.framework/Versions/3.11/lib/python3.11/site-packages/lightgbm/engine.py:204: UserWarning: Found `n_estimators` in params. Will use it instead of argument\n",
      "  _log_warning(f\"Found `{alias}` in params. Will use it instead of argument\")\n"
     ]
    }
   ],
   "source": [
    "x_train = train_df_augmented.drop([\"target\", \"ID\"], axis = 1)\n",
    "y_train = train_df_augmented[\"target\"].astype(int)\n",
    "train_data = lgb.Dataset(x_train, label=y_train)\n",
    "lgb_model = lgb.train(\n",
    "    params=params,\n",
    "    train_set=train_data,\n",
    ")"
   ]
  },
  {
   "cell_type": "code",
   "execution_count": 24,
   "metadata": {},
   "outputs": [],
   "source": [
    "y_test_pred = lgb_model.predict(test_df.drop([\"target\", \"ID\"], axis = 1))\n",
    "y_test_pred_class = np.argmax(y_test_pred, axis = 1)"
   ]
  },
  {
   "cell_type": "code",
   "execution_count": 25,
   "metadata": {},
   "outputs": [],
   "source": [
    "submission_df = submission_df.assign(target = y_test_pred_class)\n",
    "submission_df.to_csv(\"output.csv\", index=False)"
   ]
  }
 ],
 "metadata": {
  "kernelspec": {
   "display_name": "Python 3",
   "language": "python",
   "name": "python3"
  },
  "language_info": {
   "codemirror_mode": {
    "name": "ipython",
    "version": 3
   },
   "file_extension": ".py",
   "mimetype": "text/x-python",
   "name": "python",
   "nbconvert_exporter": "python",
   "pygments_lexer": "ipython3",
   "version": "3.11.4"
  },
  "orig_nbformat": 4
 },
 "nbformat": 4,
 "nbformat_minor": 2
}
