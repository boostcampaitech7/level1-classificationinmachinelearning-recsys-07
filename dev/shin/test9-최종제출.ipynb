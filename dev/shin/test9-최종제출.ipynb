{
 "cells": [
  {
   "cell_type": "code",
   "execution_count": null,
   "metadata": {},
   "outputs": [],
   "source": [
    "import os\n",
    "from typing import List, Dict\n",
    "from tqdm import tqdm\n",
    "import numpy as np\n",
    "import pandas as pd\n",
    "from sklearn.model_selection import train_test_split\n",
    "from sklearn.metrics import accuracy_score, roc_auc_score\n",
    "import lightgbm as lgb\n",
    "from plotly.subplots import make_subplots\n",
    "import plotly.graph_objects as go\n",
    "import matplotlib.pyplot as plt\n",
    "\n",
    "import seaborn as sns\n",
    "\n"
   ]
  },
  {
   "cell_type": "code",
   "execution_count": 2,
   "metadata": {},
   "outputs": [
    {
     "data": {
      "text/html": [
       "<div>\n",
       "<style scoped>\n",
       "    .dataframe tbody tr th:only-of-type {\n",
       "        vertical-align: middle;\n",
       "    }\n",
       "\n",
       "    .dataframe tbody tr th {\n",
       "        vertical-align: top;\n",
       "    }\n",
       "\n",
       "    .dataframe thead th {\n",
       "        text-align: right;\n",
       "    }\n",
       "</style>\n",
       "<table border=\"1\" class=\"dataframe\">\n",
       "  <thead>\n",
       "    <tr style=\"text-align: right;\">\n",
       "      <th></th>\n",
       "      <th>ID</th>\n",
       "      <th>target</th>\n",
       "      <th>_type</th>\n",
       "    </tr>\n",
       "  </thead>\n",
       "  <tbody>\n",
       "    <tr>\n",
       "      <th>0</th>\n",
       "      <td>2023-01-01 00:00:00</td>\n",
       "      <td>2.0</td>\n",
       "      <td>train</td>\n",
       "    </tr>\n",
       "    <tr>\n",
       "      <th>1</th>\n",
       "      <td>2023-01-01 01:00:00</td>\n",
       "      <td>1.0</td>\n",
       "      <td>train</td>\n",
       "    </tr>\n",
       "    <tr>\n",
       "      <th>2</th>\n",
       "      <td>2023-01-01 02:00:00</td>\n",
       "      <td>1.0</td>\n",
       "      <td>train</td>\n",
       "    </tr>\n",
       "    <tr>\n",
       "      <th>3</th>\n",
       "      <td>2023-01-01 03:00:00</td>\n",
       "      <td>1.0</td>\n",
       "      <td>train</td>\n",
       "    </tr>\n",
       "    <tr>\n",
       "      <th>4</th>\n",
       "      <td>2023-01-01 04:00:00</td>\n",
       "      <td>2.0</td>\n",
       "      <td>train</td>\n",
       "    </tr>\n",
       "    <tr>\n",
       "      <th>...</th>\n",
       "      <td>...</td>\n",
       "      <td>...</td>\n",
       "      <td>...</td>\n",
       "    </tr>\n",
       "    <tr>\n",
       "      <th>2787</th>\n",
       "      <td>2024-04-26 03:00:00</td>\n",
       "      <td>NaN</td>\n",
       "      <td>test</td>\n",
       "    </tr>\n",
       "    <tr>\n",
       "      <th>2788</th>\n",
       "      <td>2024-04-26 04:00:00</td>\n",
       "      <td>NaN</td>\n",
       "      <td>test</td>\n",
       "    </tr>\n",
       "    <tr>\n",
       "      <th>2789</th>\n",
       "      <td>2024-04-26 05:00:00</td>\n",
       "      <td>NaN</td>\n",
       "      <td>test</td>\n",
       "    </tr>\n",
       "    <tr>\n",
       "      <th>2790</th>\n",
       "      <td>2024-04-26 06:00:00</td>\n",
       "      <td>NaN</td>\n",
       "      <td>test</td>\n",
       "    </tr>\n",
       "    <tr>\n",
       "      <th>2791</th>\n",
       "      <td>2024-04-26 07:00:00</td>\n",
       "      <td>NaN</td>\n",
       "      <td>test</td>\n",
       "    </tr>\n",
       "  </tbody>\n",
       "</table>\n",
       "<p>11552 rows × 3 columns</p>\n",
       "</div>"
      ],
      "text/plain": [
       "                       ID  target  _type\n",
       "0     2023-01-01 00:00:00     2.0  train\n",
       "1     2023-01-01 01:00:00     1.0  train\n",
       "2     2023-01-01 02:00:00     1.0  train\n",
       "3     2023-01-01 03:00:00     1.0  train\n",
       "4     2023-01-01 04:00:00     2.0  train\n",
       "...                   ...     ...    ...\n",
       "2787  2024-04-26 03:00:00     NaN   test\n",
       "2788  2024-04-26 04:00:00     NaN   test\n",
       "2789  2024-04-26 05:00:00     NaN   test\n",
       "2790  2024-04-26 06:00:00     NaN   test\n",
       "2791  2024-04-26 07:00:00     NaN   test\n",
       "\n",
       "[11552 rows x 3 columns]"
      ]
     },
     "execution_count": 2,
     "metadata": {},
     "output_type": "execute_result"
    }
   ],
   "source": [
    "# 파일 호출\n",
    "data_path: str = \"data\"\n",
    "train_df: pd.DataFrame = pd.read_csv(os.path.join(data_path, \"train.csv\")).assign(_type=\"train\") # train 에는 _type = train \n",
    "test_df: pd.DataFrame = pd.read_csv(os.path.join(data_path, \"test.csv\")).assign(_type=\"test\") # test 에는 _type = test\n",
    "submission_df: pd.DataFrame = pd.read_csv(os.path.join(data_path, \"test.csv\")) # ID, target 열만 가진 데이터 미리 호출\n",
    "df: pd.DataFrame = pd.concat([train_df, test_df], axis=0)\n",
    "df\n",
    "df"
   ]
  },
  {
   "cell_type": "code",
   "execution_count": 3,
   "metadata": {},
   "outputs": [
    {
     "name": "stderr",
     "output_type": "stream",
     "text": [
      "100%|██████████| 107/107 [00:01<00:00, 54.38it/s]\n"
     ]
    }
   ],
   "source": [
    "file_names: List[str] = [\n",
    "    f for f in os.listdir(data_path) if f.startswith(\"HOURLY_\") and f.endswith(\".csv\")\n",
    "]\n",
    "# 파일명 : 데이터프레임으로 딕셔너리 형태로 저장\n",
    "file_dict: Dict[str, pd.DataFrame] = {\n",
    "    f.replace(\".csv\", \"\"): pd.read_csv(os.path.join(data_path, f)) for f in file_names\n",
    "}\n",
    "\n",
    "for _file_name, _df in tqdm(file_dict.items()):\n",
    "    # 열 이름 중복 방지를 위해 {_file_name.lower()}_{col.lower()}로 변경, datetime 열을 ID로 변경\n",
    "    _rename_rule = {\n",
    "        col: f\"{_file_name.lower()}_{col.lower()}\" if col != \"datetime\" else \"ID\"\n",
    "        for col in _df.columns\n",
    "    }\n",
    "    _df = _df.rename(_rename_rule, axis=1)\n",
    "    df = df.merge(_df, on=\"ID\", how=\"left\")"
   ]
  },
  {
   "cell_type": "code",
   "execution_count": 4,
   "metadata": {},
   "outputs": [
    {
     "data": {
      "text/plain": [
       "(11552, 21)"
      ]
     },
     "execution_count": 4,
     "metadata": {},
     "output_type": "execute_result"
    }
   ],
   "source": [
    "cols_dict: Dict[str, str] = {\n",
    "    \"ID\": \"ID\",\n",
    "    \"target\": \"target\",\n",
    "    \"_type\": \"_type\",\n",
    "    \"hourly_market-data_coinbase-premium-index_coinbase_premium_gap\": \"coinbase_premium_gap\",\n",
    "    \"hourly_market-data_coinbase-premium-index_coinbase_premium_index\": \"coinbase_premium_index\",\n",
    "    \"hourly_market-data_funding-rates_all_exchange_funding_rates\": \"funding_rates\",\n",
    "    \"hourly_market-data_liquidations_all_exchange_all_symbol_long_liquidations\": \"long_liquidations\",\n",
    "    \"hourly_market-data_liquidations_all_exchange_all_symbol_long_liquidations_usd\": \"long_liquidations_usd\",\n",
    "    \"hourly_market-data_liquidations_all_exchange_all_symbol_short_liquidations\": \"short_liquidations\",\n",
    "    \"hourly_market-data_liquidations_all_exchange_all_symbol_short_liquidations_usd\": \"short_liquidations_usd\",\n",
    "    \"hourly_market-data_open-interest_all_exchange_all_symbol_open_interest\": \"open_interest\",\n",
    "    \"hourly_market-data_taker-buy-sell-stats_all_exchange_taker_buy_ratio\": \"buy_ratio\",\n",
    "    \"hourly_market-data_taker-buy-sell-stats_all_exchange_taker_buy_sell_ratio\": \"buy_sell_ratio\",\n",
    "    \"hourly_market-data_taker-buy-sell-stats_all_exchange_taker_buy_volume\": \"buy_volume\",\n",
    "    \"hourly_market-data_taker-buy-sell-stats_all_exchange_taker_sell_ratio\": \"sell_ratio\",\n",
    "    \"hourly_market-data_taker-buy-sell-stats_all_exchange_taker_sell_volume\": \"sell_volume\",\n",
    "    \"hourly_network-data_transactions-count_transactions_count_total\" : 'transaction_count',\n",
    "    'hourly_network-data_hashrate_hashrate' : \"hashrate\",\n",
    "     \"hourly_network-data_addresses-count_addresses_count_active\": \"active_count\",\n",
    "    \"hourly_network-data_addresses-count_addresses_count_receiver\": \"receiver_count\",\n",
    "    \"hourly_network-data_addresses-count_addresses_count_sender\": \"sender_count\",\n",
    "}\n",
    "# HOURLY_MARKET-DATA_PRICE-OHLCV_ALL_EXCHANGE_SPOT_BTC_USD\n",
    "\n",
    "df = df[cols_dict.keys()].rename(cols_dict, axis=1)\n",
    "df.shape\n"
   ]
  },
  {
   "cell_type": "code",
   "execution_count": 5,
   "metadata": {},
   "outputs": [
    {
     "name": "stderr",
     "output_type": "stream",
     "text": [
      "/var/folders/zk/056hcq1553j8j8d2gphz8ckm0000gn/T/ipykernel_63639/1799124173.py:25: FutureWarning: The default fill_method='pad' in Series.pct_change is deprecated and will be removed in a future version. Either fill in any non-leading NA values prior to calling pct_change or specify 'fill_method=None' to not fill NA values.\n",
      "  df['buy_sell_ratio_pct_change_3h'] = df['buy_sell_ratio'].pct_change(periods=3)\n",
      "/var/folders/zk/056hcq1553j8j8d2gphz8ckm0000gn/T/ipykernel_63639/1799124173.py:28: FutureWarning: The default fill_method='pad' in Series.pct_change is deprecated and will be removed in a future version. Either fill in any non-leading NA values prior to calling pct_change or specify 'fill_method=None' to not fill NA values.\n",
      "  df['volume_diff_pct_change_12h'] = df['volume_diff'].pct_change(periods=12)\n",
      "/var/folders/zk/056hcq1553j8j8d2gphz8ckm0000gn/T/ipykernel_63639/1799124173.py:29: FutureWarning: The default fill_method='pad' in Series.pct_change is deprecated and will be removed in a future version. Either fill in any non-leading NA values prior to calling pct_change or specify 'fill_method=None' to not fill NA values.\n",
      "  df['volume_diff_pct_change_6h'] = df['volume_diff'].pct_change(periods=6)\n"
     ]
    }
   ],
   "source": [
    "df = df.assign(\n",
    "    liquidation_diff=df[\"long_liquidations\"] - df[\"short_liquidations\"],\n",
    "    liquidation_usd_diff=df[\"long_liquidations_usd\"] - df[\"short_liquidations_usd\"],\n",
    "    volume_diff=df[\"buy_volume\"] - df[\"sell_volume\"],\n",
    "    liquidation_diffg=np.sign(df[\"long_liquidations\"] - df[\"short_liquidations\"]),\n",
    "    liquidation_usd_diffg=np.sign(df[\"long_liquidations_usd\"] - df[\"short_liquidations_usd\"]),\n",
    "    volume_diffg=np.sign(df[\"buy_volume\"] - df[\"sell_volume\"]),\n",
    "    buy_sell_volume_ratio=df[\"buy_volume\"] / (df[\"sell_volume\"] + 1),\n",
    "    \n",
    ")\n",
    "df['buy_volume_ma_3h'] = df['buy_volume'].rolling(window=3).mean()\n",
    "df['buy_volume_std_3h'] = df['buy_volume'].rolling(window=3).std()\n",
    "\n",
    "df['funding_rates_ma_3h'] = df['funding_rates'].rolling(window=3).mean()\n",
    "df['funding_rates_std_3h'] = df['funding_rates'].rolling(window=3).std()\n",
    "\n",
    "df['price_close_pct_change_1h'] = 100*(df['coinbase_premium_gap']-df['coinbase_premium_gap'].shift(1))/(df['coinbase_premium_gap'].shift(1)+100)\n",
    "df['price_close_pct_change_3h'] = 100*(df['coinbase_premium_gap']-df['coinbase_premium_gap'].shift(3))/(df['coinbase_premium_gap'].shift(3)+100)\n",
    "\n",
    "df['buy_volume_pct_change_1h'] = 100*(df['buy_volume']-df['buy_volume'].shift(1))/(df['buy_volume'].shift(1)+100)\n",
    "df['buy_volume_pct_change_3h'] = 100*(df['buy_volume']-df['buy_volume'].shift(3))/(df['buy_volume'].shift(3)+100)\n",
    "\n",
    "df['liquidation_diff_pct_change_3h'] = 100*(df['liquidation_diff']-df['liquidation_diff'].shift(3))/(df['liquidation_diff'].shift(3)+10)\n",
    "\n",
    "df['buy_sell_ratio_pct_change_3h'] = df['buy_sell_ratio'].pct_change(periods=3)\n",
    "df['is_buy_dominant'] = (df['buy_sell_ratio'] > 1.0).astype(int)\n",
    "\n",
    "df['volume_diff_pct_change_12h'] = df['volume_diff'].pct_change(periods=12)\n",
    "df['volume_diff_pct_change_6h'] = df['volume_diff'].pct_change(periods=6)\n",
    "df['volume_diff_pct_change_additive']=df['volume_diff_pct_change_6h']+df['volume_diff_pct_change_12h'] # star\n",
    "df['mean_7days'] = df['volume_diff'].rolling(window=168).mean()  # 7 days if hourly data\n",
    "df['mean_1day'] = df['volume_diff'].rolling(window=24).mean()    # 1 day if hourly data\n",
    "df['slope_7days'] = df['mean_7days'].diff()\n",
    "df['slope_1day'] = df['mean_1day'].diff()\n",
    "df['slope_change']=df['slope_7days']-df['slope_1day'] # star\n",
    "df.drop(columns=['mean_7days', 'mean_1day'], inplace=True)\n",
    "\n",
    "\n"
   ]
  },
  {
   "cell_type": "code",
   "execution_count": null,
   "metadata": {},
   "outputs": [],
   "source": []
  },
  {
   "cell_type": "code",
   "execution_count": 6,
   "metadata": {},
   "outputs": [
    {
     "name": "stdout",
     "output_type": "stream",
     "text": [
      "<class 'pandas.core.frame.DataFrame'>\n",
      "RangeIndex: 11552 entries, 0 to 11551\n",
      "Data columns (total 45 columns):\n",
      " #   Column                           Non-Null Count  Dtype  \n",
      "---  ------                           --------------  -----  \n",
      " 0   ID                               11552 non-null  object \n",
      " 1   target                           8760 non-null   float64\n",
      " 2   _type                            11552 non-null  object \n",
      " 3   coinbase_premium_gap             11546 non-null  float64\n",
      " 4   coinbase_premium_index           11546 non-null  float64\n",
      " 5   funding_rates                    11520 non-null  float64\n",
      " 6   long_liquidations                11552 non-null  float64\n",
      " 7   long_liquidations_usd            11552 non-null  float64\n",
      " 8   short_liquidations               11552 non-null  float64\n",
      " 9   short_liquidations_usd           11552 non-null  float64\n",
      " 10  open_interest                    11548 non-null  float64\n",
      " 11  buy_ratio                        11521 non-null  float64\n",
      " 12  buy_sell_ratio                   11521 non-null  float64\n",
      " 13  buy_volume                       11521 non-null  float64\n",
      " 14  sell_ratio                       11521 non-null  float64\n",
      " 15  sell_volume                      11521 non-null  float64\n",
      " 16  transaction_count                11548 non-null  float64\n",
      " 17  hashrate                         11552 non-null  float64\n",
      " 18  active_count                     11552 non-null  int64  \n",
      " 19  receiver_count                   11552 non-null  int64  \n",
      " 20  sender_count                     11552 non-null  int64  \n",
      " 21  liquidation_diff                 11552 non-null  float64\n",
      " 22  liquidation_usd_diff             11552 non-null  float64\n",
      " 23  volume_diff                      11521 non-null  float64\n",
      " 24  liquidation_diffg                11552 non-null  float64\n",
      " 25  liquidation_usd_diffg            11552 non-null  float64\n",
      " 26  volume_diffg                     11521 non-null  float64\n",
      " 27  buy_sell_volume_ratio            11521 non-null  float64\n",
      " 28  buy_volume_ma_3h                 11517 non-null  float64\n",
      " 29  buy_volume_std_3h                11517 non-null  float64\n",
      " 30  funding_rates_ma_3h              11516 non-null  float64\n",
      " 31  funding_rates_std_3h             11516 non-null  float64\n",
      " 32  price_close_pct_change_1h        11543 non-null  float64\n",
      " 33  price_close_pct_change_3h        11539 non-null  float64\n",
      " 34  buy_volume_pct_change_1h         11519 non-null  float64\n",
      " 35  buy_volume_pct_change_3h         11516 non-null  float64\n",
      " 36  liquidation_diff_pct_change_3h   11549 non-null  float64\n",
      " 37  buy_sell_ratio_pct_change_3h     11549 non-null  float64\n",
      " 38  is_buy_dominant                  11552 non-null  int64  \n",
      " 39  volume_diff_pct_change_12h       11540 non-null  float64\n",
      " 40  volume_diff_pct_change_6h        11546 non-null  float64\n",
      " 41  volume_diff_pct_change_additive  11540 non-null  float64\n",
      " 42  slope_7days                      11185 non-null  float64\n",
      " 43  slope_1day                       11473 non-null  float64\n",
      " 44  slope_change                     11185 non-null  float64\n",
      "dtypes: float64(39), int64(4), object(2)\n",
      "memory usage: 4.0+ MB\n"
     ]
    }
   ],
   "source": [
    "df.info()"
   ]
  },
  {
   "cell_type": "code",
   "execution_count": 7,
   "metadata": {},
   "outputs": [],
   "source": [
    "category_cols: List[str] = [\"liquidation_diffg\", \"liquidation_usd_diffg\", \"volume_diffg\",'cross_volume_diff','cross_shifted_volume_diff',\n",
    "                            'cross_signal_volume_diff','mean_diff_7days_1day_volume','mean_diff_1month_7days_volume',\n",
    "                            'mean_diff_7days_1day_liquidation','mean_diff_1month_7days_liquidation',\n",
    "                            'cross_liquidation_diff','cross_shifted_liquidation_diff',\n",
    "                           'cross_signal_liquidation_diff','slope_7days','slope_1day','slope_1month',\"Weekday\",\"Weekend\",\"Hour\",\"Hour_1\",\n",
    "                           \"Weekend_Hour\",'sell_volume_pct_change','buy_volume_pct_change',\"price_pct_change\",\"price_change\"]\n",
    "conti_cols: List[str] = [_ for _ in df.columns if _ not in [\"ID\", \"target\", \"_type\"]+category_cols]  \n",
    "\n",
    "\n",
    "\n"
   ]
  },
  {
   "cell_type": "code",
   "execution_count": 8,
   "metadata": {},
   "outputs": [
    {
     "data": {
      "text/plain": [
       "['coinbase_premium_gap',\n",
       " 'coinbase_premium_index',\n",
       " 'funding_rates',\n",
       " 'long_liquidations',\n",
       " 'long_liquidations_usd',\n",
       " 'short_liquidations',\n",
       " 'short_liquidations_usd',\n",
       " 'open_interest',\n",
       " 'buy_ratio',\n",
       " 'buy_sell_ratio',\n",
       " 'buy_volume',\n",
       " 'sell_ratio',\n",
       " 'sell_volume',\n",
       " 'transaction_count',\n",
       " 'hashrate',\n",
       " 'active_count',\n",
       " 'receiver_count',\n",
       " 'sender_count',\n",
       " 'liquidation_diff',\n",
       " 'liquidation_usd_diff',\n",
       " 'volume_diff',\n",
       " 'buy_sell_volume_ratio',\n",
       " 'buy_volume_ma_3h',\n",
       " 'buy_volume_std_3h',\n",
       " 'funding_rates_ma_3h',\n",
       " 'funding_rates_std_3h',\n",
       " 'price_close_pct_change_1h',\n",
       " 'price_close_pct_change_3h',\n",
       " 'buy_volume_pct_change_1h',\n",
       " 'buy_volume_pct_change_3h',\n",
       " 'liquidation_diff_pct_change_3h',\n",
       " 'buy_sell_ratio_pct_change_3h',\n",
       " 'is_buy_dominant',\n",
       " 'volume_diff_pct_change_12h',\n",
       " 'volume_diff_pct_change_6h',\n",
       " 'volume_diff_pct_change_additive',\n",
       " 'slope_change']"
      ]
     },
     "execution_count": 8,
     "metadata": {},
     "output_type": "execute_result"
    }
   ],
   "source": [
    "conti_cols"
   ]
  },
  {
   "cell_type": "code",
   "execution_count": null,
   "metadata": {},
   "outputs": [],
   "source": []
  },
  {
   "attachments": {},
   "cell_type": "markdown",
   "metadata": {},
   "source": []
  },
  {
   "attachments": {},
   "cell_type": "markdown",
   "metadata": {},
   "source": [
    "# check for interval using PACF\n",
    "\n"
   ]
  },
  {
   "cell_type": "code",
   "execution_count": 9,
   "metadata": {},
   "outputs": [],
   "source": [
    "def shift_feature(\n",
    "    df: pd.DataFrame,\n",
    "    conti_cols: List[str],\n",
    "    intervals: List[int],\n",
    ") -> List[pd.Series]:\n",
    "    \"\"\"\n",
    "    연속형 변수의 shift feature 생성\n",
    "    Args:\n",
    "        df (pd.DataFrame)\n",
    "        conti_cols (List[str]): continuous colnames\n",
    "        intervals (List[int]): shifted intervals\n",
    "    Return:\n",
    "        List[pd.Series]\n",
    "    \"\"\"\n",
    "    df_shift_dict = [\n",
    "        df[conti_col].shift(interval).rename(f\"{conti_col}_{interval}\")\n",
    "        for conti_col in conti_cols\n",
    "        for interval in intervals\n",
    "    ]\n",
    "    return df_shift_dict\n",
    "\n",
    "# 최대 24시간의 shift 피쳐를 계산\n",
    "shift_list = shift_feature(\n",
    "    df=df, conti_cols=conti_cols, intervals=[ _ for _ in range(1,24)]\n",
    ")\n",
    "# concat 하여 df 에 할당\n",
    "df = pd.concat([df, pd.concat(shift_list, axis=1)], axis=1)"
   ]
  },
  {
   "cell_type": "code",
   "execution_count": null,
   "metadata": {},
   "outputs": [],
   "source": [
    "from typing import List\n",
    "import pandas as pd\n",
    "\n",
    "def rolling_feature(\n",
    "   df: pd.DataFrame,\n",
    "   conti_cols: List[str],\n",
    "   intervals: List[int],\n",
    "   funcs: List[str],\n",
    "   **params,\n",
    ") -> pd.DataFrame:\n",
    "   \"\"\"\n",
    "   Create rolling features\n",
    "   Args:\n",
    "       df (pd.DataFrame): Sorted dataframe\n",
    "       conti_cols (List[str]): continuous colnames\n",
    "       intervals (List[str]): rolling window widths\n",
    "       funcs (List[str]): aggregation functions e.g. [\"mean\", \"median\", \"max\"]\n",
    "       **params: more input for rolling\n",
    "   Returns:\n",
    "       pd.DataFrame\n",
    "   \"\"\"\n",
    "   df_rolling_list = [\n",
    "       df[conti_col]\n",
    "       .rolling(interval, **params)\n",
    "       .agg({f\"{conti_col}\": func})\n",
    "       .rename({conti_col: f\"{conti_col}_{func}_{interval}\"}, axis=1)\n",
    "       for conti_col in conti_cols\n",
    "       for interval in intervals\n",
    "       for func in funcs\n",
    "   ]\n",
    "   return pd.concat(df_rolling_list, axis = 1)\n"
   ]
  },
  {
   "cell_type": "code",
   "execution_count": 10,
   "metadata": {},
   "outputs": [],
   "source": [
    "\n",
    "df['open_interest_diff']=df['open_interest_3']-df['open_interest_2']\n",
    "df['transaction_rolling_mean_6h'] = df['transaction_count'].rolling(window=6).mean()\n",
    "df['transaction_rolling_mean_12h'] = df['transaction_count'].rolling(window=12).mean()\n",
    "df['transaction_rolling_mean_24h'] = df['transaction_count'].rolling(window=24).mean()\n",
    "df['hashrate_mean_6h'] = df['hashrate'].rolling(window=6).mean() \n",
    "df['hashrate_mean_12h'] = df['hashrate'].rolling(window=12).mean() \n",
    "df['hashrate_mean_1d'] = df['hashrate'].rolling(window=24).mean() \n",
    "df['hashrate_mean_7d'] = df['hashrate'].rolling(window=168).mean()  # 168 hours = 7 days\n",
    "df['transaction_rolling_mean_diff-12-6']=df['transaction_rolling_mean_12h']-df['transaction_rolling_mean_6h']\n",
    "df['transaction_rolling_mean_diff-24-6']=df['transaction_rolling_mean_24h']-df['transaction_rolling_mean_6h']\n",
    "df['hashrate_mean_diff-7d-1d']=df['hashrate_mean_7d']-df['hashrate_mean_1d']\n",
    "df.drop(columns=['transaction_rolling_mean_6h','transaction_rolling_mean_12h','transaction_rolling_mean_24h',\n",
    "                 'hashrate_mean_6h','hashrate_mean_12h','hashrate_mean_1d','hashrate_mean_7d','open_interest_3','open_interest_2','open_interest_1'],inplace=True)"
   ]
  },
  {
   "cell_type": "code",
   "execution_count": null,
   "metadata": {},
   "outputs": [],
   "source": [
    "#'block-interval_block_interval'\n",
    "conti_cols = [\n",
    "               'buy_volume',       \n",
    "          'sell_volume'  ]\n",
    "\n",
    "rolling_df = rolling_feature(\n",
    "   df = df,\n",
    "   conti_cols=conti_cols,\n",
    "   intervals=[6,12,18,24,168],\n",
    "   funcs=[\"mean\", 'std','min','max'],\n",
    "   min_periods = 1,\n",
    "   closed = \"left\",\n",
    ")\n",
    "\n",
    "df=pd.concat([df, rolling_df], axis = 1)"
   ]
  },
  {
   "cell_type": "code",
   "execution_count": 11,
   "metadata": {},
   "outputs": [],
   "source": [
    "_target = df[\"target\"]\n",
    "df = df.ffill().fillna(-999).assign(target = _target)\n",
    "# _type에 따라 train, test 분리\n",
    "train_df = df.loc[df[\"_type\"]==\"train\"].drop(columns=[\"_type\"])\n",
    "test_df = df.loc[df[\"_type\"]==\"test\"].drop(columns=[\"_type\"])"
   ]
  },
  {
   "cell_type": "code",
   "execution_count": 12,
   "metadata": {},
   "outputs": [
    {
     "name": "stdout",
     "output_type": "stream",
     "text": [
      "<class 'pandas.core.frame.DataFrame'>\n",
      "Index: 8760 entries, 0 to 8759\n",
      "Columns: 896 entries, ID to hashrate_mean_diff-7d-1d\n",
      "dtypes: float64(891), int64(4), object(1)\n",
      "memory usage: 59.9+ MB\n"
     ]
    }
   ],
   "source": [
    "train_df.info()"
   ]
  },
  {
   "cell_type": "code",
   "execution_count": 13,
   "metadata": {},
   "outputs": [],
   "source": [
    "# Step 1: Apply Window Slicing to Data Where Target is 0 or 3\n",
    "df_filtered = train_df[(train_df['target'] == 0) | (train_df['target'] == 3)]\n",
    "df_filtered\n",
    "# Example window slicing function\n",
    "# def window_slicing(time_series, window_size,step_size):\n",
    "#     slices = []\n",
    "#     for i in range(0,len(time_series) - window_size + 1,step_size):\n",
    "#         window = time_series[i: i + window_size]\n",
    "#         slices.append(window)\n",
    "#     return np.array(slices)\n",
    "def window_slicing(df: pd.DataFrame, window_size: int, step_size: int) -> pd.DataFrame:\n",
    "    sliced_data = []\n",
    "    \n",
    "    for start in range(0, len(df) - window_size + 1, step_size):\n",
    "        end = start + window_size\n",
    "        window_df = df.iloc[start:end].copy()\n",
    "        # window_df['window_start_index'] = start\n",
    "        sliced_data.append(window_df)\n",
    "    \n",
    "    sliced_data_df = pd.concat(sliced_data, axis=0).reset_index(drop=True)\n",
    "    return sliced_data_df\n",
    "\n",
    "# Example window size (24 hours for 1 day window)\n",
    "window_size = 24\n",
    "step_size=12\n",
    "sliced_data = window_slicing(df_filtered, window_size,step_size)\n",
    "augmented_data=sliced_data\n",
    "# augmented_data = pd.DataFrame()\n",
    "# for i in sliced_data:\n",
    "#     i_df = pd.DataFrame(i, columns=df_filtered.columns)\n",
    "#     augmented_data = pd.concat([augmented_data, i_df], axis=0)\n",
    "# augmented_data = augmented_data.astype(df_filtered.dtypes.to_dict())\n",
    "# augmented_data.shape\n"
   ]
  },
  {
   "cell_type": "code",
   "execution_count": 14,
   "metadata": {},
   "outputs": [],
   "source": [
    "#Step 2: Apply Noise Injection to the Sliced Data (excluding 'id' and 'target')\n",
    "def add_noise_to_data(df, noise_level=0.01):\n",
    "    df_noisy = df.copy()\n",
    "\n",
    "    # Exclude 'id' and 'target' columns from noise injectbion\n",
    "    feature_columns = df.columns.difference(['ID', 'target','_type'])\n",
    "    \n",
    "    # Generate noise for the feature columns\n",
    "    noise = np.random.normal(0, noise_level, size=df[feature_columns].shape)\n",
    "    \n",
    "    # Apply noise to feature columns\n",
    "    df_noisy[feature_columns] = df[feature_columns] + noise\n",
    "    \n",
    "    return df_noisy\n",
    "def noise_injection(df: pd.DataFrame, noise_level: float = 0.01, decay: float = 0.99, seed : int = 42) -> pd.DataFrame:\n",
    "    df_noisy = df.copy()\n",
    "    np.random.seed(seed)\n",
    "    time_steps = np.arange(len(df_noisy))\n",
    "    feature_columns = list(df.columns.difference(['ID', 'target','_type']+[\"liquidation_diffg\", \"liquidation_usd_diffg\", \"volume_diffg\",'cross_volume_diff','cross_shifted_volume_diff',\n",
    "                            'cross_signal_volume_diff',\"Weekday\",\"Weekend\",\"Hour\",\"Hour_1\",\n",
    "                           \"Weekend_Hour\"]) )\n",
    "    for col in feature_columns:\n",
    "        noise = np.random.normal(0, noise_level*df_noisy[col].std(), size=df_noisy[col].shape)\n",
    "        decays = decay ** time_steps\n",
    "        df_noisy[col] = df_noisy[col] + noise * decays\n",
    "    \n",
    "    return df_noisy\n",
    "\n",
    "# Apply noise to the sliced data\n",
    "augmented_noisy_data = noise_injection(augmented_data, noise_level=0.01,decay=0.99,seed=42)"
   ]
  },
  {
   "cell_type": "code",
   "execution_count": 15,
   "metadata": {},
   "outputs": [],
   "source": [
    "augmented_noisy_data.columns\n",
    "train_1_2=train_df[(train_df['target'] != 0) & (train_df['target'] != 3)]\n",
    "train_df_augmented=pd.concat([train_1_2,augmented_noisy_data])"
   ]
  },
  {
   "cell_type": "code",
   "execution_count": 16,
   "metadata": {},
   "outputs": [
    {
     "data": {
      "text/plain": [
       "(10263, 896)"
      ]
     },
     "execution_count": 16,
     "metadata": {},
     "output_type": "execute_result"
    }
   ],
   "source": [
    "train_df_augmented.shape"
   ]
  },
  {
   "cell_type": "code",
   "execution_count": 17,
   "metadata": {},
   "outputs": [
    {
     "data": {
      "text/plain": [
       "target\n",
       "2.0    0.357693\n",
       "1.0    0.345318\n",
       "3.0    0.154438\n",
       "0.0    0.142551\n",
       "Name: count, dtype: float64"
      ]
     },
     "execution_count": 17,
     "metadata": {},
     "output_type": "execute_result"
    }
   ],
   "source": [
    "\n",
    "train_df_augmented['target'].value_counts()/len(train_df_augmented)"
   ]
  },
  {
   "cell_type": "code",
   "execution_count": null,
   "metadata": {},
   "outputs": [],
   "source": [
    "#타겟 변수를 제외한 변수를 forwardfill, -999로 결측치 대체\n",
    "# _target = df[\"target\"]\n",
    "# df = df.ffill().fillna(-999).assign(target = _target)\n",
    "\n",
    "# # _type에 따라 train, test 분리\n",
    "# train_df = df.loc[df[\"_type\"]==\"train\"].drop(columns=[\"_type\"])\n",
    "# test_df = df.loc[df[\"_type\"]==\"test\"].drop(columns=[\"_type\"])"
   ]
  },
  {
   "cell_type": "code",
   "execution_count": 18,
   "metadata": {},
   "outputs": [
    {
     "data": {
      "text/plain": [
       "target                          1.000000\n",
       "sell_ratio                      0.045359\n",
       "slope_change                    0.040276\n",
       "price_close_pct_change_1h_11    0.034949\n",
       "funding_rates_std_3h_16         0.034696\n",
       "                                  ...   \n",
       "is_buy_dominant                -0.039295\n",
       "buy_ratio                      -0.045343\n",
       "buy_sell_volume_ratio          -0.045353\n",
       "buy_sell_ratio                 -0.045357\n",
       "volume_diff                    -0.051478\n",
       "Name: target, Length: 895, dtype: float64"
      ]
     },
     "execution_count": 18,
     "metadata": {},
     "output_type": "execute_result"
    }
   ],
   "source": [
    "train_df_augmented = train_df_augmented.drop(columns=[\"ID\"])\n",
    "corr_mat = train_df_augmented.corr(method='spearman')\n",
    "corr_mat['target'].sort_values(ascending =False)\n"
   ]
  },
  {
   "cell_type": "code",
   "execution_count": 19,
   "metadata": {},
   "outputs": [],
   "source": [
    "corr_threshold = 0.03\n",
    "\n",
    "# Correct the condition using parentheses to properly group the comparisons\n",
    "high_var_col = corr_mat[(corr_mat['target'] >= corr_threshold) | (corr_mat['target'] <= -corr_threshold)].index.tolist()\n",
    "\n",
    "# Remove 'target' from the list if it's there\n",
    "if \"target\" in high_var_col:\n",
    "    high_var_col.remove(\"target\")"
   ]
  },
  {
   "cell_type": "code",
   "execution_count": 20,
   "metadata": {},
   "outputs": [
    {
     "data": {
      "text/plain": [
       "25"
      ]
     },
     "execution_count": 20,
     "metadata": {},
     "output_type": "execute_result"
    }
   ],
   "source": [
    "len(high_var_col)"
   ]
  },
  {
   "cell_type": "code",
   "execution_count": 23,
   "metadata": {},
   "outputs": [
    {
     "data": {
      "text/plain": [
       "Index(['target', 'coinbase_premium_gap', 'coinbase_premium_index',\n",
       "       'funding_rates', 'long_liquidations', 'long_liquidations_usd',\n",
       "       'short_liquidations', 'short_liquidations_usd', 'open_interest',\n",
       "       'buy_ratio',\n",
       "       ...\n",
       "       'slope_change_18', 'slope_change_19', 'slope_change_20',\n",
       "       'slope_change_21', 'slope_change_22', 'slope_change_23',\n",
       "       'open_interest_diff', 'transaction_rolling_mean_diff-12-6',\n",
       "       'transaction_rolling_mean_diff-24-6', 'hashrate_mean_diff-7d-1d'],\n",
       "      dtype='object', length=895)"
      ]
     },
     "execution_count": 23,
     "metadata": {},
     "output_type": "execute_result"
    }
   ],
   "source": [
    "train_df_augmented.columns"
   ]
  },
  {
   "cell_type": "code",
   "execution_count": 24,
   "metadata": {},
   "outputs": [],
   "source": [
    "x_train, x_valid, y_train, y_valid = train_test_split(\n",
    "    train_df_augmented.drop([\"target\"], axis=1), \n",
    "    train_df_augmented[\"target\"].astype(int), \n",
    "    test_size=0.2,\n",
    "    random_state=42,\n",
    ")"
   ]
  },
  {
   "cell_type": "code",
   "execution_count": 25,
   "metadata": {},
   "outputs": [],
   "source": [
    "x_train_sel=x_train[high_var_col]\n",
    "x_valid_sel=x_valid[high_var_col]"
   ]
  },
  {
   "cell_type": "code",
   "execution_count": 26,
   "metadata": {},
   "outputs": [
    {
     "name": "stderr",
     "output_type": "stream",
     "text": [
      "/Users/sinseunghun/anaconda3/envs/my_proejct/lib/python3.9/site-packages/lightgbm/engine.py:204: UserWarning: Found `n_estimators` in params. Will use it instead of argument\n",
      "  _log_warning(f\"Found `{alias}` in params. Will use it instead of argument\")\n"
     ]
    },
    {
     "name": "stdout",
     "output_type": "stream",
     "text": [
      "acc: 0.561617145640526, auroc: 0.8466974102587808\n"
     ]
    }
   ],
   "source": [
    "def train_lgmClassifier(x_train,x_valid,y_train,y_valid):\n",
    "    \n",
    "\n",
    "# lgb dataset\n",
    "    train_data = lgb.Dataset(x_train, label=y_train)\n",
    "    valid_data = lgb.Dataset(x_valid, label=y_valid, reference=train_data)\n",
    "\n",
    "# lgb params\n",
    "    params = {\n",
    "        \"boosting_type\": \"gbdt\",\n",
    "        \"objective\": \"multiclass\",\n",
    "        \"metric\": \"multi_logloss\",\n",
    "        \"num_class\": 4,\n",
    "        \"num_leaves\": 50,\n",
    "        \"learning_rate\": 0.05,\n",
    "        \"n_estimators\": 30,\n",
    "        \"random_state\": 42,\n",
    "        \"verbose\": 0,\n",
    "    }\n",
    "\n",
    "# lgb train\n",
    "    lgb_model = lgb.train(\n",
    "        params=params,\n",
    "        train_set=train_data,\n",
    "        valid_sets=valid_data,\n",
    "    )\n",
    "\n",
    "# lgb predict\n",
    "    y_valid_pred = lgb_model.predict(x_valid)\n",
    "    y_valid_pred_class = np.argmax(y_valid_pred, axis = 1)\n",
    "\n",
    "# score check\n",
    "    accuracy = accuracy_score(y_valid, y_valid_pred_class)\n",
    "    auroc = roc_auc_score(y_valid, y_valid_pred, multi_class=\"ovr\")\n",
    "\n",
    "    print(f\"acc: {accuracy}, auroc: {auroc}\")\n",
    "    return lgb_model,accuracy,params\n",
    "lgb_model,accuracy,params=train_lgmClassifier(x_train_sel,x_valid_sel,y_train,y_valid)\n"
   ]
  },
  {
   "cell_type": "code",
   "execution_count": 27,
   "metadata": {},
   "outputs": [
    {
     "data": {
      "image/png": "[encoded data removed]",
      "text/plain": [
       "<Figure size 800x600 with 1 Axes>"
      ]
     },
     "metadata": {},
     "output_type": "display_data"
    }
   ],
   "source": [
    "    # Confusion Matrix\n",
    "from sklearn.metrics import accuracy_score, roc_auc_score, confusion_matrix\n",
    "y_valid_pred = lgb_model.predict(x_valid_sel)\n",
    "y_valid_pred_class = np.argmax(y_valid_pred, axis = 1)\n",
    "conf_matrix = confusion_matrix(y_valid, y_valid_pred_class)\n",
    "\n",
    " # Plot Confusion Matrix\n",
    "plt.figure(figsize=(8, 6))\n",
    "sns.heatmap(conf_matrix, annot=True, fmt=\"d\", cmap=\"Blues\", cbar=False)\n",
    "plt.title(\"Confusion Matrix\")\n",
    "plt.ylabel(\"Actual Class\")\n",
    "plt.xlabel(\"Predicted Class\")\n",
    "plt.show()\n",
    "\n"
   ]
  },
  {
   "cell_type": "code",
   "execution_count": null,
   "metadata": {},
   "outputs": [],
   "source": [
    "def objective(trial):\n",
    "\n",
    "    # Suggest hyperparameters\n",
    "    params = {\n",
    "        \"boosting_type\": \"gbdt\",\n",
    "        \"objective\": \"multiclass\",\n",
    "        \"metric\": \"multi_logloss\",\n",
    "        \"num_class\": 4,  # Multiclass problem with 4 classes\n",
    "        \"learning_rate\": trial.suggest_float(\"learning_rate\", 0.01, 0.3),\n",
    "        \"num_leaves\": trial.suggest_int(\"num_leaves\", 20, 150),\n",
    "        \"n_estimators\": trial.suggest_int(\"n_estimators\", 50, 300),\n",
    "        \"random_state\": 42,\n",
    "        \"verbose\": -1,\n",
    "    }\n",
    "    \n",
    "    skf = StratifiedKFold(n_splits=5, shuffle=True, random_state=42)\n",
    "    accuracies = []\n",
    "    \n",
    "    for train_idx, valid_idx in skf.split(x_train, y_train):\n",
    "        # Use .iloc for pandas DataFrame indexing\n",
    "        x_train_fold, x_valid_fold = x_train.iloc[train_idx], x_train.iloc[valid_idx]\n",
    "        y_train_fold, y_valid_fold = y_train.iloc[train_idx], y_train.iloc[valid_idx]\n",
    "        \n",
    "        # Create the LightGBM dataset\n",
    "        train_data = lgb.Dataset(x_train_fold, label=y_train_fold)\n",
    "        valid_data = lgb.Dataset(x_valid_fold, label=y_valid_fold, reference=train_data)\n",
    "        \n",
    "        # Train the model with the specified parameters\n",
    "        lgb_model = lgb.train(\n",
    "            params=params,                # Pass the hyperparameters\n",
    "            train_set=train_data,         # Training set\n",
    "            valid_sets=[valid_data],      # Validation set\n",
    "        )\n",
    "        \n",
    "        # Predict probabilities for the validation set\n",
    "        y_pred_prob = lgb_model.predict(x_valid_fold, num_iteration=lgb_model.best_iteration)\n",
    "        \n",
    "        # Convert probabilities to class predictions\n",
    "        y_pred_valid = np.argmax(y_pred_prob, axis=1)\n",
    "        \n",
    "        # Calculate accuracy\n",
    "        accuracy = accuracy_score(y_valid_fold, y_pred_valid)\n",
    "        accuracies.append(accuracy)\n",
    "    \n",
    "    # Return the mean accuracy across all folds\n",
    "    return np.mean(accuracies)\n",
    "\n",
    "# Initialize and run the study\n",
    "study = optuna.create_study(direction=\"maximize\")\n",
    "study.optimize(objective, n_trials=100)\n",
    "\n",
    "# Output the results of the best trial\n",
    "trial = study.best_trial\n",
    "print(f\"Sampler is {study.sampler.__class__.__name__}\")\n",
    "print(\"Accuracy: {}\".format(trial.value))\n",
    "print(\"Best hyperparameters: {}\".format(trial.params))\n",
    "\n"
   ]
  },
  {
   "cell_type": "code",
   "execution_count": null,
   "metadata": {},
   "outputs": [],
   "source": [
    "from sklearn.ensemble import RandomForestClassifier\n",
    "def train_RandomForestClassifier(x_train, x_valid, y_train, y_valid):    \n",
    "    \"\"\"Train and validate a RandomForestClassifier model.\n",
    "\n",
    "    Args:        \n",
    "        x_train (pd.DataFrame): Training feature data.    \n",
    "        x_valid (pd.DataFrame): Validation feature data.    \n",
    "        y_train (pd.Series): Training target labels.    \n",
    "        y_valid (pd.Series): Validation target labels    \n",
    "    \"\"\"    \n",
    "    model = RandomForestClassifier(n_estimators=100, random_state=42)\n",
    "    model.fit(x_train, y_train) \n",
    "\n",
    "    pred_proba =  model.predict_proba(x_train)\n",
    "    print(\"train accuracy:{:5.10f}\".format(accuracy_score(y_train, np.argmax(pred_proba, axis = 1))))\n",
    "    print(\"train auroc :{:5.10f}\".format(roc_auc_score(y_train, pred_proba, multi_class=\"ovr\")))\n",
    "\n",
    "    pred_proba =  model.predict_proba(x_valid)\n",
    "    print(\"valid accuracy :{:5.10f}\".format(accuracy_score(y_valid, np.argmax(pred_proba, axis = 1))))\n",
    "    print(\"valid auroc :{:5.10f}\".format(roc_auc_score(y_valid, pred_proba, multi_class=\"ovr\")))\n",
    "train_RandomForestClassifier(x_train, x_valid, y_train, y_valid)"
   ]
  },
  {
   "cell_type": "code",
   "execution_count": null,
   "metadata": {},
   "outputs": [],
   "source": [
    "importance = lgb_model.feature_importance()\n",
    "feature_names=train_df.drop([\"target\", \"ID\"], axis = 1).columns\n",
    "feature_importance_df = pd.DataFrame({\n",
    "    'Feature': feature_names,\n",
    "    'Importance': importance\n",
    "})\n",
    "\n",
    "# Sort by importance (optional)\n",
    "feature_importance_df = feature_importance_df.sort_values(by='Importance', ascending=False)\n",
    "\n",
    "# Display the DataFrame\n",
    "print(feature_importance_df[:30])\n",
    "# a=feature_importance_df[:100]\n",
    "# train_df[a.loc[:,'Feature']]"
   ]
  },
  {
   "cell_type": "code",
   "execution_count": null,
   "metadata": {},
   "outputs": [],
   "source": [
    "print(feature_importance_df[:30])"
   ]
  },
  {
   "cell_type": "code",
   "execution_count": null,
   "metadata": {},
   "outputs": [],
   "source": [
    "from sklearn.model_selection import StratifiedKFold  # For stratified cross-validation\n",
    "from sklearn.feature_selection import SelectKBest, f_classif  # For feature selection\n",
    "\n",
    "pred_lgm = []\n",
    "k_fold = StratifiedKFold(n_splits=5, shuffle=True, random_state=42)\n",
    "\n",
    "# Perform cross-validation with stratification\n",
    "for train_idx, val_idx in k_fold.split(train_df_augmented.drop(['ID', \"target\"], axis=1), train_df_augmented[\"target\"]):\n",
    "    # Train and validation sets\n",
    "    x_tr = train_df_augmented.drop([\"ID\", \"target\"], axis=1).iloc[train_idx]  # Dropping both 'ID' and 'target'\n",
    "    y_tr = train_df_augmented['target'].iloc[train_idx]\n",
    "    x_val = train_df_augmented.drop([\"ID\", \"target\"], axis=1).iloc[val_idx]  # Dropping both 'ID' and 'target'\n",
    "    y_val = train_df_augmented['target'].iloc[val_idx]\n",
    "\n",
    "    # Select top 200 features using SelectKBest with f_classif\n",
    "    # n_feature = 200\n",
    "    # selector1 = SelectKBest(f_classif, k=n_feature)\n",
    "    # x_tr_sel = selector1.fit_transform(x_tr, y_tr)\n",
    "    # x_val_sel = selector1.transform(x_val)\n",
    "\n",
    "    # Assuming train_lgmClassifier is a function you defined to train LightGBM and return accuracy\n",
    "    train_RandomForestClassifier(x_tr, x_val, y_tr, y_val)\n",
    "\n",
    "    # Store the accuracy for each fold\n"
   ]
  },
  {
   "cell_type": "code",
   "execution_count": null,
   "metadata": {},
   "outputs": [],
   "source": [
    "params"
   ]
  },
  {
   "attachments": {},
   "cell_type": "markdown",
   "metadata": {},
   "source": [
    "# No feature selection train"
   ]
  },
  {
   "cell_type": "code",
   "execution_count": 28,
   "metadata": {},
   "outputs": [
    {
     "data": {
      "text/plain": [
       "Index(['long_liquidations', 'buy_ratio', 'buy_sell_ratio', 'sell_ratio',\n",
       "       'liquidation_diff', 'liquidation_usd_diff', 'volume_diff',\n",
       "       'volume_diffg', 'buy_sell_volume_ratio',\n",
       "       'liquidation_diff_pct_change_3h', 'buy_sell_ratio_pct_change_3h',\n",
       "       'is_buy_dominant', 'slope_7days', 'slope_1day', 'slope_change',\n",
       "       'long_liquidations_1', 'long_liquidations_usd_1', 'buy_ratio_17',\n",
       "       'buy_sell_ratio_17', 'sell_ratio_17', 'volume_diff_17',\n",
       "       'buy_sell_volume_ratio_17', 'funding_rates_std_3h_16',\n",
       "       'price_close_pct_change_1h_11', 'volume_diff_pct_change_6h_4'],\n",
       "      dtype='object')"
      ]
     },
     "execution_count": 28,
     "metadata": {},
     "output_type": "execute_result"
    }
   ],
   "source": [
    "x_train = train_df_augmented.drop([\"target\"], axis = 1)\n",
    "y_train = train_df_augmented[\"target\"].astype(int)\n",
    "x_train=x_train[high_var_col]\n",
    "x_train.columns"
   ]
  },
  {
   "cell_type": "code",
   "execution_count": 29,
   "metadata": {},
   "outputs": [
    {
     "name": "stderr",
     "output_type": "stream",
     "text": [
      "/Users/sinseunghun/anaconda3/envs/my_proejct/lib/python3.9/site-packages/lightgbm/engine.py:204: UserWarning: Found `n_estimators` in params. Will use it instead of argument\n",
      "  _log_warning(f\"Found `{alias}` in params. Will use it instead of argument\")\n"
     ]
    }
   ],
   "source": [
    "train_data = lgb.Dataset(x_train, label=y_train)\n",
    "lgb_model = lgb.train(\n",
    "    params=params,\n",
    "    train_set=train_data,\n",
    ")"
   ]
  },
  {
   "cell_type": "code",
   "execution_count": null,
   "metadata": {},
   "outputs": [],
   "source": [
    "x_train = train_df.drop([\"target\", \"ID\"], axis = 1)\n",
    "y_train = train_df[\"target\"].astype(int)\n",
    "model = RandomForestClassifier(n_estimators=100, random_state=42)\n",
    "model.fit(x_train, y_train) "
   ]
  },
  {
   "attachments": {},
   "cell_type": "markdown",
   "metadata": {},
   "source": [
    "# Feature selection train"
   ]
  },
  {
   "cell_type": "code",
   "execution_count": null,
   "metadata": {},
   "outputs": [],
   "source": [
    "\n",
    "x_train = train_df_augmented.drop([\"target\", \"ID\"], axis = 1)\n",
    "y_train = train_df_augmented[\"target\"].astype(int)\n",
    "n_feature = 200\n",
    "selector1 = SelectKBest(f_classif, k=n_feature)\n",
    "x_tr_sel = selector1.fit_transform(x_train, y_train)\n",
    "train_data = lgb.Dataset(x_tr_sel, label=y_train)\n",
    "lgb_model = lgb.train(\n",
    "    params=params,\n",
    "    train_set=train_data,\n",
    ")"
   ]
  },
  {
   "attachments": {},
   "cell_type": "markdown",
   "metadata": {},
   "source": [
    "# No feature selection"
   ]
  },
  {
   "cell_type": "code",
   "execution_count": 30,
   "metadata": {},
   "outputs": [
    {
     "data": {
      "text/plain": [
       "Index(['long_liquidations', 'buy_ratio', 'buy_sell_ratio', 'sell_ratio',\n",
       "       'liquidation_diff', 'liquidation_usd_diff', 'volume_diff',\n",
       "       'volume_diffg', 'buy_sell_volume_ratio',\n",
       "       'liquidation_diff_pct_change_3h', 'buy_sell_ratio_pct_change_3h',\n",
       "       'is_buy_dominant', 'slope_7days', 'slope_1day', 'slope_change',\n",
       "       'long_liquidations_1', 'long_liquidations_usd_1', 'buy_ratio_17',\n",
       "       'buy_sell_ratio_17', 'sell_ratio_17', 'volume_diff_17',\n",
       "       'buy_sell_volume_ratio_17', 'funding_rates_std_3h_16',\n",
       "       'price_close_pct_change_1h_11', 'volume_diff_pct_change_6h_4'],\n",
       "      dtype='object')"
      ]
     },
     "execution_count": 30,
     "metadata": {},
     "output_type": "execute_result"
    }
   ],
   "source": [
    "test_df=test_df[high_var_col]\n",
    "test_df.columns"
   ]
  },
  {
   "cell_type": "code",
   "execution_count": 31,
   "metadata": {},
   "outputs": [],
   "source": [
    "y_test_pred = lgb_model.predict(test_df)\n",
    "y_test_pred_class = np.argmax(y_test_pred, axis = 1)"
   ]
  },
  {
   "cell_type": "code",
   "execution_count": null,
   "metadata": {},
   "outputs": [],
   "source": [
    "y_test_pred = model.predict(test_df.drop([\"target\", \"ID\"], axis=1))\n",
    "y_test_pred_proba = model.predict_proba(test_df.drop([\"target\", \"ID\"], axis=1))\n",
    "y_test_pred_class = np.argmax(y_test_pred_proba, axis=1)"
   ]
  },
  {
   "attachments": {},
   "cell_type": "markdown",
   "metadata": {},
   "source": [
    "# Feature anova top 200 selection"
   ]
  },
  {
   "cell_type": "code",
   "execution_count": null,
   "metadata": {},
   "outputs": [],
   "source": [
    "# selected_features = x_train.columns[selector1.get_support()]\n",
    "x_test=test_df.drop([\"target\", \"ID\"], axis = 1)\n",
    "x_test_sel = selector1.transform(x_test)\n",
    "\n",
    "y_test_pred = lgb_model.predict(x_test_sel)\n",
    "y_test_pred_class = np.argmax(y_test_pred, axis = 1)"
   ]
  },
  {
   "cell_type": "code",
   "execution_count": 32,
   "metadata": {},
   "outputs": [],
   "source": [
    "submission_df = submission_df.assign(target = y_test_pred_class)\n",
    "submission_df.to_csv(\"nathan3.csv\", index=False)"
   ]
  }
 ],
 "metadata": {
  "kernelspec": {
   "display_name": "Python 3",
   "language": "python",
   "name": "python3"
  },
  "language_info": {
   "codemirror_mode": {
    "name": "ipython",
    "version": 3
   },
   "file_extension": ".py",
   "mimetype": "text/x-python",
   "name": "python",
   "nbconvert_exporter": "python",
   "pygments_lexer": "ipython3",
   "version": "3.9.19"
  },
  "orig_nbformat": 4
 },
 "nbformat": 4,
 "nbformat_minor": 2
}
