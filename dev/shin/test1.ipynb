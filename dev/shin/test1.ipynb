{
 "cells": [
  {
   "cell_type": "markdown",
   "id": "78014df4-9e41-4138-8416-98c2e9ac2bdc",
   "metadata": {},
   "source": [
    "## 피쳐 다 network data에있는거 다넣고 feature engeinnering (rolling 추가) \n",
    "피쳐 19개만 고른거랑 시프팅한거보단 못함"
   ]
  },
  {
   "cell_type": "code",
   "execution_count": null,
   "id": "088fe4e0-77e5-46c6-8a1d-90b3fc9b2f20",
   "metadata": {},
   "outputs": [],
   "source": [
    "import os\n",
    "from typing import List, Dict\n",
    "from tqdm import tqdm\n",
    "import numpy as np\n",
    "import pandas as pd\n",
    "from sklearn.model_selection import train_test_split\n",
    "from sklearn.metrics import accuracy_score, roc_auc_score\n",
    "import lightgbm as lgb\n",
    "from plotly.subplots import make_subplots\n",
    "import plotly.graph_objects as go"
   ]
  },
  {
   "cell_type": "code",
   "execution_count": 2,
   "id": "87510eb8-371a-4a3b-9ffa-592d05b25f4d",
   "metadata": {},
   "outputs": [
    {
     "data": {
      "text/html": [
       "<div>\n",
       "<style scoped>\n",
       "    .dataframe tbody tr th:only-of-type {\n",
       "        vertical-align: middle;\n",
       "    }\n",
       "\n",
       "    .dataframe tbody tr th {\n",
       "        vertical-align: top;\n",
       "    }\n",
       "\n",
       "    .dataframe thead th {\n",
       "        text-align: right;\n",
       "    }\n",
       "</style>\n",
       "<table border=\"1\" class=\"dataframe\">\n",
       "  <thead>\n",
       "    <tr style=\"text-align: right;\">\n",
       "      <th></th>\n",
       "      <th>ID</th>\n",
       "      <th>target</th>\n",
       "      <th>_type</th>\n",
       "    </tr>\n",
       "  </thead>\n",
       "  <tbody>\n",
       "    <tr>\n",
       "      <th>0</th>\n",
       "      <td>2023-01-01 00:00:00</td>\n",
       "      <td>2.0</td>\n",
       "      <td>train</td>\n",
       "    </tr>\n",
       "    <tr>\n",
       "      <th>1</th>\n",
       "      <td>2023-01-01 01:00:00</td>\n",
       "      <td>1.0</td>\n",
       "      <td>train</td>\n",
       "    </tr>\n",
       "    <tr>\n",
       "      <th>2</th>\n",
       "      <td>2023-01-01 02:00:00</td>\n",
       "      <td>1.0</td>\n",
       "      <td>train</td>\n",
       "    </tr>\n",
       "    <tr>\n",
       "      <th>3</th>\n",
       "      <td>2023-01-01 03:00:00</td>\n",
       "      <td>1.0</td>\n",
       "      <td>train</td>\n",
       "    </tr>\n",
       "    <tr>\n",
       "      <th>4</th>\n",
       "      <td>2023-01-01 04:00:00</td>\n",
       "      <td>2.0</td>\n",
       "      <td>train</td>\n",
       "    </tr>\n",
       "    <tr>\n",
       "      <th>...</th>\n",
       "      <td>...</td>\n",
       "      <td>...</td>\n",
       "      <td>...</td>\n",
       "    </tr>\n",
       "    <tr>\n",
       "      <th>2787</th>\n",
       "      <td>2024-04-26 03:00:00</td>\n",
       "      <td>NaN</td>\n",
       "      <td>test</td>\n",
       "    </tr>\n",
       "    <tr>\n",
       "      <th>2788</th>\n",
       "      <td>2024-04-26 04:00:00</td>\n",
       "      <td>NaN</td>\n",
       "      <td>test</td>\n",
       "    </tr>\n",
       "    <tr>\n",
       "      <th>2789</th>\n",
       "      <td>2024-04-26 05:00:00</td>\n",
       "      <td>NaN</td>\n",
       "      <td>test</td>\n",
       "    </tr>\n",
       "    <tr>\n",
       "      <th>2790</th>\n",
       "      <td>2024-04-26 06:00:00</td>\n",
       "      <td>NaN</td>\n",
       "      <td>test</td>\n",
       "    </tr>\n",
       "    <tr>\n",
       "      <th>2791</th>\n",
       "      <td>2024-04-26 07:00:00</td>\n",
       "      <td>NaN</td>\n",
       "      <td>test</td>\n",
       "    </tr>\n",
       "  </tbody>\n",
       "</table>\n",
       "<p>11552 rows × 3 columns</p>\n",
       "</div>"
      ],
      "text/plain": [
       "                       ID  target  _type\n",
       "0     2023-01-01 00:00:00     2.0  train\n",
       "1     2023-01-01 01:00:00     1.0  train\n",
       "2     2023-01-01 02:00:00     1.0  train\n",
       "3     2023-01-01 03:00:00     1.0  train\n",
       "4     2023-01-01 04:00:00     2.0  train\n",
       "...                   ...     ...    ...\n",
       "2787  2024-04-26 03:00:00     NaN   test\n",
       "2788  2024-04-26 04:00:00     NaN   test\n",
       "2789  2024-04-26 05:00:00     NaN   test\n",
       "2790  2024-04-26 06:00:00     NaN   test\n",
       "2791  2024-04-26 07:00:00     NaN   test\n",
       "\n",
       "[11552 rows x 3 columns]"
      ]
     },
     "execution_count": 2,
     "metadata": {},
     "output_type": "execute_result"
    }
   ],
   "source": [
    "# 파일 호출\n",
    "data_path: str = \"data\"\n",
    "train_df: pd.DataFrame = pd.read_csv(os.path.join(data_path, \"train.csv\")).assign(_type=\"train\") # train 에는 _type = train \n",
    "test_df: pd.DataFrame = pd.read_csv(os.path.join(data_path, \"test.csv\")).assign(_type=\"test\") # test 에는 _type = test\n",
    "submission_df: pd.DataFrame = pd.read_csv(os.path.join(data_path, \"test.csv\")) # ID, target 열만 가진 데이터 미리 호출\n",
    "df: pd.DataFrame = pd.concat([train_df, test_df], axis=0)\n",
    "df\n"
   ]
  },
  {
   "cell_type": "code",
   "execution_count": 3,
   "id": "3d6b52d9-1830-41ef-84e8-4982f739387b",
   "metadata": {},
   "outputs": [
    {
     "name": "stderr",
     "output_type": "stream",
     "text": [
      "100%|████████████████████████████████████████████████████████████████████████████████████████████████████████████████████| 107/107 [00:01<00:00, 57.91it/s]\n"
     ]
    }
   ],
   "source": [
    "file_names : List[str]=[\n",
    "    f for f in os.listdir(data_path) if f.startswith('HOURLY_') and f.endswith(\".csv\")\n",
    "]\n",
    "\n",
    "file_dict: Dict[str,pd.DataFrame]={\n",
    "    f.replace(\".csv\",\"\"): pd.read_csv(os.path.join(data_path,f)) for f in file_names\n",
    "}\n",
    "\n",
    "for _file_name, _df in tqdm(file_dict.items()):\n",
    "    _rename_rule={\n",
    "        col: f\"{_file_name.lower()}_{col.lower()}\" if col!=\"datetime\" else \"ID\"\n",
    "        for col in _df.columns\n",
    "    }\n",
    "    _df=_df.rename(_rename_rule,axis=1)\n",
    "    df=df.merge(_df,on=\"ID\",how=\"left\")\n"
   ]
  },
  {
   "cell_type": "code",
   "execution_count": 4,
   "id": "1ad0577a-6b21-41b8-821a-b1ab237f24d4",
   "metadata": {},
   "outputs": [
    {
     "data": {
      "text/plain": [
       "(11552, 215)"
      ]
     },
     "execution_count": 4,
     "metadata": {},
     "output_type": "execute_result"
    }
   ],
   "source": [
    "df\n",
    "missing_values=df.isnull().sum()\n",
    "missing_values\n",
    "missing_percentage= (missing_values)/len(df) *100\n",
    "missing_percentage\n",
    "\n",
    "sorted_missing_percentage=missing_percentage.sort_values(ascending=False)\n",
    "\n",
    "# null 100 percent인 feature들\n",
    "name_null=[]\n",
    "for col, val in sorted_missing_percentage.items():\n",
    "    if val==100:\n",
    "        name_null.append(col)        \n",
    "len(name_null)\n",
    "for i in name_null:\n",
    "    df=df.drop(columns=i)\n",
    "df.shape\n"
   ]
  },
  {
   "cell_type": "code",
   "execution_count": null,
   "id": "403d6336-ea11-43ee-8aa8-f5f04e6a448b",
   "metadata": {},
   "outputs": [],
   "source": [
    "#내일 베이스라인의 선택적인 컬럼만 가져와서 nan값에 넣고 해보기"
   ]
  },
  {
   "cell_type": "code",
   "execution_count": 5,
   "id": "c8323f56-239f-46d7-81a1-34346d9b61a0",
   "metadata": {},
   "outputs": [],
   "source": [
    "cols_dict : Dict[str,str] = {}\n",
    "for i in df.columns:\n",
    "    \n",
    "    parts=i.split(\"_\")\n",
    "    if len(parts)>=3 and 'network-data' in parts:\n",
    "        cols_dict[i]=\"_\".join(parts[2:])\n",
    "    elif len(parts) >= 3 and 'market-data' in parts:\n",
    "        if 'exchange' in parts and 'all' and ('taker-buy-sell-stats' in parts or 'funding-rates' in parts):\n",
    "            cols_dict[i] = \"_\".join(parts[2:])\n",
    "        elif 'all' in parts and 'symbol' in parts and 'exchange' in parts and ('liquidations'  or 'open-interest' in parts):\n",
    "            cols_dict[i] = \"_\".join(parts[2:])\n",
    "        elif 'coinbase-premium-index' in parts:\n",
    "            cols_dict[i] = \"_\".join(parts[2:])\n",
    "    elif len(parts)<3:\n",
    "        cols_dict[i]=i\n",
    "\n",
    "cols_dict2: Dict[str, str] = {\n",
    "    \"ID\": \"ID\",\n",
    "    \"target\": \"target\",\n",
    "    \"_type\": \"_type\",\n",
    "    \"coinbase-premium-index_coinbase_premium_gap\": \"coinbase_premium_gap\",\n",
    "    \"coinbase-premium-index_coinbase_premium_index\": \"coinbase_premium_index\",\n",
    "    \"funding-rates_all_exchange_funding_rates\": \"funding_rates\",\n",
    "    \"liquidations_all_exchange_all_symbol_long_liquidations\": \"long_liquidations\",\n",
    "    \"liquidations_all_exchange_all_symbol_long_liquidations_usd\": \"long_liquidations_usd\",\n",
    "    \"liquidations_all_exchange_all_symbol_short_liquidations\": \"short_liquidations\",\n",
    "    \"liquidations_all_exchange_all_symbol_short_liquidations_usd\": \"short_liquidations_usd\",\n",
    "    \"open-interest_all_exchange_all_symbol_open_interest\": \"open_interest\",\n",
    "    \"taker-buy-sell-stats_all_exchange_taker_buy_ratio\": \"buy_ratio\",\n",
    "    \"taker-buy-sell-stats_all_exchange_taker_buy_sell_ratio\": \"buy_sell_ratio\",\n",
    "    \"taker-buy-sell-stats_all_exchange_taker_buy_volume\": \"buy_volume\",\n",
    "    \"taker-buy-sell-stats_all_exchange_taker_sell_ratio\": \"sell_ratio\",\n",
    "    \"taker-buy-sell-stats_all_exchange_taker_sell_volume\": \"sell_volume\",\n",
    "    \"addresses-count_addresses_count_active\": \"active_count\",\n",
    "    \"addresses-count_addresses_count_receiver\": \"receiver_count\",\n",
    "    \"addresses-count_addresses_count_sender\": \"sender_count\",\n",
    "}\n",
    "len(cols_dict)\n",
    "cols_dict\n",
    "df = df[cols_dict.keys()].rename(cols_dict,axis=1)"
   ]
  },
  {
   "cell_type": "code",
   "execution_count": 6,
   "id": "519f14ca-3189-462e-a2ae-655384546730",
   "metadata": {},
   "outputs": [],
   "source": [
    "for i in cols_dict2.keys():\n",
    "    df = df.rename(columns={i: cols_dict2[i]})\n"
   ]
  },
  {
   "cell_type": "code",
   "execution_count": 7,
   "id": "4b6abe25-dd91-48b8-a8b2-7f8b77bb2a42",
   "metadata": {},
   "outputs": [
    {
     "data": {
      "text/plain": [
       "44"
      ]
     },
     "execution_count": 7,
     "metadata": {},
     "output_type": "execute_result"
    }
   ],
   "source": [
    "df.columns.nunique()"
   ]
  },
  {
   "cell_type": "code",
   "execution_count": null,
   "id": "722a7d6f-c223-43f8-9692-00cb06c60194",
   "metadata": {},
   "outputs": [],
   "source": [
    "# # Nan 값 채우기\n",
    "# eda_df=df.loc[df[\"_type\"]==\"train\"]\n",
    "# eda_test=df.loc[df[\"_type\"]==\"test\"]\n",
    "# missing_values = eda_df.isnull().sum()\n",
    "# missing_percentage = (missing_values / len(eda_df)) * 100\n",
    "# sorted_missing_percentage = missing_percentage.sort_values(ascending=False)\n",
    "\n",
    "# # Identify columns with missing values\n",
    "# null = [col for col in eda_df.columns if missing_values[col] != 0]\n",
    "\n",
    "# # Fill missing values with the mean of each column\n",
    "# for col in null:\n",
    "#     eda_df.loc[:, col] = eda_df[col].fillna(eda_df[col].mean())\n",
    "    \n",
    "# missing_values2 = eda_test.isnull().sum()\n",
    "# missing_percentage2 = (missing_values2 / len(eda_test)) * 100\n",
    "# sorted_missing_percentage2 = missing_percentage2.sort_values(ascending=False)\n",
    "\n",
    "# null_test=[col for col in eda_test.columns if missing_values2[col] !=0 and col!='target']\n",
    "\n",
    "# for col in null_test:\n",
    "#     eda_test.loc[:,col] = eda_test[col].fillna(eda_df[col].mean())\n",
    "\n",
    "# df=pd.concat([eda_df,eda_test],axis=0)\n",
    "# df"
   ]
  },
  {
   "cell_type": "code",
   "execution_count": 8,
   "id": "7ec140e9-c77b-4bd7-ab31-5cb248e9600f",
   "metadata": {},
   "outputs": [],
   "source": [
    "df = df.assign(\n",
    "    liquidation_diff=df[\"long_liquidations\"]-df[\"short_liquidations\"],\n",
    "    liquidation_usd_diff= df['long_liquidations_usd']-df['short_liquidations_usd'],\n",
    "    volume_diff=df[\"buy_volume\"] - df[\"sell_volume\"],\n",
    "    liquidation_diffg=np.sign(df[\"long_liquidations\"]-df[\"short_liquidations\"]),\n",
    "    liquidation_usd_diffg=np.sign(df['long_liquidations_usd']-df['short_liquidations_usd']),\n",
    "    volume_diffg=np.sign(df[\"buy_volume\"] - df[\"sell_volume\"]),\n",
    "    buy_sell_volume_ratio=df[\"buy_volume\"] / (df[\"sell_volume\"] + 1)\n",
    ")"
   ]
  },
  {
   "cell_type": "code",
   "execution_count": 9,
   "id": "8c45ccc4-591d-43e0-8e5f-bdbc3fcad39d",
   "metadata": {},
   "outputs": [
    {
     "data": {
      "text/plain": [
       "45"
      ]
     },
     "execution_count": 9,
     "metadata": {},
     "output_type": "execute_result"
    }
   ],
   "source": [
    "category_cols : List[str] = [\"liquidation_diffg\", \"liquidation_usd_diffg\", \"volume_diffg\"]\n",
    "conti_cols: List[str] = [ i for i in df.columns \n",
    "                         if i not in [\"ID\",\"target\",\"_type\",\"liquidation_diffg\", \"liquidation_usd_diffg\", \"volume_diffg\"]]\n",
    "len(conti_cols)"
   ]
  },
  {
   "cell_type": "code",
   "execution_count": 12,
   "id": "9820d5ca-96c5-4e62-aa54-e41ce407a987",
   "metadata": {},
   "outputs": [
    {
     "data": {
      "text/plain": [
       "51"
      ]
     },
     "execution_count": 12,
     "metadata": {},
     "output_type": "execute_result"
    }
   ],
   "source": [
    "len(df.columns)"
   ]
  },
  {
   "cell_type": "code",
   "execution_count": 10,
   "id": "ff274402-45a1-478a-b9e3-a99e4732f4b6",
   "metadata": {},
   "outputs": [
    {
     "data": {
      "text/plain": [
       "Index(['ID', 'target', '_type', 'block-bytes_block_bytes',\n",
       "       'block-count_block_count', 'utxo-count_utxo_count',\n",
       "       'difficulty_difficulty', 'active_count', 'sender_count',\n",
       "       'receiver_count', 'hashrate_hashrate',\n",
       "       'tokens-transferred_tokens_transferred_total',\n",
       "       'tokens-transferred_tokens_transferred_mean',\n",
       "       'tokens-transferred_tokens_transferred_median', 'open_interest',\n",
       "       'blockreward_blockreward', 'blockreward_blockreward_usd',\n",
       "       'funding_rates', 'buy_volume', 'sell_volume', 'buy_ratio', 'sell_ratio',\n",
       "       'buy_sell_ratio', 'fees_fees_block_mean', 'fees_fees_block_mean_usd',\n",
       "       'fees_fees_total', 'fees_fees_total_usd', 'fees_fees_reward_percent',\n",
       "       'long_liquidations', 'short_liquidations', 'long_liquidations_usd',\n",
       "       'short_liquidations_usd', 'coinbase_premium_gap',\n",
       "       'coinbase_premium_index', 'fees-transaction_fees_transaction_mean',\n",
       "       'fees-transaction_fees_transaction_mean_usd',\n",
       "       'fees-transaction_fees_transaction_median',\n",
       "       'fees-transaction_fees_transaction_median_usd', 'supply_supply_total',\n",
       "       'supply_supply_new', 'block-interval_block_interval',\n",
       "       'velocity_velocity_supply_total',\n",
       "       'transactions-count_transactions_count_total',\n",
       "       'transactions-count_transactions_count_mean', 'liquidation_diff',\n",
       "       'liquidation_usd_diff', 'volume_diff', 'liquidation_diffg',\n",
       "       'liquidation_usd_diffg', 'volume_diffg', 'buy_sell_volume_ratio'],\n",
       "      dtype='object')"
      ]
     },
     "execution_count": 10,
     "metadata": {},
     "output_type": "execute_result"
    }
   ],
   "source": [
    "df.columns"
   ]
  },
  {
   "cell_type": "code",
   "execution_count": 11,
   "id": "f735b0c5-b5f6-475b-9897-2a13d4dd5753",
   "metadata": {},
   "outputs": [],
   "source": [
    "def shift_feature(\n",
    "    df: pd.DataFrame,\n",
    "    conti_cols: List[str],\n",
    "    intervals: List[int],\n",
    ") -> List[pd.Series]:\n",
    "    \"\"\"\n",
    "    연속형 변수의 shift feature 생성\n",
    "    Args:\n",
    "        df (pd.DataFrame)\n",
    "        conti_cols (List[str]): continuous colnames\n",
    "        intervals (List[int]): shifted intervals\n",
    "    Return:\n",
    "        List[pd.Series]\n",
    "    \"\"\"\n",
    "    df_shift_dict = [\n",
    "        df[conti_col].shift(interval).rename(f\"{conti_col}_{interval}\")\n",
    "        for conti_col in conti_cols\n",
    "        for interval in intervals\n",
    "    ]\n",
    "    return df_shift_dict\n",
    "\n",
    "# 최대 24시간의 shift 피쳐를 계산\n",
    "shift_list = shift_feature(\n",
    "    df=df, conti_cols=conti_cols, intervals=[_ for _ in range(1, 24)]\n",
    ")"
   ]
  },
  {
   "cell_type": "code",
   "execution_count": 13,
   "id": "984ac95b-b742-42b2-a723-49475e397440",
   "metadata": {},
   "outputs": [],
   "source": [
    "df = pd.concat([df, pd.concat(shift_list, axis=1)], axis=1)"
   ]
  },
  {
   "cell_type": "code",
   "execution_count": null,
   "id": "cfc9e186-96a2-4967-8259-c06137512888",
   "metadata": {},
   "outputs": [],
   "source": [
    "df['open_interest']"
   ]
  },
  {
   "cell_type": "code",
   "execution_count": null,
   "id": "c44b2674-aeea-4855-9cbb-870299fee250",
   "metadata": {},
   "outputs": [],
   "source": [
    "# edf=df[df['_type']=='train']\n",
    "# import seaborn as sns\n",
    "# sns.lineplot(x='ID',y='block-interval_block_interval',data=edf)\n",
    "\n",
    "\n",
    "\n"
   ]
  },
  {
   "cell_type": "code",
   "execution_count": null,
   "id": "5d304766-38bb-4ca4-b2ee-f59db1c01582",
   "metadata": {},
   "outputs": [],
   "source": []
  },
  {
   "cell_type": "code",
   "execution_count": 14,
   "id": "fe167f2c-16b3-417a-b35f-67786db55fd6",
   "metadata": {},
   "outputs": [],
   "source": [
    "from typing import List\n",
    "import pandas as pd\n",
    "\n",
    "def rolling_feature(\n",
    "   df: pd.DataFrame,\n",
    "   conti_cols: List[str],\n",
    "   intervals: List[int],\n",
    "   funcs: List[str],\n",
    "   **params,\n",
    ") -> pd.DataFrame:\n",
    "   \"\"\"\n",
    "   Create rolling features\n",
    "   Args:\n",
    "       df (pd.DataFrame): Sorted dataframe\n",
    "       conti_cols (List[str]): continuous colnames\n",
    "       intervals (List[str]): rolling window widths\n",
    "       funcs (List[str]): aggregation functions e.g. [\"mean\", \"median\", \"max\"]\n",
    "       **params: more input for rolling\n",
    "   Returns:\n",
    "       pd.DataFrame\n",
    "   \"\"\"\n",
    "   df_rolling_list = [\n",
    "       df[conti_col]\n",
    "       .rolling(interval, **params)\n",
    "       .agg({f\"{conti_col}\": func})\n",
    "       .rename({conti_col: f\"{conti_col}_{func}_{interval}\"}, axis=1)\n",
    "       for conti_col in conti_cols\n",
    "       for interval in intervals\n",
    "       for func in funcs\n",
    "   ]\n",
    "   return pd.concat(df_rolling_list, axis = 1)"
   ]
  },
  {
   "cell_type": "code",
   "execution_count": 15,
   "id": "586414ad-c470-4e32-af56-6457b5f9b48a",
   "metadata": {},
   "outputs": [
    {
     "data": {
      "text/html": [
       "<div>\n",
       "<style scoped>\n",
       "    .dataframe tbody tr th:only-of-type {\n",
       "        vertical-align: middle;\n",
       "    }\n",
       "\n",
       "    .dataframe tbody tr th {\n",
       "        vertical-align: top;\n",
       "    }\n",
       "\n",
       "    .dataframe thead th {\n",
       "        text-align: right;\n",
       "    }\n",
       "</style>\n",
       "<table border=\"1\" class=\"dataframe\">\n",
       "  <thead>\n",
       "    <tr style=\"text-align: right;\">\n",
       "      <th></th>\n",
       "      <th>ID</th>\n",
       "      <th>target</th>\n",
       "      <th>_type</th>\n",
       "      <th>block-bytes_block_bytes</th>\n",
       "      <th>block-count_block_count</th>\n",
       "      <th>utxo-count_utxo_count</th>\n",
       "      <th>difficulty_difficulty</th>\n",
       "      <th>active_count</th>\n",
       "      <th>sender_count</th>\n",
       "      <th>receiver_count</th>\n",
       "      <th>...</th>\n",
       "      <th>block-interval_block_interval_max_20</th>\n",
       "      <th>block-interval_block_interval_min_20</th>\n",
       "      <th>block-interval_block_interval_mean_22</th>\n",
       "      <th>block-interval_block_interval_median_22</th>\n",
       "      <th>block-interval_block_interval_max_22</th>\n",
       "      <th>block-interval_block_interval_min_22</th>\n",
       "      <th>block-interval_block_interval_mean_24</th>\n",
       "      <th>block-interval_block_interval_median_24</th>\n",
       "      <th>block-interval_block_interval_max_24</th>\n",
       "      <th>block-interval_block_interval_min_24</th>\n",
       "    </tr>\n",
       "  </thead>\n",
       "  <tbody>\n",
       "    <tr>\n",
       "      <th>0</th>\n",
       "      <td>2023-01-01 00:00:00</td>\n",
       "      <td>2.0</td>\n",
       "      <td>train</td>\n",
       "      <td>783554.416667</td>\n",
       "      <td>12.0</td>\n",
       "      <td>83308092.0</td>\n",
       "      <td>3.536407e+13</td>\n",
       "      <td>67987</td>\n",
       "      <td>37307</td>\n",
       "      <td>37752</td>\n",
       "      <td>...</td>\n",
       "      <td>NaN</td>\n",
       "      <td>NaN</td>\n",
       "      <td>NaN</td>\n",
       "      <td>NaN</td>\n",
       "      <td>NaN</td>\n",
       "      <td>NaN</td>\n",
       "      <td>NaN</td>\n",
       "      <td>NaN</td>\n",
       "      <td>NaN</td>\n",
       "      <td>NaN</td>\n",
       "    </tr>\n",
       "    <tr>\n",
       "      <th>1</th>\n",
       "      <td>2023-01-01 01:00:00</td>\n",
       "      <td>1.0</td>\n",
       "      <td>train</td>\n",
       "      <td>890760.500000</td>\n",
       "      <td>4.0</td>\n",
       "      <td>83314883.0</td>\n",
       "      <td>3.536407e+13</td>\n",
       "      <td>30593</td>\n",
       "      <td>12342</td>\n",
       "      <td>20534</td>\n",
       "      <td>...</td>\n",
       "      <td>427.333333</td>\n",
       "      <td>427.333333</td>\n",
       "      <td>427.333333</td>\n",
       "      <td>427.333333</td>\n",
       "      <td>427.333333</td>\n",
       "      <td>427.333333</td>\n",
       "      <td>427.333333</td>\n",
       "      <td>427.333333</td>\n",
       "      <td>427.333333</td>\n",
       "      <td>427.333333</td>\n",
       "    </tr>\n",
       "    <tr>\n",
       "      <th>2</th>\n",
       "      <td>2023-01-01 02:00:00</td>\n",
       "      <td>1.0</td>\n",
       "      <td>train</td>\n",
       "      <td>558209.750000</td>\n",
       "      <td>8.0</td>\n",
       "      <td>83314090.0</td>\n",
       "      <td>3.536407e+13</td>\n",
       "      <td>33897</td>\n",
       "      <td>17737</td>\n",
       "      <td>19369</td>\n",
       "      <td>...</td>\n",
       "      <td>782.500000</td>\n",
       "      <td>427.333333</td>\n",
       "      <td>604.916667</td>\n",
       "      <td>604.916667</td>\n",
       "      <td>782.500000</td>\n",
       "      <td>427.333333</td>\n",
       "      <td>604.916667</td>\n",
       "      <td>604.916667</td>\n",
       "      <td>782.500000</td>\n",
       "      <td>427.333333</td>\n",
       "    </tr>\n",
       "    <tr>\n",
       "      <th>3</th>\n",
       "      <td>2023-01-01 03:00:00</td>\n",
       "      <td>1.0</td>\n",
       "      <td>train</td>\n",
       "      <td>640371.800000</td>\n",
       "      <td>5.0</td>\n",
       "      <td>83326258.0</td>\n",
       "      <td>3.536407e+13</td>\n",
       "      <td>32717</td>\n",
       "      <td>11421</td>\n",
       "      <td>23799</td>\n",
       "      <td>...</td>\n",
       "      <td>782.500000</td>\n",
       "      <td>365.125000</td>\n",
       "      <td>524.986111</td>\n",
       "      <td>427.333333</td>\n",
       "      <td>782.500000</td>\n",
       "      <td>365.125000</td>\n",
       "      <td>524.986111</td>\n",
       "      <td>427.333333</td>\n",
       "      <td>782.500000</td>\n",
       "      <td>365.125000</td>\n",
       "    </tr>\n",
       "    <tr>\n",
       "      <th>4</th>\n",
       "      <td>2023-01-01 04:00:00</td>\n",
       "      <td>2.0</td>\n",
       "      <td>train</td>\n",
       "      <td>712739.000000</td>\n",
       "      <td>7.0</td>\n",
       "      <td>83339168.0</td>\n",
       "      <td>3.536407e+13</td>\n",
       "      <td>45176</td>\n",
       "      <td>17320</td>\n",
       "      <td>31712</td>\n",
       "      <td>...</td>\n",
       "      <td>782.500000</td>\n",
       "      <td>365.125000</td>\n",
       "      <td>560.689583</td>\n",
       "      <td>547.566667</td>\n",
       "      <td>782.500000</td>\n",
       "      <td>365.125000</td>\n",
       "      <td>560.689583</td>\n",
       "      <td>547.566667</td>\n",
       "      <td>782.500000</td>\n",
       "      <td>365.125000</td>\n",
       "    </tr>\n",
       "    <tr>\n",
       "      <th>...</th>\n",
       "      <td>...</td>\n",
       "      <td>...</td>\n",
       "      <td>...</td>\n",
       "      <td>...</td>\n",
       "      <td>...</td>\n",
       "      <td>...</td>\n",
       "      <td>...</td>\n",
       "      <td>...</td>\n",
       "      <td>...</td>\n",
       "      <td>...</td>\n",
       "      <td>...</td>\n",
       "      <td>...</td>\n",
       "      <td>...</td>\n",
       "      <td>...</td>\n",
       "      <td>...</td>\n",
       "      <td>...</td>\n",
       "      <td>...</td>\n",
       "      <td>...</td>\n",
       "      <td>...</td>\n",
       "      <td>...</td>\n",
       "      <td>...</td>\n",
       "    </tr>\n",
       "    <tr>\n",
       "      <th>11547</th>\n",
       "      <td>2024-04-26 03:00:00</td>\n",
       "      <td>NaN</td>\n",
       "      <td>test</td>\n",
       "      <td>NaN</td>\n",
       "      <td>3.0</td>\n",
       "      <td>179820708.0</td>\n",
       "      <td>8.810419e+13</td>\n",
       "      <td>29250</td>\n",
       "      <td>18154</td>\n",
       "      <td>13601</td>\n",
       "      <td>...</td>\n",
       "      <td>2141.000000</td>\n",
       "      <td>286.571429</td>\n",
       "      <td>737.944955</td>\n",
       "      <td>516.833333</td>\n",
       "      <td>2141.000000</td>\n",
       "      <td>286.571429</td>\n",
       "      <td>748.797567</td>\n",
       "      <td>535.833333</td>\n",
       "      <td>2141.000000</td>\n",
       "      <td>286.571429</td>\n",
       "    </tr>\n",
       "    <tr>\n",
       "      <th>11548</th>\n",
       "      <td>2024-04-26 04:00:00</td>\n",
       "      <td>NaN</td>\n",
       "      <td>test</td>\n",
       "      <td>NaN</td>\n",
       "      <td>NaN</td>\n",
       "      <td>179833897.0</td>\n",
       "      <td>8.810419e+13</td>\n",
       "      <td>56580</td>\n",
       "      <td>31320</td>\n",
       "      <td>29096</td>\n",
       "      <td>...</td>\n",
       "      <td>2141.000000</td>\n",
       "      <td>286.571429</td>\n",
       "      <td>757.921145</td>\n",
       "      <td>535.833333</td>\n",
       "      <td>2141.000000</td>\n",
       "      <td>286.571429</td>\n",
       "      <td>757.232350</td>\n",
       "      <td>535.833333</td>\n",
       "      <td>2141.000000</td>\n",
       "      <td>286.571429</td>\n",
       "    </tr>\n",
       "    <tr>\n",
       "      <th>11549</th>\n",
       "      <td>2024-04-26 05:00:00</td>\n",
       "      <td>NaN</td>\n",
       "      <td>test</td>\n",
       "      <td>NaN</td>\n",
       "      <td>NaN</td>\n",
       "      <td>179851249.0</td>\n",
       "      <td>8.810419e+13</td>\n",
       "      <td>51858</td>\n",
       "      <td>34083</td>\n",
       "      <td>22094</td>\n",
       "      <td>...</td>\n",
       "      <td>2141.000000</td>\n",
       "      <td>286.571429</td>\n",
       "      <td>765.611621</td>\n",
       "      <td>627.000000</td>\n",
       "      <td>2141.000000</td>\n",
       "      <td>286.571429</td>\n",
       "      <td>743.007712</td>\n",
       "      <td>535.833333</td>\n",
       "      <td>2141.000000</td>\n",
       "      <td>286.571429</td>\n",
       "    </tr>\n",
       "    <tr>\n",
       "      <th>11550</th>\n",
       "      <td>2024-04-26 06:00:00</td>\n",
       "      <td>NaN</td>\n",
       "      <td>test</td>\n",
       "      <td>NaN</td>\n",
       "      <td>NaN</td>\n",
       "      <td>179852452.0</td>\n",
       "      <td>8.810419e+13</td>\n",
       "      <td>36270</td>\n",
       "      <td>26186</td>\n",
       "      <td>12668</td>\n",
       "      <td>...</td>\n",
       "      <td>2141.000000</td>\n",
       "      <td>286.571429</td>\n",
       "      <td>776.768084</td>\n",
       "      <td>658.000000</td>\n",
       "      <td>2141.000000</td>\n",
       "      <td>286.571429</td>\n",
       "      <td>750.942495</td>\n",
       "      <td>627.000000</td>\n",
       "      <td>2141.000000</td>\n",
       "      <td>286.571429</td>\n",
       "    </tr>\n",
       "    <tr>\n",
       "      <th>11551</th>\n",
       "      <td>2024-04-26 07:00:00</td>\n",
       "      <td>NaN</td>\n",
       "      <td>test</td>\n",
       "      <td>NaN</td>\n",
       "      <td>NaN</td>\n",
       "      <td>NaN</td>\n",
       "      <td>8.810419e+13</td>\n",
       "      <td>31851</td>\n",
       "      <td>18649</td>\n",
       "      <td>16054</td>\n",
       "      <td>...</td>\n",
       "      <td>2141.000000</td>\n",
       "      <td>286.571429</td>\n",
       "      <td>767.537925</td>\n",
       "      <td>627.000000</td>\n",
       "      <td>2141.000000</td>\n",
       "      <td>286.571429</td>\n",
       "      <td>749.428002</td>\n",
       "      <td>627.000000</td>\n",
       "      <td>2141.000000</td>\n",
       "      <td>286.571429</td>\n",
       "    </tr>\n",
       "  </tbody>\n",
       "</table>\n",
       "<p>11552 rows × 1422 columns</p>\n",
       "</div>"
      ],
      "text/plain": [
       "                        ID  target  _type  block-bytes_block_bytes  \\\n",
       "0      2023-01-01 00:00:00     2.0  train            783554.416667   \n",
       "1      2023-01-01 01:00:00     1.0  train            890760.500000   \n",
       "2      2023-01-01 02:00:00     1.0  train            558209.750000   \n",
       "3      2023-01-01 03:00:00     1.0  train            640371.800000   \n",
       "4      2023-01-01 04:00:00     2.0  train            712739.000000   \n",
       "...                    ...     ...    ...                      ...   \n",
       "11547  2024-04-26 03:00:00     NaN   test                      NaN   \n",
       "11548  2024-04-26 04:00:00     NaN   test                      NaN   \n",
       "11549  2024-04-26 05:00:00     NaN   test                      NaN   \n",
       "11550  2024-04-26 06:00:00     NaN   test                      NaN   \n",
       "11551  2024-04-26 07:00:00     NaN   test                      NaN   \n",
       "\n",
       "       block-count_block_count  utxo-count_utxo_count  difficulty_difficulty  \\\n",
       "0                         12.0             83308092.0           3.536407e+13   \n",
       "1                          4.0             83314883.0           3.536407e+13   \n",
       "2                          8.0             83314090.0           3.536407e+13   \n",
       "3                          5.0             83326258.0           3.536407e+13   \n",
       "4                          7.0             83339168.0           3.536407e+13   \n",
       "...                        ...                    ...                    ...   \n",
       "11547                      3.0            179820708.0           8.810419e+13   \n",
       "11548                      NaN            179833897.0           8.810419e+13   \n",
       "11549                      NaN            179851249.0           8.810419e+13   \n",
       "11550                      NaN            179852452.0           8.810419e+13   \n",
       "11551                      NaN                    NaN           8.810419e+13   \n",
       "\n",
       "       active_count  sender_count  receiver_count  ...  \\\n",
       "0             67987         37307           37752  ...   \n",
       "1             30593         12342           20534  ...   \n",
       "2             33897         17737           19369  ...   \n",
       "3             32717         11421           23799  ...   \n",
       "4             45176         17320           31712  ...   \n",
       "...             ...           ...             ...  ...   \n",
       "11547         29250         18154           13601  ...   \n",
       "11548         56580         31320           29096  ...   \n",
       "11549         51858         34083           22094  ...   \n",
       "11550         36270         26186           12668  ...   \n",
       "11551         31851         18649           16054  ...   \n",
       "\n",
       "       block-interval_block_interval_max_20  \\\n",
       "0                                       NaN   \n",
       "1                                427.333333   \n",
       "2                                782.500000   \n",
       "3                                782.500000   \n",
       "4                                782.500000   \n",
       "...                                     ...   \n",
       "11547                           2141.000000   \n",
       "11548                           2141.000000   \n",
       "11549                           2141.000000   \n",
       "11550                           2141.000000   \n",
       "11551                           2141.000000   \n",
       "\n",
       "       block-interval_block_interval_min_20  \\\n",
       "0                                       NaN   \n",
       "1                                427.333333   \n",
       "2                                427.333333   \n",
       "3                                365.125000   \n",
       "4                                365.125000   \n",
       "...                                     ...   \n",
       "11547                            286.571429   \n",
       "11548                            286.571429   \n",
       "11549                            286.571429   \n",
       "11550                            286.571429   \n",
       "11551                            286.571429   \n",
       "\n",
       "       block-interval_block_interval_mean_22  \\\n",
       "0                                        NaN   \n",
       "1                                 427.333333   \n",
       "2                                 604.916667   \n",
       "3                                 524.986111   \n",
       "4                                 560.689583   \n",
       "...                                      ...   \n",
       "11547                             737.944955   \n",
       "11548                             757.921145   \n",
       "11549                             765.611621   \n",
       "11550                             776.768084   \n",
       "11551                             767.537925   \n",
       "\n",
       "       block-interval_block_interval_median_22  \\\n",
       "0                                          NaN   \n",
       "1                                   427.333333   \n",
       "2                                   604.916667   \n",
       "3                                   427.333333   \n",
       "4                                   547.566667   \n",
       "...                                        ...   \n",
       "11547                               516.833333   \n",
       "11548                               535.833333   \n",
       "11549                               627.000000   \n",
       "11550                               658.000000   \n",
       "11551                               627.000000   \n",
       "\n",
       "       block-interval_block_interval_max_22  \\\n",
       "0                                       NaN   \n",
       "1                                427.333333   \n",
       "2                                782.500000   \n",
       "3                                782.500000   \n",
       "4                                782.500000   \n",
       "...                                     ...   \n",
       "11547                           2141.000000   \n",
       "11548                           2141.000000   \n",
       "11549                           2141.000000   \n",
       "11550                           2141.000000   \n",
       "11551                           2141.000000   \n",
       "\n",
       "       block-interval_block_interval_min_22  \\\n",
       "0                                       NaN   \n",
       "1                                427.333333   \n",
       "2                                427.333333   \n",
       "3                                365.125000   \n",
       "4                                365.125000   \n",
       "...                                     ...   \n",
       "11547                            286.571429   \n",
       "11548                            286.571429   \n",
       "11549                            286.571429   \n",
       "11550                            286.571429   \n",
       "11551                            286.571429   \n",
       "\n",
       "       block-interval_block_interval_mean_24  \\\n",
       "0                                        NaN   \n",
       "1                                 427.333333   \n",
       "2                                 604.916667   \n",
       "3                                 524.986111   \n",
       "4                                 560.689583   \n",
       "...                                      ...   \n",
       "11547                             748.797567   \n",
       "11548                             757.232350   \n",
       "11549                             743.007712   \n",
       "11550                             750.942495   \n",
       "11551                             749.428002   \n",
       "\n",
       "       block-interval_block_interval_median_24  \\\n",
       "0                                          NaN   \n",
       "1                                   427.333333   \n",
       "2                                   604.916667   \n",
       "3                                   427.333333   \n",
       "4                                   547.566667   \n",
       "...                                        ...   \n",
       "11547                               535.833333   \n",
       "11548                               535.833333   \n",
       "11549                               535.833333   \n",
       "11550                               627.000000   \n",
       "11551                               627.000000   \n",
       "\n",
       "       block-interval_block_interval_max_24  \\\n",
       "0                                       NaN   \n",
       "1                                427.333333   \n",
       "2                                782.500000   \n",
       "3                                782.500000   \n",
       "4                                782.500000   \n",
       "...                                     ...   \n",
       "11547                           2141.000000   \n",
       "11548                           2141.000000   \n",
       "11549                           2141.000000   \n",
       "11550                           2141.000000   \n",
       "11551                           2141.000000   \n",
       "\n",
       "       block-interval_block_interval_min_24  \n",
       "0                                       NaN  \n",
       "1                                427.333333  \n",
       "2                                427.333333  \n",
       "3                                365.125000  \n",
       "4                                365.125000  \n",
       "...                                     ...  \n",
       "11547                            286.571429  \n",
       "11548                            286.571429  \n",
       "11549                            286.571429  \n",
       "11550                            286.571429  \n",
       "11551                            286.571429  \n",
       "\n",
       "[11552 rows x 1422 columns]"
      ]
     },
     "execution_count": 15,
     "metadata": {},
     "output_type": "execute_result"
    }
   ],
   "source": [
    "conti_cols = [\"coinbase_premium_gap\", \"coinbase_premium_index\",'open_interest','block-bytes_block_bytes','funding_rates','block-count_block_count','block-interval_block_interval']\n",
    "rolling_df = rolling_feature(\n",
    "   df = df,\n",
    "   conti_cols=conti_cols,\n",
    "   intervals=[ i for i in range(2,25) if i%2==0],\n",
    "   funcs=[\"mean\", \"median\",'max','min'],\n",
    "   min_periods = 1,\n",
    "   closed = \"left\",\n",
    ")\n",
    "\n",
    "pd.concat([df, rolling_df], axis = 1)"
   ]
  },
  {
   "cell_type": "code",
   "execution_count": 16,
   "id": "6d5bf800-804c-4839-8a73-9c8e87219df5",
   "metadata": {},
   "outputs": [],
   "source": [
    "df=pd.concat([df, rolling_df], axis = 1)\n"
   ]
  },
  {
   "cell_type": "code",
   "execution_count": 17,
   "id": "ca43ce3d-df4d-4463-83b6-14841833b70e",
   "metadata": {},
   "outputs": [],
   "source": [
    "\n",
    "\n",
    "# # # 타겟 변수를 제외한 변수를 forwardfill, -999로 결측치 대체\n",
    "_target = df[\"target\"]\n",
    "df = df.ffill().fillna(-999).assign(target = _target)\n",
    "\n",
    "# _type에 따라 train, test 분리\n",
    "train_df = df.loc[df[\"_type\"]==\"train\"].drop(columns=[\"_type\"])\n",
    "test_df = df.loc[df[\"_type\"]==\"test\"].drop(columns=[\"_type\"])"
   ]
  },
  {
   "cell_type": "code",
   "execution_count": 18,
   "id": "a65e51ff-03ef-4c61-ac22-b05e4016613c",
   "metadata": {},
   "outputs": [
    {
     "data": {
      "text/plain": [
       "(7008, 1419)"
      ]
     },
     "execution_count": 18,
     "metadata": {},
     "output_type": "execute_result"
    }
   ],
   "source": [
    "x_train, x_valid, y_train, y_valid = train_test_split(\n",
    "    train_df.drop([\"target\", \"ID\"], axis=1), \n",
    "    train_df[\"target\"].astype(int), \n",
    "    test_size=0.2,\n",
    "    random_state=42,\n",
    "    stratify=train_df[\"target\"].astype(int)\n",
    ")\n",
    "x_train.shape"
   ]
  },
  {
   "cell_type": "code",
   "execution_count": 30,
   "id": "b9e1c4c2-b189-4103-ab48-05c36fa080f9",
   "metadata": {},
   "outputs": [
    {
     "name": "stderr",
     "output_type": "stream",
     "text": [
      "/Users/sinseunghun/anaconda3/envs/my_proejct/lib/python3.9/site-packages/lightgbm/engine.py:204: UserWarning: Found `n_estimators` in params. Will use it instead of argument\n",
      "  _log_warning(f\"Found `{alias}` in params. Will use it instead of argument\")\n"
     ]
    },
    {
     "name": "stdout",
     "output_type": "stream",
     "text": [
      "acc: 0.4394977168949772, auroc: 0.6170605752985875\n"
     ]
    }
   ],
   "source": [
    "def train_lgmClassifier(x_train,x_valid,y_train,y_valid):\n",
    "    \n",
    "\n",
    "# lgb dataset\n",
    "    train_data = lgb.Dataset(x_train, label=y_train)\n",
    "    valid_data = lgb.Dataset(x_valid, label=y_valid, reference=train_data)\n",
    "\n",
    "# lgb params\n",
    "    params = {\n",
    "        \"boosting_type\": \"gbdt\",\n",
    "        \"objective\": \"multiclass\",\n",
    "        \"metric\": \"multi_logloss\",\n",
    "        \"num_class\": 4,\n",
    "        \"num_leaves\": 50,\n",
    "        \"learning_rate\": 0.05,\n",
    "        \"n_estimators\": 70,\n",
    "        \"random_state\": 42,\n",
    "        \"verbose\": 0,\n",
    "    }\n",
    "\n",
    "# lgb train\n",
    "    lgb_model = lgb.train(\n",
    "        params=params,\n",
    "        train_set=train_data,\n",
    "        valid_sets=valid_data,\n",
    "    )\n",
    "\n",
    "# lgb predict\n",
    "    y_valid_pred = lgb_model.predict(x_valid)\n",
    "    y_valid_pred_class = np.argmax(y_valid_pred, axis = 1)\n",
    "\n",
    "# score check\n",
    "    accuracy = accuracy_score(y_valid, y_valid_pred_class)\n",
    "    auroc = roc_auc_score(y_valid, y_valid_pred, multi_class=\"ovr\")\n",
    "\n",
    "    print(f\"acc: {accuracy}, auroc: {auroc}\")\n",
    "    return lgb_model,accuracy\n",
    "lgb_model,accuracy=train_lgmClassifier(x_train,x_valid,y_train,y_valid)"
   ]
  },
  {
   "cell_type": "code",
   "execution_count": 56,
   "id": "8837f7d0-1001-49ac-bd14-053ff13a1559",
   "metadata": {},
   "outputs": [
    {
     "name": "stdout",
     "output_type": "stream",
     "text": [
      "acc: 0.4514840182648402, auroc: 0.6212018747617999\n"
     ]
    }
   ],
   "source": [
    "import xgboost as xgb\n",
    "from sklearn.metrics import accuracy_score, roc_auc_score\n",
    "import numpy as np\n",
    "\n",
    "def train_XGboostClassifier(x_train,x_valid,y_train,y_valid):\n",
    "    \n",
    "    # XGBoost params\n",
    "    params = {\n",
    "        \"objective\": \"multi:softprob\",  # For multiclass classification with probabilities\n",
    "        \"eval_metric\": \"mlogloss\",  # Multiclass logloss\n",
    "        \"num_class\": 4,  # Number of classes\n",
    "        \"learning_rate\": 0.05,\n",
    "        \"max_depth\": 6,  # XGBoost uses max_depth instead of num_leaves\n",
    "        \"n_estimators\": 50,\n",
    "        \"random_state\": 42,\n",
    "        \"verbosity\": 0,\n",
    "    }\n",
    "\n",
    "    # Convert data into DMatrix (XGBoost's data structure)\n",
    "    dtrain = xgb.DMatrix(x_train, label=y_train)\n",
    "    dvalid = xgb.DMatrix(x_valid, label=y_valid)\n",
    "\n",
    "# Train the model\n",
    "    xgb_model = xgb.train(\n",
    "        params=params,\n",
    "        dtrain=dtrain,\n",
    "        num_boost_round=50,\n",
    "        evals=[(dvalid, \"validation\")],\n",
    "        verbose_eval=False\n",
    "    )\n",
    "\n",
    "# XGBoost predict\n",
    "    y_valid_pred = xgb_model.predict(dvalid)  # Predict probabilities for all classes\n",
    "    y_valid_pred_class = np.argmax(y_valid_pred, axis=1)  # Get the class with the highest probability\n",
    "\n",
    "# Score check\n",
    "    accuracy = accuracy_score(y_valid, y_valid_pred_class)\n",
    "    auroc = roc_auc_score(y_valid, y_valid_pred, multi_class=\"ovr\")\n",
    "    \n",
    "    print(f\"acc: {accuracy}, auroc: {auroc}\")\n",
    "    return xgb_model,accuracy\n",
    "xgb_model,accuracy=train_XGboostClassifier(x_train,x_valid,y_train,y_valid)"
   ]
  },
  {
   "cell_type": "code",
   "execution_count": 28,
   "id": "af1f766d-8bd5-408f-8f16-679059b0e81d",
   "metadata": {},
   "outputs": [
    {
     "name": "stdout",
     "output_type": "stream",
     "text": [
      "                                            Feature  Importance\n",
      "15                                       buy_volume       134.0\n",
      "16                                      sell_volume       130.0\n",
      "161                               receiver_count_21        65.0\n",
      "17                                        buy_ratio        65.0\n",
      "889                                  volume_diff_21        63.0\n",
      "109                                 active_count_15        56.0\n",
      "24                               short_liquidations        55.0\n",
      "152                               receiver_count_12        54.0\n",
      "208  tokens-transferred_tokens_transferred_total_22        54.0\n",
      "879                                  volume_diff_11        50.0\n",
      "153                               receiver_count_13        48.0\n",
      "392                                     buy_ratio_1        46.0\n",
      "225   tokens-transferred_tokens_transferred_mean_16        45.0\n",
      "391                                  sell_volume_23        45.0\n",
      "524                             long_liquidations_1        45.0\n",
      "158                               receiver_count_18        44.0\n",
      "227   tokens-transferred_tokens_transferred_mean_18        43.0\n",
      "551                            short_liquidations_5        43.0\n",
      "38                                      volume_diff        42.0\n",
      "871                                   volume_diff_3        42.0\n",
      "159                               receiver_count_19        41.0\n",
      "43                        block-bytes_block_bytes_5        40.0\n",
      "0                           block-bytes_block_bytes        40.0\n",
      "974                            open_interest_max_24        39.0\n",
      "529                             long_liquidations_6        39.0\n",
      "54                       block-bytes_block_bytes_16        39.0\n",
      "223   tokens-transferred_tokens_transferred_mean_14        38.0\n",
      "211    tokens-transferred_tokens_transferred_mean_2        38.0\n",
      "864                         liquidation_usd_diff_19        38.0\n",
      "107                                 active_count_13        38.0\n",
      "35       transactions-count_transactions_count_mean        38.0\n",
      "9        tokens-transferred_tokens_transferred_mean        37.0\n",
      "37                             liquidation_usd_diff        37.0\n",
      "23                                long_liquidations        37.0\n",
      "126                                  sender_count_9        37.0\n",
      "8       tokens-transferred_tokens_transferred_total        37.0\n",
      "401                                    buy_ratio_10        37.0\n",
      "2                             utxo-count_utxo_count        37.0\n",
      "765                block-interval_block_interval_20        36.0\n",
      "199  tokens-transferred_tokens_transferred_total_13        36.0\n",
      "53                       block-bytes_block_bytes_15        35.0\n",
      "875                                   volume_diff_7        35.0\n",
      "187   tokens-transferred_tokens_transferred_total_1        35.0\n",
      "55                       block-bytes_block_bytes_17        33.0\n",
      "229   tokens-transferred_tokens_transferred_mean_20        33.0\n",
      "202  tokens-transferred_tokens_transferred_total_16        33.0\n",
      "872                                   volume_diff_4        33.0\n",
      "890                                  volume_diff_22        33.0\n",
      "148                                receiver_count_8        33.0\n",
      "154                               receiver_count_14        33.0\n"
     ]
    }
   ],
   "source": [
    "importance_dict = xgb_model.get_score(importance_type=\"weight\")\n",
    "\n",
    "# Convert feature importance dictionary to DataFrame\n",
    "feature_importance_df = pd.DataFrame(\n",
    "    list(importance_dict.items()), columns=['Feature', 'Importance']\n",
    ").sort_values(by='Importance', ascending=False)\n",
    "\n",
    "# Display the top 50 important features\n",
    "print(feature_importance_df.head(50))"
   ]
  },
  {
   "cell_type": "code",
   "execution_count": 31,
   "id": "1a021aa4-bb58-4e1e-8683-0635cd500968",
   "metadata": {},
   "outputs": [
    {
     "name": "stdout",
     "output_type": "stream",
     "text": [
      "                                             Feature  Importance\n",
      "16                                       sell_volume         100\n",
      "15                                        buy_volume          92\n",
      "253   tokens-transferred_tokens_transferred_total_22          50\n",
      "270    tokens-transferred_tokens_transferred_mean_16          47\n",
      "43                                       volume_diff          44\n",
      "197                                receiver_count_12          43\n",
      "249   tokens-transferred_tokens_transferred_total_18          42\n",
      "1055                                  volume_diff_19          40\n",
      "171                                   sender_count_9          40\n",
      "416                                    sell_volume_1          39\n",
      "1040                                   volume_diff_4          39\n",
      "17                                         buy_ratio          39\n",
      "1051                                  volume_diff_15          39\n",
      "8        tokens-transferred_tokens_transferred_total          38\n",
      "255     tokens-transferred_tokens_transferred_mean_1          37\n",
      "9         tokens-transferred_tokens_transferred_mean          37\n",
      "272    tokens-transferred_tokens_transferred_mean_18          37\n",
      "1047                                  volume_diff_11          36\n",
      "395                                     buy_volume_3          36\n",
      "154                                  active_count_15          35\n",
      "262     tokens-transferred_tokens_transferred_mean_8          35\n",
      "244   tokens-transferred_tokens_transferred_total_13          35\n",
      "907                  block-interval_block_interval_9          35\n",
      "1042                                   volume_diff_6          35\n",
      "203                                receiver_count_18          34\n",
      "252   tokens-transferred_tokens_transferred_total_21          34\n",
      "437                                   sell_volume_22          34\n",
      "268    tokens-transferred_tokens_transferred_mean_14          34\n",
      "623                              long_liquidations_1          34\n",
      "400                                     buy_volume_8          34\n",
      "42                              liquidation_usd_diff          33\n",
      "417                                    sell_volume_2          33\n",
      "245   tokens-transferred_tokens_transferred_total_14          33\n",
      "905                  block-interval_block_interval_7          32\n",
      "62                        block-bytes_block_bytes_15          32\n",
      "455                                     buy_ratio_17          32\n",
      "196                                receiver_count_11          32\n",
      "1417            block-interval_block_interval_max_24          31\n",
      "199                                receiver_count_14          31\n",
      "1057                                  volume_diff_21          31\n",
      "237    tokens-transferred_tokens_transferred_total_6          31\n",
      "235    tokens-transferred_tokens_transferred_total_4          31\n",
      "27                             long_liquidations_usd          31\n",
      "152                                  active_count_13          31\n",
      "69                        block-bytes_block_bytes_22          30\n",
      "908                 block-interval_block_interval_10          30\n",
      "198                                receiver_count_13          30\n",
      "193                                 receiver_count_8          30\n",
      "60                        block-bytes_block_bytes_13          30\n",
      "250   tokens-transferred_tokens_transferred_total_19          30\n"
     ]
    }
   ],
   "source": [
    "importance = lgb_model.feature_importance()\n",
    "feature_names=train_df.drop([\"target\", \"ID\"], axis = 1).columns\n",
    "feature_importance_df = pd.DataFrame({\n",
    "    'Feature': feature_names,\n",
    "    'Importance': importance\n",
    "})\n",
    "\n",
    "# Sort by importance (optional)\n",
    "feature_importance_df = feature_importance_df.sort_values(by='Importance', ascending=False)\n",
    "\n",
    "# Display the DataFrame\n",
    "print(feature_importance_df[:50])\n"
   ]
  },
  {
   "cell_type": "markdown",
   "id": "bf888435-c256-451d-bf63-56d6ddc1356e",
   "metadata": {},
   "source": [
    "# feature 걸러내기"
   ]
  },
  {
   "cell_type": "code",
   "execution_count": 32,
   "id": "5a1fbadd-1bc5-49c4-94e1-014067a9c546",
   "metadata": {},
   "outputs": [
    {
     "data": {
      "text/plain": [
       "target                   1.000000\n",
       "sell_ratio               0.049467\n",
       "long_liquidations        0.041983\n",
       "long_liquidations_usd    0.041855\n",
       "liquidation_usd_diff     0.035344\n",
       "                           ...   \n",
       "volume_diffg            -0.038850\n",
       "buy_ratio               -0.049467\n",
       "buy_sell_ratio          -0.051326\n",
       "buy_sell_volume_ratio   -0.051326\n",
       "volume_diff             -0.063269\n",
       "Name: target, Length: 1420, dtype: float64"
      ]
     },
     "execution_count": 32,
     "metadata": {},
     "output_type": "execute_result"
    }
   ],
   "source": [
    "# 상관계수 행렬로 변수간 상관관계 확인\n",
    "# method='pearson' :  변수간 선형 상관계수 확인 \n",
    "train_df = train_df.drop(columns=[\"ID\"])\n",
    "corr_mat = train_df.corr(method='pearson')\n",
    "corr_mat['target'].sort_values(ascending =False)\n"
   ]
  },
  {
   "cell_type": "code",
   "execution_count": 34,
   "id": "2f1cbcd1-26de-41a5-8049-6b7dcb743dc7",
   "metadata": {},
   "outputs": [
    {
     "name": "stdout",
     "output_type": "stream",
     "text": [
      "['target', 'sell_volume', 'buy_ratio', 'sell_ratio', 'buy_sell_ratio', 'long_liquidations', 'long_liquidations_usd', 'coinbase_premium_index', 'liquidation_diff', 'liquidation_usd_diff', 'volume_diff', 'liquidation_diffg', 'liquidation_usd_diffg', 'volume_diffg', 'buy_sell_volume_ratio', 'receiver_count_5', 'hashrate_hashrate_12', 'tokens-transferred_tokens_transferred_total_19', 'blockreward_blockreward_usd_12', 'buy_volume_1', 'buy_volume_19', 'sell_volume_1', 'sell_volume_19', 'fees_fees_block_mean_usd_5', 'short_liquidations_1', 'short_liquidations_2', 'short_liquidations_13', 'short_liquidations_usd_1', 'short_liquidations_usd_13', 'short_liquidations_usd_19', 'block-interval_block_interval_19', 'transactions-count_transactions_count_mean_20', 'liquidation_usd_diff_17', 'volume_diff_6', 'volume_diff_7', 'volume_diff_17', 'volume_diff_23']\n"
     ]
    },
    {
     "data": {
      "text/plain": [
       "((7008, 36), (1752, 36))"
      ]
     },
     "execution_count": 34,
     "metadata": {},
     "output_type": "execute_result"
    }
   ],
   "source": [
    "corr_threshold = 0.02\n",
    "\n",
    "high_var_col = corr_mat[(corr_mat['target'] >= corr_threshold) | (corr_mat['target'] <= -corr_threshold )].index.to_list()\n",
    "print(high_var_col)\n",
    "high_var_col.remove(\"target\")\n",
    "\n",
    "x_train_sel = x_train[high_var_col]\n",
    "x_valid_sel = x_valid[high_var_col]\n",
    "x_train_sel.shape, x_valid_sel.shape"
   ]
  },
  {
   "cell_type": "code",
   "execution_count": 35,
   "id": "605d288f-36cf-41a4-b1c3-f0db24c90e47",
   "metadata": {},
   "outputs": [
    {
     "name": "stdout",
     "output_type": "stream",
     "text": [
      "Lgm classifier :\n"
     ]
    },
    {
     "name": "stderr",
     "output_type": "stream",
     "text": [
      "/Users/sinseunghun/anaconda3/envs/my_proejct/lib/python3.9/site-packages/lightgbm/engine.py:204: UserWarning: Found `n_estimators` in params. Will use it instead of argument\n",
      "  _log_warning(f\"Found `{alias}` in params. Will use it instead of argument\")\n"
     ]
    },
    {
     "name": "stdout",
     "output_type": "stream",
     "text": [
      "acc: 0.4400684931506849, auroc: 0.5934593203900673\n",
      "Xgboost classifier:\n",
      "acc: 0.4320776255707763, auroc: 0.5927157207645082\n"
     ]
    },
    {
     "data": {
      "text/plain": [
       "(<xgboost.core.Booster at 0x164b1d7f0>, 0.4320776255707763)"
      ]
     },
     "execution_count": 35,
     "metadata": {},
     "output_type": "execute_result"
    }
   ],
   "source": [
    "print(\"Lgm classifier :\")\n",
    "train_lgmClassifier(x_train_sel,x_valid_sel,y_train,y_valid)\n",
    "print(\"Xgboost classifier:\")\n",
    "train_XGboostClassifier(x_train_sel,x_valid_sel,y_train,y_valid)"
   ]
  },
  {
   "cell_type": "markdown",
   "id": "908bba17-a311-4253-ac8d-e61265b25219",
   "metadata": {},
   "source": [
    "# Down"
   ]
  },
  {
   "cell_type": "code",
   "execution_count": 36,
   "id": "eebea949-c768-46a6-a58e-57551d1557cb",
   "metadata": {},
   "outputs": [
    {
     "data": {
      "text/plain": [
       "(7008, 1412)"
      ]
     },
     "execution_count": 36,
     "metadata": {},
     "output_type": "execute_result"
    }
   ],
   "source": [
    "from sklearn.feature_selection import VarianceThreshold\n",
    "\n",
    "# 분산이 var_threshold보다 낮은 피쳐를 제거 \n",
    "var_threshold = 1e-2\n",
    "selector = VarianceThreshold(var_threshold) \n",
    "x_train_sel = selector.fit_transform(x_train)\n",
    "x_valid_sel = selector.transform(x_valid)\n",
    "x_train_sel.shape\n"
   ]
  },
  {
   "cell_type": "code",
   "execution_count": 37,
   "id": "de4fe66c-d058-4af3-9506-c4504e3d34c1",
   "metadata": {},
   "outputs": [
    {
     "name": "stdout",
     "output_type": "stream",
     "text": [
      "Lgm classifier :\n"
     ]
    },
    {
     "name": "stderr",
     "output_type": "stream",
     "text": [
      "/Users/sinseunghun/anaconda3/envs/my_proejct/lib/python3.9/site-packages/lightgbm/engine.py:204: UserWarning: Found `n_estimators` in params. Will use it instead of argument\n",
      "  _log_warning(f\"Found `{alias}` in params. Will use it instead of argument\")\n"
     ]
    },
    {
     "name": "stdout",
     "output_type": "stream",
     "text": [
      "acc: 0.4355022831050228, auroc: 0.6249072928012848\n",
      "Xgboost classifier:\n",
      "acc: 0.4389269406392694, auroc: 0.6231216815984177\n"
     ]
    },
    {
     "data": {
      "text/plain": [
       "(<xgboost.core.Booster at 0x177427d30>, 0.4389269406392694)"
      ]
     },
     "execution_count": 37,
     "metadata": {},
     "output_type": "execute_result"
    }
   ],
   "source": [
    "print(\"Lgm classifier :\")\n",
    "train_lgmClassifier(x_train_sel,x_valid_sel,y_train,y_valid)\n",
    "print(\"Xgboost classifier:\")\n",
    "train_XGboostClassifier(x_train_sel,x_valid_sel,y_train,y_valid)"
   ]
  },
  {
   "cell_type": "markdown",
   "id": "6fec296c-baa8-4eb0-a9bf-8f778d6af365",
   "metadata": {},
   "source": [
    "# f_classif - anova fvalue"
   ]
  },
  {
   "cell_type": "code",
   "execution_count": 57,
   "id": "1ca379f6-1a76-4be5-b4d1-d7698cfccc14",
   "metadata": {},
   "outputs": [],
   "source": [
    "from sklearn.feature_selection import f_classif, SelectKBest\n",
    "feature_names = x_train.columns  \n",
    "n_feature= 200\n",
    "selector1 = SelectKBest(f_classif, k=n_feature)\n",
    "x_train_sel = selector1.fit_transform(x_train, y_train)\n",
    "x_valid_sel = selector1.transform(x_valid)"
   ]
  },
  {
   "cell_type": "code",
   "execution_count": 58,
   "id": "86c30045-c44e-47f6-9316-c29cf1c6a1df",
   "metadata": {
    "scrolled": true
   },
   "outputs": [
    {
     "name": "stdout",
     "output_type": "stream",
     "text": [
      "Lgm classifier :\n"
     ]
    },
    {
     "name": "stderr",
     "output_type": "stream",
     "text": [
      "/Users/sinseunghun/anaconda3/envs/my_proejct/lib/python3.9/site-packages/lightgbm/engine.py:204: UserWarning: Found `n_estimators` in params. Will use it instead of argument\n",
      "  _log_warning(f\"Found `{alias}` in params. Will use it instead of argument\")\n"
     ]
    },
    {
     "name": "stdout",
     "output_type": "stream",
     "text": [
      "acc: 0.4417808219178082, auroc: 0.6083358694833765\n",
      "Xgboost classifier:\n",
      "acc: 0.4434931506849315, auroc: 0.6210620238902292\n"
     ]
    },
    {
     "data": {
      "text/plain": [
       "(<xgboost.core.Booster at 0x28ca734f0>, 0.4434931506849315)"
      ]
     },
     "execution_count": 58,
     "metadata": {},
     "output_type": "execute_result"
    }
   ],
   "source": [
    "print(\"Lgm classifier :\")\n",
    "train_lgmClassifier(x_train_sel,x_valid_sel,y_train,y_valid)\n",
    "print(\"Xgboost classifier:\")\n",
    "train_XGboostClassifier(x_train_sel,x_valid_sel,y_train,y_valid)"
   ]
  },
  {
   "cell_type": "code",
   "execution_count": 59,
   "id": "49eeed26-628b-4c29-96b9-0b8f00771128",
   "metadata": {},
   "outputs": [
    {
     "data": {
      "text/plain": [
       "Index(['tokens-transferred_tokens_transferred_total',\n",
       "       'tokens-transferred_tokens_transferred_mean', 'open_interest',\n",
       "       'buy_volume', 'sell_volume', 'buy_ratio', 'sell_ratio',\n",
       "       'buy_sell_ratio', 'long_liquidations', 'short_liquidations',\n",
       "       'long_liquidations_usd', 'short_liquidations_usd',\n",
       "       'coinbase_premium_gap', 'coinbase_premium_index', 'volume_diff',\n",
       "       'liquidation_diffg', 'liquidation_usd_diffg', 'volume_diffg',\n",
       "       'buy_sell_volume_ratio',\n",
       "       'tokens-transferred_tokens_transferred_total_1',\n",
       "       'tokens-transferred_tokens_transferred_total_2',\n",
       "       'tokens-transferred_tokens_transferred_total_3',\n",
       "       'tokens-transferred_tokens_transferred_total_4',\n",
       "       'tokens-transferred_tokens_transferred_total_8',\n",
       "       'tokens-transferred_tokens_transferred_total_22', 'open_interest_1',\n",
       "       'open_interest_2', 'open_interest_3', 'open_interest_4',\n",
       "       'open_interest_5', 'open_interest_6', 'open_interest_7',\n",
       "       'open_interest_8', 'open_interest_9', 'open_interest_10',\n",
       "       'open_interest_11', 'open_interest_12', 'open_interest_13',\n",
       "       'open_interest_14', 'open_interest_15', 'open_interest_16',\n",
       "       'open_interest_17', 'open_interest_18', 'open_interest_19',\n",
       "       'open_interest_20', 'open_interest_21', 'open_interest_22',\n",
       "       'open_interest_23', 'buy_volume_1', 'buy_volume_2', 'buy_volume_3',\n",
       "       'buy_volume_4', 'buy_volume_5', 'buy_volume_6', 'buy_volume_7',\n",
       "       'buy_volume_8', 'buy_volume_11', 'buy_volume_16', 'buy_volume_17',\n",
       "       'buy_volume_18', 'buy_volume_19', 'buy_volume_20', 'buy_volume_21',\n",
       "       'buy_volume_22', 'buy_volume_23', 'sell_volume_1', 'sell_volume_2',\n",
       "       'sell_volume_3', 'sell_volume_4', 'sell_volume_5', 'sell_volume_6',\n",
       "       'sell_volume_7', 'sell_volume_8', 'sell_volume_9', 'sell_volume_11',\n",
       "       'sell_volume_16', 'sell_volume_17', 'sell_volume_18', 'sell_volume_19',\n",
       "       'sell_volume_20', 'sell_volume_21', 'sell_volume_22', 'sell_volume_23',\n",
       "       'long_liquidations_1', 'short_liquidations_1', 'short_liquidations_2',\n",
       "       'short_liquidations_3', 'short_liquidations_21',\n",
       "       'short_liquidations_23', 'long_liquidations_usd_1',\n",
       "       'short_liquidations_usd_1', 'short_liquidations_usd_2',\n",
       "       'short_liquidations_usd_3', 'short_liquidations_usd_4',\n",
       "       'short_liquidations_usd_21', 'short_liquidations_usd_23',\n",
       "       'coinbase_premium_gap_1', 'coinbase_premium_gap_2',\n",
       "       'coinbase_premium_gap_3', 'coinbase_premium_gap_4'],\n",
       "      dtype='object')"
      ]
     },
     "execution_count": 59,
     "metadata": {},
     "output_type": "execute_result"
    }
   ],
   "source": [
    "selected_features_mask = selector1.get_support()\n",
    "\n",
    "# Get the names of the selected features\n",
    "selected_features = feature_names[selected_features_mask]\n",
    "selected_features[:100]"
   ]
  },
  {
   "cell_type": "markdown",
   "id": "a541fa78-e2e8-48cb-b88c-ee4ac1624122",
   "metadata": {},
   "source": [
    "## SelectFromModel ExtraTreesClassifier"
   ]
  },
  {
   "cell_type": "code",
   "execution_count": 62,
   "id": "bcad3ebf-6dcc-49e3-85f3-7af7ecc4f882",
   "metadata": {},
   "outputs": [
    {
     "name": "stderr",
     "output_type": "stream",
     "text": [
      "/Users/sinseunghun/anaconda3/envs/my_proejct/lib/python3.9/site-packages/sklearn/base.py:486: UserWarning: X has feature names, but SelectFromModel was fitted without feature names\n",
      "  warnings.warn(\n",
      "/Users/sinseunghun/anaconda3/envs/my_proejct/lib/python3.9/site-packages/sklearn/base.py:486: UserWarning: X has feature names, but SelectFromModel was fitted without feature names\n",
      "  warnings.warn(\n"
     ]
    }
   ],
   "source": [
    "from sklearn.feature_selection import SelectFromModel\n",
    "from sklearn.ensemble import ExtraTreesClassifier\n",
    "\n",
    "# 선택할 피쳐의 갯수\n",
    "num_max_features = 200\n",
    "\n",
    "# 50개의 결정 트리를 갖는 ExtraTreesClassifier 모델을 생성\n",
    "model_sel = ExtraTreesClassifier(n_estimators=50).fit(x_train, y_train)\n",
    "\n",
    "# 학습된 ExtraTreesClassifier 모델(model_sel)을 사용하여 feature selection을 수행\n",
    "selector = SelectFromModel(model_sel, prefit=True, max_features=num_max_features)\n",
    "x_train_sel = selector.transform(x_train)\n",
    "x_valid_sel = selector.transform(x_valid)"
   ]
  },
  {
   "cell_type": "code",
   "execution_count": 63,
   "id": "50abfcfb-020a-4638-9724-a8bb4db12683",
   "metadata": {},
   "outputs": [
    {
     "name": "stderr",
     "output_type": "stream",
     "text": [
      "/Users/sinseunghun/anaconda3/envs/my_proejct/lib/python3.9/site-packages/lightgbm/engine.py:204: UserWarning: Found `n_estimators` in params. Will use it instead of argument\n",
      "  _log_warning(f\"Found `{alias}` in params. Will use it instead of argument\")\n"
     ]
    },
    {
     "name": "stdout",
     "output_type": "stream",
     "text": [
      "Lgm classifier :\n",
      "acc: 0.4275114155251142, auroc: 0.5904757814679427\n",
      "Xgboost classifier:\n",
      "acc: 0.4457762557077626, auroc: 0.5858536678679428\n"
     ]
    },
    {
     "data": {
      "text/plain": [
       "(<xgboost.core.Booster at 0x28ca73370>, 0.4457762557077626)"
      ]
     },
     "execution_count": 63,
     "metadata": {},
     "output_type": "execute_result"
    }
   ],
   "source": [
    "print(\"Lgm classifier :\")\n",
    "train_lgmClassifier(x_train_sel,x_valid_sel,y_train,y_valid)\n",
    "print(\"Xgboost classifier:\")\n",
    "train_XGboostClassifier(x_train_sel,x_valid_sel,y_train,y_valid)"
   ]
  },
  {
   "cell_type": "markdown",
   "id": "cb96a71f-4429-47de-bafa-eb406292735c",
   "metadata": {},
   "source": [
    "# Cross valiadtion\n"
   ]
  },
  {
   "cell_type": "code",
   "execution_count": 64,
   "id": "d4a650c2-fce0-4f1c-80dd-d867578ff6d3",
   "metadata": {},
   "outputs": [],
   "source": [
    "RANDOM_SEED=42"
   ]
  },
  {
   "cell_type": "code",
   "execution_count": 65,
   "id": "83101f39-232b-41b8-b935-ea93052317ae",
   "metadata": {},
   "outputs": [
    {
     "name": "stderr",
     "output_type": "stream",
     "text": [
      "/Users/sinseunghun/anaconda3/envs/my_proejct/lib/python3.9/site-packages/lightgbm/engine.py:204: UserWarning: Found `n_estimators` in params. Will use it instead of argument\n",
      "  _log_warning(f\"Found `{alias}` in params. Will use it instead of argument\")\n"
     ]
    },
    {
     "name": "stdout",
     "output_type": "stream",
     "text": [
      "acc: 0.4400684931506849, auroc: 0.6150620275827994\n",
      "acc: 0.4412100456621005, auroc: 0.6299835505981054\n"
     ]
    },
    {
     "name": "stderr",
     "output_type": "stream",
     "text": [
      "/Users/sinseunghun/anaconda3/envs/my_proejct/lib/python3.9/site-packages/lightgbm/engine.py:204: UserWarning: Found `n_estimators` in params. Will use it instead of argument\n",
      "  _log_warning(f\"Found `{alias}` in params. Will use it instead of argument\")\n"
     ]
    },
    {
     "name": "stdout",
     "output_type": "stream",
     "text": [
      "acc: 0.4269406392694064, auroc: 0.6287895461440638\n",
      "acc: 0.4452054794520548, auroc: 0.6338856323333695\n"
     ]
    },
    {
     "name": "stderr",
     "output_type": "stream",
     "text": [
      "/Users/sinseunghun/anaconda3/envs/my_proejct/lib/python3.9/site-packages/lightgbm/engine.py:204: UserWarning: Found `n_estimators` in params. Will use it instead of argument\n",
      "  _log_warning(f\"Found `{alias}` in params. Will use it instead of argument\")\n"
     ]
    },
    {
     "name": "stdout",
     "output_type": "stream",
     "text": [
      "acc: 0.4263698630136986, auroc: 0.6122184134619\n",
      "acc: 0.4275114155251142, auroc: 0.6161333354723829\n"
     ]
    },
    {
     "name": "stderr",
     "output_type": "stream",
     "text": [
      "/Users/sinseunghun/anaconda3/envs/my_proejct/lib/python3.9/site-packages/lightgbm/engine.py:204: UserWarning: Found `n_estimators` in params. Will use it instead of argument\n",
      "  _log_warning(f\"Found `{alias}` in params. Will use it instead of argument\")\n"
     ]
    },
    {
     "name": "stdout",
     "output_type": "stream",
     "text": [
      "acc: 0.4343607305936073, auroc: 0.6187462076452501\n",
      "acc: 0.45662100456621, auroc: 0.6132083987533256\n"
     ]
    },
    {
     "name": "stderr",
     "output_type": "stream",
     "text": [
      "/Users/sinseunghun/anaconda3/envs/my_proejct/lib/python3.9/site-packages/lightgbm/engine.py:204: UserWarning: Found `n_estimators` in params. Will use it instead of argument\n",
      "  _log_warning(f\"Found `{alias}` in params. Will use it instead of argument\")\n"
     ]
    },
    {
     "name": "stdout",
     "output_type": "stream",
     "text": [
      "acc: 0.4172374429223744, auroc: 0.6225679546115073\n",
      "acc: 0.4337899543378995, auroc: 0.6303566747654855\n"
     ]
    }
   ],
   "source": [
    "from sklearn.model_selection import StratifiedKFold\n",
    "from sklearn.feature_selection import SelectKBest, f_classif\n",
    "\n",
    "# Initialize StratifiedKFold to maintain class proportions\n",
    "k_fold = StratifiedKFold(n_splits=5, shuffle=True, random_state=42)\n",
    "\n",
    "# List to store predictions\n",
    "pred_lgm = []\n",
    "pred_xgb = []\n",
    "\n",
    "# Perform cross-validation with stratification\n",
    "for train_idx, val_idx in k_fold.split(train_df.drop([\"target\"], axis=1), train_df[\"target\"]):\n",
    "    # Train and validation sets\n",
    "    x_tr = train_df.drop([\"target\"], axis=1).iloc[train_idx]\n",
    "    y_tr = train_df['target'].iloc[train_idx]\n",
    "    x_val = train_df.drop([\"target\"], axis=1).iloc[val_idx]\n",
    "    y_val = train_df['target'].iloc[val_idx]\n",
    "\n",
    "    # Select top 200 features using SelectKBest with f_classif\n",
    "    n_feature = 200\n",
    "    selector1 = SelectKBest(f_classif, k=n_feature)\n",
    "    x_tr_sel = selector1.fit_transform(x_tr, y_tr)\n",
    "    x_val_sel = selector1.transform(x_val)\n",
    "    _,accuracy=train_lgmClassifier(x_tr_sel, x_val_sel, y_tr, y_val)\n",
    "    # Train and get predictions for LGBM and XGBoost\n",
    "    pred_lgm.append(accuracy)\n",
    "    _,accuracy=train_XGboostClassifier(x_tr_sel, x_val_sel, y_tr, y_val)\n",
    "    pred_xgb.append(accuracy)\n"
   ]
  },
  {
   "cell_type": "code",
   "execution_count": 67,
   "id": "3620b559-0211-4be7-ab1f-56e38682430d",
   "metadata": {},
   "outputs": [
    {
     "name": "stdout",
     "output_type": "stream",
     "text": [
      "0.4289954337899543\n",
      "0.4408675799086758\n"
     ]
    }
   ],
   "source": [
    "print(np.mean(pred_lgm))\n",
    "print(np.mean(pred_xgb))"
   ]
  },
  {
   "cell_type": "code",
   "execution_count": null,
   "id": "6b7aed34-160b-4b7d-a2ba-a64042a47456",
   "metadata": {},
   "outputs": [],
   "source": [
    "# x_test=test_df.drop(columns=['target','ID'])\n",
    "# x_test=selector1.transform(x_test)"
   ]
  },
  {
   "cell_type": "code",
   "execution_count": 85,
   "id": "75d32679-cae4-4927-81b7-b54dc6fb3d1f",
   "metadata": {},
   "outputs": [],
   "source": [
    "# performance 체크후 전체 학습 데이터로 다시 재학습\n",
    "# x_train = train_df.drop([\"target\"], axis = 1)\n",
    "# y_train = train_df[\"target\"].astype(int)\n",
    "# n_feature= 200\n",
    "# selector1 = SelectKBest(f_classif, k=n_feature)\n",
    "# x_train_sel = selector1.fit_transform(x_train, y_train)\n",
    "# params = {\n",
    "#         \"objective\": \"multi:softprob\",  # For multiclass classification with probabilities\n",
    "#         \"eval_metric\": \"mlogloss\",  # Multiclass logloss\n",
    "#         \"num_class\": 4,  # Number of classes\n",
    "#         \"learning_rate\": 0.05,\n",
    "#         \"max_depth\": 6,  # XGBoost uses max_depth instead of num_leaves\n",
    "#         \"random_state\": 42,\n",
    "#         \"verbosity\": 0,\n",
    "#     }\n",
    "# dtrain = xgb.DMatrix(x_train_sel, label=y_train)\n",
    "\n",
    "# # Step 5: Train the model using xgb.train\n",
    "# xgb_model = xgb.train(\n",
    "#     params=params,\n",
    "#     dtrain=dtrain,\n",
    "#     num_boost_round=50,\n",
    "#     verbose_eval=False  # Set to True if you want to see progress\n",
    "# )\n",
    "\n",
    "# # Step 6: Prepare the test set by dropping unnecessary columns\n",
    "# x_test = test_df.drop(columns=['target', 'ID'])\n",
    "\n",
    "# # Step 7: Apply the same feature selection to the test set\n",
    "# x_test_sel = selector1.transform(x_test)\n",
    "\n",
    "# # Step 8: Convert the test set to DMatrix (required for prediction)\n",
    "# dtest = xgb.DMatrix(x_test_sel)\n",
    "\n",
    "# # Step 9: Predict class probabilities for the test set\n",
    "# y_test_pred = xgb_model.predict(dtest)\n",
    "\n",
    "# # Step 10: Get the predicted class by selecting the class with the highest probability\n",
    "# y_test_pred_class = np.argmax(y_test_pred, axis=1)\n",
    "\n"
   ]
  },
  {
   "cell_type": "code",
   "execution_count": 86,
   "id": "d03a2947-ad94-435a-aaf4-9c91b211f011",
   "metadata": {
    "scrolled": true
   },
   "outputs": [
    {
     "data": {
      "text/plain": [
       "array([[4.04390475e+04, 1.03455406e+10, 2.32407067e+08, ...,\n",
       "        2.18950000e+03, 6.78528290e+02, 2.18950000e+03],\n",
       "       [1.89696525e+04, 1.04016515e+10, 2.50681096e+08, ...,\n",
       "        2.18950000e+03, 7.04315790e+02, 2.18950000e+03],\n",
       "       [1.20699077e+04, 1.03959417e+10, 1.07727948e+08, ...,\n",
       "        2.18950000e+03, 7.00642811e+02, 2.18950000e+03],\n",
       "       ...,\n",
       "       [2.22622436e+04, 1.48683608e+10, 3.20161937e+08, ...,\n",
       "        2.14100000e+03, 7.43007712e+02, 2.14100000e+03],\n",
       "       [3.33492974e+04, 1.48683608e+10, 3.20161937e+08, ...,\n",
       "        2.14100000e+03, 7.50942495e+02, 2.14100000e+03],\n",
       "       [5.73043530e+04, 1.48683608e+10, 3.20161937e+08, ...,\n",
       "        2.14100000e+03, 7.49428002e+02, 2.14100000e+03]])"
      ]
     },
     "execution_count": 86,
     "metadata": {},
     "output_type": "execute_result"
    }
   ],
   "source": [
    "x_train = train_df.drop([\"target\", \"ID\"], axis = 1)\n",
    "y_train = train_df[\"target\"].astype(int)\n",
    "train_data = lgb.Dataset(x_train, label=y_train)\n",
    "lgb_model = lgb.train(\n",
    "    params=params,\n",
    "    train_set=train_data,\n",
    ")"
   ]
  },
  {
   "cell_type": "code",
   "execution_count": null,
   "id": "f94ae832-66c9-4fbf-bba1-4b926b8ad284",
   "metadata": {},
   "outputs": [],
   "source": [
    "y_test_pred = lgb_model.predict(test_df.drop([\"target\", \"ID\"], axis = 1))\n",
    "y_test_pred_class = np.argmax(y_test_pred, axis = 1)"
   ]
  },
  {
   "cell_type": "code",
   "execution_count": 87,
   "id": "b398d971-2809-433c-957a-4a5e3ca77116",
   "metadata": {},
   "outputs": [],
   "source": [
    "# output file 할당후 save \n",
    "submission_df = submission_df.assign(target = y_test_pred_class)\n",
    "submission_df.to_csv(\"output.csv\", index=False)"
   ]
  },
  {
   "cell_type": "code",
   "execution_count": null,
   "id": "12a87426-187e-44ec-bab7-6a2b6eb1df04",
   "metadata": {},
   "outputs": [],
   "source": []
  }
 ],
 "metadata": {
  "kernelspec": {
   "display_name": "Python 3 (ipykernel)",
   "language": "python",
   "name": "python3"
  },
  "language_info": {
   "codemirror_mode": {
    "name": "ipython",
    "version": 3
   },
   "file_extension": ".py",
   "mimetype": "text/x-python",
   "name": "python",
   "nbconvert_exporter": "python",
   "pygments_lexer": "ipython3",
   "version": "3.9.19"
  }
 },
 "nbformat": 4,
 "nbformat_minor": 5
}
